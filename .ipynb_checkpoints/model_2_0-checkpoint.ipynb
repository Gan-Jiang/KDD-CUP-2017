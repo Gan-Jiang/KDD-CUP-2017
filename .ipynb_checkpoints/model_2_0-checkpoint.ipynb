{
 "cells": [
  {
   "cell_type": "code",
   "execution_count": 21,
   "metadata": {
    "collapsed": true
   },
   "outputs": [],
   "source": [
    "import numpy as np\n",
    "import pandas as pd\n",
    "import util\n",
    "import ml_alg\n",
    "import matplotlib.pyplot as plt\n",
    "import math\n",
    "%matplotlib inline"
   ]
  },
  {
   "cell_type": "code",
   "execution_count": 2,
   "metadata": {
    "collapsed": true
   },
   "outputs": [],
   "source": [
    "train_path = 'dataSets/training/'\n",
    "test_path = \"dataSets/testing_phase1/\""
   ]
  },
  {
   "cell_type": "code",
   "execution_count": 3,
   "metadata": {
    "collapsed": true
   },
   "outputs": [],
   "source": [
    "train_df = pd.read_csv(train_path + 'data_2_0_final.csv', index_col=0)\n",
    "test_df = pd.read_csv(test_path + 'data_2_0_final.csv', index_col=0)"
   ]
  },
  {
   "cell_type": "code",
   "execution_count": 4,
   "metadata": {
    "collapsed": true
   },
   "outputs": [],
   "source": [
    "y_train = train_df.pop('volume')\n",
    "test_df.drop(['volume'], axis=1, inplace=True)"
   ]
  },
  {
   "cell_type": "code",
   "execution_count": 5,
   "metadata": {
    "collapsed": true
   },
   "outputs": [],
   "source": [
    "all_df = pd.concat((train_df, test_df), axis=0)"
   ]
  },
  {
   "cell_type": "code",
   "execution_count": 6,
   "metadata": {
    "collapsed": false
   },
   "outputs": [
    {
     "data": {
      "text/plain": [
       "(2172, 570)"
      ]
     },
     "execution_count": 6,
     "metadata": {},
     "output_type": "execute_result"
    }
   ],
   "source": [
    "all_df.shape"
   ]
  },
  {
   "cell_type": "code",
   "execution_count": 7,
   "metadata": {
    "collapsed": false,
    "scrolled": true
   },
   "outputs": [
    {
     "data": {
      "text/html": [
       "<div>\n",
       "<table border=\"1\" class=\"dataframe\">\n",
       "  <thead>\n",
       "    <tr style=\"text-align: right;\">\n",
       "      <th></th>\n",
       "      <th>pressure</th>\n",
       "      <th>sea_pressure</th>\n",
       "      <th>wind_direction</th>\n",
       "      <th>wind_speed</th>\n",
       "      <th>temperature</th>\n",
       "      <th>rel_humidity</th>\n",
       "      <th>precipitation</th>\n",
       "      <th>dayofweek</th>\n",
       "      <th>hour</th>\n",
       "      <th>A2_1</th>\n",
       "      <th>...</th>\n",
       "      <th>vt0_1_0_11</th>\n",
       "      <th>vt0_1_1_11</th>\n",
       "      <th>vt0_2_0_11</th>\n",
       "      <th>vt0_3_0_11</th>\n",
       "      <th>vt0_3_1_11</th>\n",
       "      <th>vt1_1_0_11</th>\n",
       "      <th>vt1_1_1_11</th>\n",
       "      <th>vt1_2_0_11</th>\n",
       "      <th>vt1_3_0_11</th>\n",
       "      <th>vt1_3_1_11</th>\n",
       "    </tr>\n",
       "    <tr>\n",
       "      <th>time_window</th>\n",
       "      <th></th>\n",
       "      <th></th>\n",
       "      <th></th>\n",
       "      <th></th>\n",
       "      <th></th>\n",
       "      <th></th>\n",
       "      <th></th>\n",
       "      <th></th>\n",
       "      <th></th>\n",
       "      <th></th>\n",
       "      <th></th>\n",
       "      <th></th>\n",
       "      <th></th>\n",
       "      <th></th>\n",
       "      <th></th>\n",
       "      <th></th>\n",
       "      <th></th>\n",
       "      <th></th>\n",
       "      <th></th>\n",
       "      <th></th>\n",
       "      <th></th>\n",
       "    </tr>\n",
       "  </thead>\n",
       "  <tbody>\n",
       "    <tr>\n",
       "      <th>2016-09-19 00:00:00</th>\n",
       "      <td>1008.2</td>\n",
       "      <td>1013.2</td>\n",
       "      <td>329</td>\n",
       "      <td>2.8</td>\n",
       "      <td>22.2</td>\n",
       "      <td>76</td>\n",
       "      <td>0.0</td>\n",
       "      <td>0</td>\n",
       "      <td>0</td>\n",
       "      <td>NaN</td>\n",
       "      <td>...</td>\n",
       "      <td>NaN</td>\n",
       "      <td>NaN</td>\n",
       "      <td>NaN</td>\n",
       "      <td>NaN</td>\n",
       "      <td>NaN</td>\n",
       "      <td>NaN</td>\n",
       "      <td>NaN</td>\n",
       "      <td>NaN</td>\n",
       "      <td>NaN</td>\n",
       "      <td>NaN</td>\n",
       "    </tr>\n",
       "    <tr>\n",
       "      <th>2016-09-19 00:20:00</th>\n",
       "      <td>1008.2</td>\n",
       "      <td>1013.2</td>\n",
       "      <td>329</td>\n",
       "      <td>2.8</td>\n",
       "      <td>22.2</td>\n",
       "      <td>76</td>\n",
       "      <td>0.0</td>\n",
       "      <td>0</td>\n",
       "      <td>0</td>\n",
       "      <td>100.190000</td>\n",
       "      <td>...</td>\n",
       "      <td>NaN</td>\n",
       "      <td>NaN</td>\n",
       "      <td>NaN</td>\n",
       "      <td>NaN</td>\n",
       "      <td>NaN</td>\n",
       "      <td>NaN</td>\n",
       "      <td>NaN</td>\n",
       "      <td>NaN</td>\n",
       "      <td>NaN</td>\n",
       "      <td>NaN</td>\n",
       "    </tr>\n",
       "    <tr>\n",
       "      <th>2016-09-19 00:40:00</th>\n",
       "      <td>1008.2</td>\n",
       "      <td>1013.2</td>\n",
       "      <td>329</td>\n",
       "      <td>2.8</td>\n",
       "      <td>22.2</td>\n",
       "      <td>76</td>\n",
       "      <td>0.0</td>\n",
       "      <td>0</td>\n",
       "      <td>0</td>\n",
       "      <td>52.630000</td>\n",
       "      <td>...</td>\n",
       "      <td>NaN</td>\n",
       "      <td>NaN</td>\n",
       "      <td>NaN</td>\n",
       "      <td>NaN</td>\n",
       "      <td>NaN</td>\n",
       "      <td>NaN</td>\n",
       "      <td>NaN</td>\n",
       "      <td>NaN</td>\n",
       "      <td>NaN</td>\n",
       "      <td>NaN</td>\n",
       "    </tr>\n",
       "    <tr>\n",
       "      <th>2016-09-19 01:00:00</th>\n",
       "      <td>1008.2</td>\n",
       "      <td>1013.2</td>\n",
       "      <td>329</td>\n",
       "      <td>2.8</td>\n",
       "      <td>22.2</td>\n",
       "      <td>76</td>\n",
       "      <td>0.0</td>\n",
       "      <td>0</td>\n",
       "      <td>1</td>\n",
       "      <td>48.146667</td>\n",
       "      <td>...</td>\n",
       "      <td>NaN</td>\n",
       "      <td>NaN</td>\n",
       "      <td>NaN</td>\n",
       "      <td>NaN</td>\n",
       "      <td>NaN</td>\n",
       "      <td>NaN</td>\n",
       "      <td>NaN</td>\n",
       "      <td>NaN</td>\n",
       "      <td>NaN</td>\n",
       "      <td>NaN</td>\n",
       "    </tr>\n",
       "    <tr>\n",
       "      <th>2016-09-19 01:20:00</th>\n",
       "      <td>1008.2</td>\n",
       "      <td>1013.2</td>\n",
       "      <td>329</td>\n",
       "      <td>2.8</td>\n",
       "      <td>22.2</td>\n",
       "      <td>76</td>\n",
       "      <td>0.0</td>\n",
       "      <td>0</td>\n",
       "      <td>1</td>\n",
       "      <td>68.013478</td>\n",
       "      <td>...</td>\n",
       "      <td>NaN</td>\n",
       "      <td>NaN</td>\n",
       "      <td>NaN</td>\n",
       "      <td>NaN</td>\n",
       "      <td>NaN</td>\n",
       "      <td>NaN</td>\n",
       "      <td>NaN</td>\n",
       "      <td>NaN</td>\n",
       "      <td>NaN</td>\n",
       "      <td>NaN</td>\n",
       "    </tr>\n",
       "  </tbody>\n",
       "</table>\n",
       "<p>5 rows × 570 columns</p>\n",
       "</div>"
      ],
      "text/plain": [
       "                     pressure  sea_pressure  wind_direction  wind_speed  \\\n",
       "time_window                                                               \n",
       "2016-09-19 00:00:00    1008.2        1013.2             329         2.8   \n",
       "2016-09-19 00:20:00    1008.2        1013.2             329         2.8   \n",
       "2016-09-19 00:40:00    1008.2        1013.2             329         2.8   \n",
       "2016-09-19 01:00:00    1008.2        1013.2             329         2.8   \n",
       "2016-09-19 01:20:00    1008.2        1013.2             329         2.8   \n",
       "\n",
       "                     temperature  rel_humidity  precipitation  dayofweek  \\\n",
       "time_window                                                                \n",
       "2016-09-19 00:00:00         22.2            76            0.0          0   \n",
       "2016-09-19 00:20:00         22.2            76            0.0          0   \n",
       "2016-09-19 00:40:00         22.2            76            0.0          0   \n",
       "2016-09-19 01:00:00         22.2            76            0.0          0   \n",
       "2016-09-19 01:20:00         22.2            76            0.0          0   \n",
       "\n",
       "                     hour        A2_1     ...      vt0_1_0_11  vt0_1_1_11  \\\n",
       "time_window                               ...                               \n",
       "2016-09-19 00:00:00     0         NaN     ...             NaN         NaN   \n",
       "2016-09-19 00:20:00     0  100.190000     ...             NaN         NaN   \n",
       "2016-09-19 00:40:00     0   52.630000     ...             NaN         NaN   \n",
       "2016-09-19 01:00:00     1   48.146667     ...             NaN         NaN   \n",
       "2016-09-19 01:20:00     1   68.013478     ...             NaN         NaN   \n",
       "\n",
       "                     vt0_2_0_11  vt0_3_0_11  vt0_3_1_11  vt1_1_0_11  \\\n",
       "time_window                                                           \n",
       "2016-09-19 00:00:00         NaN         NaN         NaN         NaN   \n",
       "2016-09-19 00:20:00         NaN         NaN         NaN         NaN   \n",
       "2016-09-19 00:40:00         NaN         NaN         NaN         NaN   \n",
       "2016-09-19 01:00:00         NaN         NaN         NaN         NaN   \n",
       "2016-09-19 01:20:00         NaN         NaN         NaN         NaN   \n",
       "\n",
       "                     vt1_1_1_11  vt1_2_0_11  vt1_3_0_11  vt1_3_1_11  \n",
       "time_window                                                          \n",
       "2016-09-19 00:00:00         NaN         NaN         NaN         NaN  \n",
       "2016-09-19 00:20:00         NaN         NaN         NaN         NaN  \n",
       "2016-09-19 00:40:00         NaN         NaN         NaN         NaN  \n",
       "2016-09-19 01:00:00         NaN         NaN         NaN         NaN  \n",
       "2016-09-19 01:20:00         NaN         NaN         NaN         NaN  \n",
       "\n",
       "[5 rows x 570 columns]"
      ]
     },
     "execution_count": 7,
     "metadata": {},
     "output_type": "execute_result"
    }
   ],
   "source": [
    "all_df.head()"
   ]
  },
  {
   "cell_type": "code",
   "execution_count": 8,
   "metadata": {
    "collapsed": false
   },
   "outputs": [
    {
     "data": {
      "text/plain": [
       "pressure           0\n",
       "sea_pressure       0\n",
       "wind_direction     0\n",
       "wind_speed         0\n",
       "temperature        0\n",
       "rel_humidity       0\n",
       "precipitation      0\n",
       "dayofweek          0\n",
       "hour               0\n",
       "A2_1              71\n",
       "A3_1              71\n",
       "B1_1              71\n",
       "B3_1              71\n",
       "C1_1              71\n",
       "C3_1              71\n",
       "ve0_1_0_1         71\n",
       "ve0_1_1_1         71\n",
       "ve0_2_0_1         71\n",
       "ve0_3_0_1         71\n",
       "ve0_3_1_1         71\n",
       "ve1_1_0_1         71\n",
       "ve1_1_1_1         71\n",
       "ve1_2_0_1         71\n",
       "ve1_3_0_1         71\n",
       "ve1_3_1_1         71\n",
       "vm0_1_0_1         71\n",
       "vm0_1_1_1         71\n",
       "vm0_2_0_1         71\n",
       "vm0_3_0_1         71\n",
       "vm0_3_1_1         71\n",
       "                  ..\n",
       "vm1_1_0_11        81\n",
       "vm1_1_1_11        81\n",
       "vm1_2_0_11        81\n",
       "vm1_3_0_11        81\n",
       "vm1_3_1_11        81\n",
       "vm2_1_0_11        81\n",
       "vm2_1_1_11        81\n",
       "vm2_2_0_11        81\n",
       "vm2_3_0_11        81\n",
       "vm2_3_1_11        81\n",
       "vm3_1_0_11        81\n",
       "vm3_1_1_11        81\n",
       "vm3_2_0_11        81\n",
       "vm3_3_0_11        81\n",
       "vm3_3_1_11        81\n",
       "volume_1_0_11     81\n",
       "volume_1_1_11     81\n",
       "volume_2_0_11     81\n",
       "volume_3_0_11     81\n",
       "volume_3_1_11     81\n",
       "vt0_1_0_11        81\n",
       "vt0_1_1_11        81\n",
       "vt0_2_0_11        81\n",
       "vt0_3_0_11        81\n",
       "vt0_3_1_11        81\n",
       "vt1_1_0_11        81\n",
       "vt1_1_1_11        81\n",
       "vt1_2_0_11        81\n",
       "vt1_3_0_11        81\n",
       "vt1_3_1_11        81\n",
       "dtype: int64"
      ]
     },
     "execution_count": 8,
     "metadata": {},
     "output_type": "execute_result"
    }
   ],
   "source": [
    "all_df.isnull().sum()"
   ]
  },
  {
   "cell_type": "code",
   "execution_count": 9,
   "metadata": {
    "collapsed": false
   },
   "outputs": [
    {
     "data": {
      "text/plain": [
       "dtype('int64')"
      ]
     },
     "execution_count": 9,
     "metadata": {},
     "output_type": "execute_result"
    }
   ],
   "source": [
    "all_df['dayofweek'].dtypes"
   ]
  },
  {
   "cell_type": "code",
   "execution_count": 10,
   "metadata": {
    "collapsed": false
   },
   "outputs": [],
   "source": [
    "dweek = pd.get_dummies(all_df['dayofweek'], prefix='dayofweek')"
   ]
  },
  {
   "cell_type": "code",
   "execution_count": 11,
   "metadata": {
    "collapsed": true
   },
   "outputs": [],
   "source": [
    "dhour = pd.get_dummies(all_df['hour'], prefix='hour')"
   ]
  },
  {
   "cell_type": "code",
   "execution_count": 12,
   "metadata": {
    "collapsed": false
   },
   "outputs": [],
   "source": [
    "numeric_cols = all_df.columns[all_df.dtypes != 'object']\n",
    "numeric_col_means = all_df.loc[:, numeric_cols].mean()\n",
    "numeric_col_std = all_df.loc[:, numeric_cols].std(ddof=0)\n",
    "all_df.loc[:, numeric_cols] = (all_df.loc[:, numeric_cols] - numeric_col_means) / numeric_col_std"
   ]
  },
  {
   "cell_type": "code",
   "execution_count": 13,
   "metadata": {
    "collapsed": true
   },
   "outputs": [],
   "source": [
    "all_df.drop(['hour'], axis=1, inplace=True)\n",
    "all_df.drop(['dayofweek'], axis=1, inplace=True)\n",
    "all_df = pd.concat([all_df, dweek, dhour], axis=1)"
   ]
  },
  {
   "cell_type": "code",
   "execution_count": 14,
   "metadata": {
    "collapsed": false
   },
   "outputs": [
    {
     "data": {
      "text/plain": [
       "pressure             0\n",
       "sea_pressure         0\n",
       "wind_direction       0\n",
       "wind_speed           0\n",
       "temperature          0\n",
       "rel_humidity         0\n",
       "precipitation        0\n",
       "A2_1                71\n",
       "A3_1                71\n",
       "B1_1                71\n",
       "B3_1                71\n",
       "C1_1                71\n",
       "C3_1                71\n",
       "ve0_1_0_1           71\n",
       "ve0_1_1_1           71\n",
       "ve0_2_0_1           71\n",
       "ve0_3_0_1           71\n",
       "ve0_3_1_1           71\n",
       "ve1_1_0_1           71\n",
       "ve1_1_1_1           71\n",
       "ve1_2_0_1           71\n",
       "ve1_3_0_1           71\n",
       "ve1_3_1_1           71\n",
       "vm0_1_0_1           71\n",
       "vm0_1_1_1         2172\n",
       "vm0_2_0_1           71\n",
       "vm0_3_0_1           71\n",
       "vm0_3_1_1         2172\n",
       "vm1_1_0_1           71\n",
       "vm1_1_1_1           71\n",
       "                  ... \n",
       "volume_2_0_11       81\n",
       "volume_3_0_11       81\n",
       "volume_3_1_11       81\n",
       "vt0_1_0_11        2172\n",
       "vt0_1_1_11          81\n",
       "vt0_2_0_11        2172\n",
       "vt0_3_0_11        2172\n",
       "vt0_3_1_11          81\n",
       "vt1_1_0_11        2172\n",
       "vt1_1_1_11          81\n",
       "vt1_2_0_11        2172\n",
       "vt1_3_0_11        2172\n",
       "vt1_3_1_11          81\n",
       "dayofweek_0          0\n",
       "dayofweek_1          0\n",
       "dayofweek_2          0\n",
       "dayofweek_3          0\n",
       "hour_0               0\n",
       "hour_1               0\n",
       "hour_2               0\n",
       "hour_3               0\n",
       "hour_6               0\n",
       "hour_7               0\n",
       "hour_8               0\n",
       "hour_9               0\n",
       "hour_17              0\n",
       "hour_18              0\n",
       "hour_19              0\n",
       "hour_20              0\n",
       "hour_21              0\n",
       "dtype: int64"
      ]
     },
     "execution_count": 14,
     "metadata": {},
     "output_type": "execute_result"
    }
   ],
   "source": [
    "all_df.isnull().sum()"
   ]
  },
  {
   "cell_type": "markdown",
   "metadata": {},
   "source": [
    "# Training want to predict 8:00 - 8:20"
   ]
  },
  {
   "cell_type": "code",
   "execution_count": 15,
   "metadata": {
    "collapsed": true
   },
   "outputs": [],
   "source": [
    "dummy_train_df = all_df.loc[train_df.index]\n",
    "dummy_test_df = all_df.loc[test_df.index]"
   ]
  },
  {
   "cell_type": "code",
   "execution_count": 16,
   "metadata": {
    "collapsed": false
   },
   "outputs": [],
   "source": [
    "dummy_train_df_1 = dummy_train_df.ix['2016-09-19 02:00:00':]"
   ]
  },
  {
   "cell_type": "code",
   "execution_count": 18,
   "metadata": {
    "collapsed": false
   },
   "outputs": [],
   "source": [
    "y_train1 = y_train.ix['2016-09-19 02:00:00':]"
   ]
  },
  {
   "cell_type": "code",
   "execution_count": 19,
   "metadata": {
    "collapsed": true
   },
   "outputs": [],
   "source": [
    "X_train = dummy_train_df.values\n",
    "X_test = dummy_test_df.values"
   ]
  },
  {
   "cell_type": "markdown",
   "metadata": {},
   "source": [
    "## Try ridge regression as baseline. "
   ]
  },
  {
   "cell_type": "code",
   "execution_count": 20,
   "metadata": {
    "collapsed": true
   },
   "outputs": [],
   "source": [
    "from sklearn.linear_model import Ridge\n",
    "from sklearn.model_selection import cross_val_score\n",
    "import time"
   ]
  },
  {
   "cell_type": "markdown",
   "metadata": {},
   "source": [
    "### As MAPE is not listed in sklearn. Write my own metric. "
   ]
  },
  {
   "cell_type": "code",
   "execution_count": null,
   "metadata": {
    "collapsed": true
   },
   "outputs": [],
   "source": [
    "from sklearn.metrics import make_scorer\n",
    "def MAPE(ground_truth, predictions):\n",
    "    ground_truth[ground_truth == 0] = math.inf\n",
    "    diff = np.abs((ground_truth - predictions)/ground_truth).mean()\n",
    "    return diff\n",
    "\n",
    "loss  = make_scorer(MAPE, greater_is_better=False)"
   ]
  },
  {
   "cell_type": "code",
   "execution_count": 22,
   "metadata": {
    "collapsed": false,
    "scrolled": true
   },
   "outputs": [
    {
     "data": {
      "text/plain": [
       "-6.9077552789821368"
      ]
     },
     "execution_count": 22,
     "metadata": {},
     "output_type": "execute_result"
    }
   ],
   "source": [
    "alphas = np.logspace(-3, 2, 50)\n",
    "test_scores = []\n",
    "for alpha in alphas:\n",
    "    start_time = time.time()\n",
    "    clf = Ridge(alpha)\n",
    "    test_score = cross_val_score(clf, X_train, y_train, cv=10, scoring=loss).mean()\n",
    "    test_scores.append(test_score)\n",
    "    print(\"alpha:\" + str(alpha) + \" loss = \" + str(test_score))\n",
    "    print(\"time:\" + str(time.time() - start_time))"
   ]
  }
 ],
 "metadata": {
  "kernelspec": {
   "display_name": "Python [conda root]",
   "language": "python",
   "name": "conda-root-py"
  },
  "language_info": {
   "codemirror_mode": {
    "name": "ipython",
    "version": 3
   },
   "file_extension": ".py",
   "mimetype": "text/x-python",
   "name": "python",
   "nbconvert_exporter": "python",
   "pygments_lexer": "ipython3",
   "version": "3.5.3"
  }
 },
 "nbformat": 4,
 "nbformat_minor": 2
}
