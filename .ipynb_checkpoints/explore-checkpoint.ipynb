{
 "cells": [
  {
   "cell_type": "code",
   "execution_count": 2,
   "metadata": {
    "collapsed": true
   },
   "outputs": [],
   "source": [
    "import numpy as np\n",
    "import pandas as pd\n",
    "import util\n",
    "import ml_alg\n",
    "import matplotlib.pyplot as plt\n",
    "%matplotlib inline"
   ]
  },
  {
   "cell_type": "code",
   "execution_count": 3,
   "metadata": {
    "collapsed": true
   },
   "outputs": [],
   "source": [
    "train_path = 'dataSets/training/'\n",
    "test_path = \"dataSets/testing_phase1/\""
   ]
  },
  {
   "cell_type": "markdown",
   "metadata": {},
   "source": [
    "# Read data"
   ]
  },
  {
   "cell_type": "code",
   "execution_count": 11,
   "metadata": {
    "collapsed": false
   },
   "outputs": [],
   "source": [
    "volume_data = pd.read_csv(train_path + 'volume(table 6)_training.csv', header = 0, error_bad_lines=False)\n",
    "weather_data = pd.read_csv(train_path + 'weather (table 7)_training.csv', header = 0, error_bad_lines=False)\n",
    "trajectories = pd.read_csv(train_path + 'trajectories(table 5)_training.csv', header = 0, error_bad_lines=False)\n",
    "route = pd.read_csv(train_path + 'routes (table 4).csv', header = 0, error_bad_lines=False)\n",
    "links = pd.read_csv(train_path + 'links (table 3).csv', header = 0, error_bad_lines=False)"
   ]
  },
  {
   "cell_type": "code",
   "execution_count": 49,
   "metadata": {
    "collapsed": false
   },
   "outputs": [],
   "source": [
    "test_trajectories = pd.read_csv(test_path + 'trajectories(table 5)_test1.csv', header = 0, error_bad_lines=False)\n",
    "test_volume_data = pd.read_csv(test_path + 'volume(table 6)_test1.csv', header = 0, error_bad_lines=False)\n",
    "test_weather_data = pd.read_csv(test_path + 'weather (table 7)_test1.csv', header = 0, error_bad_lines=False)"
   ]
  },
  {
   "cell_type": "code",
   "execution_count": 12,
   "metadata": {
    "collapsed": false,
    "scrolled": false
   },
   "outputs": [
    {
     "data": {
      "text/html": [
       "<div>\n",
       "<table border=\"1\" class=\"dataframe\">\n",
       "  <thead>\n",
       "    <tr style=\"text-align: right;\">\n",
       "      <th></th>\n",
       "      <th>time</th>\n",
       "      <th>tollgate_id</th>\n",
       "      <th>direction</th>\n",
       "      <th>vehicle_model</th>\n",
       "      <th>has_etc</th>\n",
       "      <th>vehicle_type</th>\n",
       "    </tr>\n",
       "  </thead>\n",
       "  <tbody>\n",
       "    <tr>\n",
       "      <th>0</th>\n",
       "      <td>2016-09-19 23:09:25</td>\n",
       "      <td>2</td>\n",
       "      <td>0</td>\n",
       "      <td>1</td>\n",
       "      <td>0</td>\n",
       "      <td>NaN</td>\n",
       "    </tr>\n",
       "    <tr>\n",
       "      <th>1</th>\n",
       "      <td>2016-09-19 23:11:53</td>\n",
       "      <td>2</td>\n",
       "      <td>0</td>\n",
       "      <td>1</td>\n",
       "      <td>0</td>\n",
       "      <td>NaN</td>\n",
       "    </tr>\n",
       "    <tr>\n",
       "      <th>2</th>\n",
       "      <td>2016-09-19 23:13:54</td>\n",
       "      <td>2</td>\n",
       "      <td>0</td>\n",
       "      <td>1</td>\n",
       "      <td>0</td>\n",
       "      <td>NaN</td>\n",
       "    </tr>\n",
       "    <tr>\n",
       "      <th>3</th>\n",
       "      <td>2016-09-19 23:17:48</td>\n",
       "      <td>1</td>\n",
       "      <td>0</td>\n",
       "      <td>1</td>\n",
       "      <td>1</td>\n",
       "      <td>NaN</td>\n",
       "    </tr>\n",
       "    <tr>\n",
       "      <th>4</th>\n",
       "      <td>2016-09-19 23:16:07</td>\n",
       "      <td>2</td>\n",
       "      <td>0</td>\n",
       "      <td>1</td>\n",
       "      <td>0</td>\n",
       "      <td>NaN</td>\n",
       "    </tr>\n",
       "  </tbody>\n",
       "</table>\n",
       "</div>"
      ],
      "text/plain": [
       "                  time  tollgate_id  direction  vehicle_model  has_etc  \\\n",
       "0  2016-09-19 23:09:25            2          0              1        0   \n",
       "1  2016-09-19 23:11:53            2          0              1        0   \n",
       "2  2016-09-19 23:13:54            2          0              1        0   \n",
       "3  2016-09-19 23:17:48            1          0              1        1   \n",
       "4  2016-09-19 23:16:07            2          0              1        0   \n",
       "\n",
       "   vehicle_type  \n",
       "0           NaN  \n",
       "1           NaN  \n",
       "2           NaN  \n",
       "3           NaN  \n",
       "4           NaN  "
      ]
     },
     "execution_count": 12,
     "metadata": {},
     "output_type": "execute_result"
    }
   ],
   "source": [
    "volume_data.head()"
   ]
  },
  {
   "cell_type": "markdown",
   "metadata": {},
   "source": [
    "### Check info"
   ]
  },
  {
   "cell_type": "code",
   "execution_count": 14,
   "metadata": {
    "collapsed": false
   },
   "outputs": [
    {
     "name": "stdout",
     "output_type": "stream",
     "text": [
      "<class 'pandas.core.frame.DataFrame'>\n",
      "RangeIndex: 543699 entries, 0 to 543698\n",
      "Data columns (total 6 columns):\n",
      "time             543699 non-null object\n",
      "tollgate_id      543699 non-null int64\n",
      "direction        543699 non-null int64\n",
      "vehicle_model    543699 non-null int64\n",
      "has_etc          543699 non-null int64\n",
      "vehicle_type     212710 non-null float64\n",
      "dtypes: float64(1), int64(4), object(1)\n",
      "memory usage: 24.9+ MB\n"
     ]
    }
   ],
   "source": [
    "volume_data.info()"
   ]
  },
  {
   "cell_type": "markdown",
   "metadata": {},
   "source": [
    "Only vehicle_type has NaN values(a lot). From the FAQ, we know the “vehicle_type” column describes the type of vehicles when they exit the highway (direction =1). That column would be NULL when a vehicle enters the highway (direction = 0)."
   ]
  },
  {
   "cell_type": "code",
   "execution_count": 33,
   "metadata": {
    "collapsed": false
   },
   "outputs": [
    {
     "name": "stderr",
     "output_type": "stream",
     "text": [
      "/Users/Solomon/anaconda3/anaconda/lib/python3.5/site-packages/ipykernel/__main__.py:1: UserWarning: Boolean Series key will be reindexed to match DataFrame index.\n",
      "  if __name__ == '__main__':\n"
     ]
    },
    {
     "data": {
      "text/html": [
       "<div>\n",
       "<table border=\"1\" class=\"dataframe\">\n",
       "  <thead>\n",
       "    <tr style=\"text-align: right;\">\n",
       "      <th></th>\n",
       "      <th>time</th>\n",
       "      <th>tollgate_id</th>\n",
       "      <th>direction</th>\n",
       "      <th>vehicle_model</th>\n",
       "      <th>has_etc</th>\n",
       "      <th>vehicle_type</th>\n",
       "    </tr>\n",
       "  </thead>\n",
       "  <tbody>\n",
       "  </tbody>\n",
       "</table>\n",
       "</div>"
      ],
      "text/plain": [
       "Empty DataFrame\n",
       "Columns: [time, tollgate_id, direction, vehicle_model, has_etc, vehicle_type]\n",
       "Index: []"
      ]
     },
     "execution_count": 33,
     "metadata": {},
     "output_type": "execute_result"
    }
   ],
   "source": [
    "volume_data[volume_data['vehicle_type'].isnull()][volume_data['direction'] == 1]"
   ]
  },
  {
   "cell_type": "code",
   "execution_count": 36,
   "metadata": {
    "collapsed": false
   },
   "outputs": [
    {
     "name": "stderr",
     "output_type": "stream",
     "text": [
      "/Users/Solomon/anaconda3/anaconda/lib/python3.5/site-packages/ipykernel/__main__.py:1: UserWarning: Boolean Series key will be reindexed to match DataFrame index.\n",
      "  if __name__ == '__main__':\n"
     ]
    },
    {
     "data": {
      "text/html": [
       "<div>\n",
       "<table border=\"1\" class=\"dataframe\">\n",
       "  <thead>\n",
       "    <tr style=\"text-align: right;\">\n",
       "      <th></th>\n",
       "      <th>time</th>\n",
       "      <th>tollgate_id</th>\n",
       "      <th>direction</th>\n",
       "      <th>vehicle_model</th>\n",
       "      <th>has_etc</th>\n",
       "      <th>vehicle_type</th>\n",
       "    </tr>\n",
       "  </thead>\n",
       "  <tbody>\n",
       "  </tbody>\n",
       "</table>\n",
       "</div>"
      ],
      "text/plain": [
       "Empty DataFrame\n",
       "Columns: [time, tollgate_id, direction, vehicle_model, has_etc, vehicle_type]\n",
       "Index: []"
      ]
     },
     "execution_count": 36,
     "metadata": {},
     "output_type": "execute_result"
    }
   ],
   "source": [
    "volume_data[volume_data['vehicle_type'].notnull()][volume_data['direction'] == 0]"
   ]
  },
  {
   "cell_type": "markdown",
   "metadata": {},
   "source": [
    "Therefore, if vehicle_type is null, the direction must be 0. If direction is 1, the vehicle type is not null. Only vehicle_model, has_etc, vehicle_type can be features. They are all categorical features. The vehicle_type is 0(passenger vehicle) or 1(cargo vehicle). We should replace null to 2 which represents unknown. "
   ]
  },
  {
   "cell_type": "code",
   "execution_count": 38,
   "metadata": {
    "collapsed": false
   },
   "outputs": [
    {
     "data": {
      "image/png": "[encoded data removed]",
      "text/plain": [
       "<matplotlib.figure.Figure at 0x118b864e0>"
      ]
     },
     "metadata": {},
     "output_type": "display_data"
    }
   ],
   "source": [
    "util.plot_feature_hist(volume_data['direction'], 'Volume', 'Two directions')"
   ]
  },
  {
   "cell_type": "markdown",
   "metadata": {},
   "source": [
    "Direction: 0: entry, 1: exit. Entries much larger. This should because tollgate 2 only allows traffic entering the highway. "
   ]
  },
  {
   "cell_type": "code",
   "execution_count": 39,
   "metadata": {
    "collapsed": false
   },
   "outputs": [
    {
     "data": {
      "image/png": "[encoded data removed]",
      "text/plain": [
       "<matplotlib.figure.Figure at 0x11c38f4a8>"
      ]
     },
     "metadata": {},
     "output_type": "display_data"
    }
   ],
   "source": [
    "util.plot_feature_hist(volume_data[volume_data['tollgate_id'] != 2]['direction'], 'Volume', 'Two directions')"
   ]
  },
  {
   "cell_type": "markdown",
   "metadata": {},
   "source": [
    "Much balanced but still entries larger. "
   ]
  },
  {
   "cell_type": "code",
   "execution_count": 40,
   "metadata": {
    "collapsed": false
   },
   "outputs": [
    {
     "data": {
      "image/png": "[encoded data removed]",
      "text/plain": [
       "<matplotlib.figure.Figure at 0x11c394128>"
      ]
     },
     "metadata": {},
     "output_type": "display_data"
    }
   ],
   "source": [
    "util.plot_feature_hist(volume_data['vehicle_model'], 'Volume', 'vehicle_model')"
   ]
  },
  {
   "cell_type": "code",
   "execution_count": 41,
   "metadata": {
    "collapsed": false
   },
   "outputs": [
    {
     "data": {
      "image/png": "[encoded data removed]",
      "text/plain": [
       "<matplotlib.figure.Figure at 0x11778b6a0>"
      ]
     },
     "metadata": {},
     "output_type": "display_data"
    }
   ],
   "source": [
    "util.plot_feature_hist(volume_data['has_etc'], 'Volume', 'has_etc')"
   ]
  },
  {
   "cell_type": "code",
   "execution_count": 42,
   "metadata": {
    "collapsed": false
   },
   "outputs": [
    {
     "data": {
      "image/png": "[encoded data removed]",
      "text/plain": [
       "<matplotlib.figure.Figure at 0x117eade80>"
      ]
     },
     "metadata": {},
     "output_type": "display_data"
    }
   ],
   "source": [
    "util.plot_feature_hist(volume_data['vehicle_type'], 'Volume', 'vehicle_type')"
   ]
  },
  {
   "cell_type": "markdown",
   "metadata": {},
   "source": [
    "The number of passenger vehicle is much larger, and the number of vehicle with capacity 1 is much larger. "
   ]
  },
  {
   "cell_type": "code",
   "execution_count": 45,
   "metadata": {
    "collapsed": false
   },
   "outputs": [
    {
     "data": {
      "image/png": "[encoded data removed]",
      "text/plain": [
       "<matplotlib.figure.Figure at 0x117fc6a90>"
      ]
     },
     "metadata": {},
     "output_type": "display_data"
    }
   ],
   "source": [
    "util.plot_feature_hist(volume_data[volume_data['tollgate_id'] ==1]['vehicle_type'], 'Volume', 'vehicle_type')"
   ]
  },
  {
   "cell_type": "code",
   "execution_count": 47,
   "metadata": {
    "collapsed": false
   },
   "outputs": [
    {
     "data": {
      "image/png": "[encoded data removed]",
      "text/plain": [
       "<matplotlib.figure.Figure at 0x11872d320>"
      ]
     },
     "metadata": {},
     "output_type": "display_data"
    }
   ],
   "source": [
    "util.plot_feature_hist(volume_data[volume_data['tollgate_id'] ==3]['vehicle_type'], 'Volume', 'vehicle_type')"
   ]
  },
  {
   "cell_type": "markdown",
   "metadata": {},
   "source": [
    "This illustrates that the distribution for different stations are different. "
   ]
  },
  {
   "cell_type": "code",
   "execution_count": 50,
   "metadata": {
    "collapsed": false
   },
   "outputs": [
    {
     "data": {
      "text/html": [
       "<div>\n",
       "<table border=\"1\" class=\"dataframe\">\n",
       "  <thead>\n",
       "    <tr style=\"text-align: right;\">\n",
       "      <th></th>\n",
       "      <th>time</th>\n",
       "      <th>tollgate_id</th>\n",
       "      <th>direction</th>\n",
       "      <th>vehicle_model</th>\n",
       "      <th>has_etc</th>\n",
       "      <th>vehicle_type</th>\n",
       "    </tr>\n",
       "  </thead>\n",
       "  <tbody>\n",
       "    <tr>\n",
       "      <th>0</th>\n",
       "      <td>2016-10-18 07:59:04</td>\n",
       "      <td>2</td>\n",
       "      <td>0</td>\n",
       "      <td>1</td>\n",
       "      <td>1</td>\n",
       "      <td>NaN</td>\n",
       "    </tr>\n",
       "    <tr>\n",
       "      <th>1</th>\n",
       "      <td>2016-10-18 07:59:31</td>\n",
       "      <td>2</td>\n",
       "      <td>0</td>\n",
       "      <td>1</td>\n",
       "      <td>1</td>\n",
       "      <td>NaN</td>\n",
       "    </tr>\n",
       "    <tr>\n",
       "      <th>2</th>\n",
       "      <td>2016-10-18 07:59:50</td>\n",
       "      <td>2</td>\n",
       "      <td>0</td>\n",
       "      <td>1</td>\n",
       "      <td>1</td>\n",
       "      <td>NaN</td>\n",
       "    </tr>\n",
       "    <tr>\n",
       "      <th>3</th>\n",
       "      <td>2016-10-18 07:32:33</td>\n",
       "      <td>3</td>\n",
       "      <td>0</td>\n",
       "      <td>1</td>\n",
       "      <td>1</td>\n",
       "      <td>NaN</td>\n",
       "    </tr>\n",
       "    <tr>\n",
       "      <th>4</th>\n",
       "      <td>2016-10-18 07:32:46</td>\n",
       "      <td>3</td>\n",
       "      <td>0</td>\n",
       "      <td>1</td>\n",
       "      <td>1</td>\n",
       "      <td>NaN</td>\n",
       "    </tr>\n",
       "  </tbody>\n",
       "</table>\n",
       "</div>"
      ],
      "text/plain": [
       "                  time  tollgate_id  direction  vehicle_model  has_etc  \\\n",
       "0  2016-10-18 07:59:04            2          0              1        1   \n",
       "1  2016-10-18 07:59:31            2          0              1        1   \n",
       "2  2016-10-18 07:59:50            2          0              1        1   \n",
       "3  2016-10-18 07:32:33            3          0              1        1   \n",
       "4  2016-10-18 07:32:46            3          0              1        1   \n",
       "\n",
       "   vehicle_type  \n",
       "0           NaN  \n",
       "1           NaN  \n",
       "2           NaN  \n",
       "3           NaN  \n",
       "4           NaN  "
      ]
     },
     "execution_count": 50,
     "metadata": {},
     "output_type": "execute_result"
    }
   ],
   "source": [
    "test_volume_data.head()"
   ]
  },
  {
   "cell_type": "code",
   "execution_count": 51,
   "metadata": {
    "collapsed": false
   },
   "outputs": [
    {
     "name": "stdout",
     "output_type": "stream",
     "text": [
      "<class 'pandas.core.frame.DataFrame'>\n",
      "RangeIndex: 29441 entries, 0 to 29440\n",
      "Data columns (total 6 columns):\n",
      "time             29441 non-null object\n",
      "tollgate_id      29441 non-null int64\n",
      "direction        29441 non-null int64\n",
      "vehicle_model    29441 non-null int64\n",
      "has_etc          29441 non-null int64\n",
      "vehicle_type     12715 non-null float64\n",
      "dtypes: float64(1), int64(4), object(1)\n",
      "memory usage: 1.3+ MB\n"
     ]
    }
   ],
   "source": [
    "test_volume_data.info()"
   ]
  },
  {
   "cell_type": "code",
   "execution_count": 54,
   "metadata": {
    "collapsed": false
   },
   "outputs": [
    {
     "data": {
      "image/png": "[encoded data removed]",
      "text/plain": [
       "<matplotlib.figure.Figure at 0x117ea6c18>"
      ]
     },
     "metadata": {},
     "output_type": "display_data"
    }
   ],
   "source": [
    "util.plot_feature_hist(test_volume_data['has_etc'], 'Volume', 'vehicle_type')"
   ]
  },
  {
   "cell_type": "markdown",
   "metadata": {},
   "source": [
    "The distribution is similar to training data. "
   ]
  },
  {
   "cell_type": "code",
   "execution_count": 55,
   "metadata": {
    "collapsed": false
   },
   "outputs": [
    {
     "data": {
      "text/html": [
       "<div>\n",
       "<table border=\"1\" class=\"dataframe\">\n",
       "  <thead>\n",
       "    <tr style=\"text-align: right;\">\n",
       "      <th></th>\n",
       "      <th>date</th>\n",
       "      <th>hour</th>\n",
       "      <th>pressure</th>\n",
       "      <th>sea_pressure</th>\n",
       "      <th>wind_direction</th>\n",
       "      <th>wind_speed</th>\n",
       "      <th>temperature</th>\n",
       "      <th>rel_humidity</th>\n",
       "      <th>precipitation</th>\n",
       "    </tr>\n",
       "  </thead>\n",
       "  <tbody>\n",
       "    <tr>\n",
       "      <th>0</th>\n",
       "      <td>2016-07-01</td>\n",
       "      <td>0</td>\n",
       "      <td>1000.4</td>\n",
       "      <td>1005.3</td>\n",
       "      <td>225.0</td>\n",
       "      <td>2.1</td>\n",
       "      <td>26.4</td>\n",
       "      <td>94.0</td>\n",
       "      <td>0.0</td>\n",
       "    </tr>\n",
       "    <tr>\n",
       "      <th>1</th>\n",
       "      <td>2016-07-01</td>\n",
       "      <td>3</td>\n",
       "      <td>1000.5</td>\n",
       "      <td>1005.3</td>\n",
       "      <td>187.0</td>\n",
       "      <td>2.7</td>\n",
       "      <td>29.0</td>\n",
       "      <td>76.0</td>\n",
       "      <td>0.0</td>\n",
       "    </tr>\n",
       "    <tr>\n",
       "      <th>2</th>\n",
       "      <td>2016-07-01</td>\n",
       "      <td>6</td>\n",
       "      <td>998.9</td>\n",
       "      <td>1003.7</td>\n",
       "      <td>212.0</td>\n",
       "      <td>2.9</td>\n",
       "      <td>31.7</td>\n",
       "      <td>67.0</td>\n",
       "      <td>0.0</td>\n",
       "    </tr>\n",
       "    <tr>\n",
       "      <th>3</th>\n",
       "      <td>2016-07-01</td>\n",
       "      <td>9</td>\n",
       "      <td>998.7</td>\n",
       "      <td>1003.5</td>\n",
       "      <td>244.0</td>\n",
       "      <td>2.7</td>\n",
       "      <td>31.6</td>\n",
       "      <td>59.0</td>\n",
       "      <td>0.0</td>\n",
       "    </tr>\n",
       "    <tr>\n",
       "      <th>4</th>\n",
       "      <td>2016-07-01</td>\n",
       "      <td>12</td>\n",
       "      <td>999.7</td>\n",
       "      <td>1004.5</td>\n",
       "      <td>222.0</td>\n",
       "      <td>1.3</td>\n",
       "      <td>29.9</td>\n",
       "      <td>68.0</td>\n",
       "      <td>0.0</td>\n",
       "    </tr>\n",
       "  </tbody>\n",
       "</table>\n",
       "</div>"
      ],
      "text/plain": [
       "         date  hour  pressure  sea_pressure  wind_direction  wind_speed  \\\n",
       "0  2016-07-01     0    1000.4        1005.3           225.0         2.1   \n",
       "1  2016-07-01     3    1000.5        1005.3           187.0         2.7   \n",
       "2  2016-07-01     6     998.9        1003.7           212.0         2.9   \n",
       "3  2016-07-01     9     998.7        1003.5           244.0         2.7   \n",
       "4  2016-07-01    12     999.7        1004.5           222.0         1.3   \n",
       "\n",
       "   temperature  rel_humidity  precipitation  \n",
       "0         26.4          94.0            0.0  \n",
       "1         29.0          76.0            0.0  \n",
       "2         31.7          67.0            0.0  \n",
       "3         31.6          59.0            0.0  \n",
       "4         29.9          68.0            0.0  "
      ]
     },
     "execution_count": 55,
     "metadata": {},
     "output_type": "execute_result"
    }
   ],
   "source": [
    "weather_data.head()"
   ]
  },
  {
   "cell_type": "code",
   "execution_count": 57,
   "metadata": {
    "collapsed": false
   },
   "outputs": [
    {
     "name": "stdout",
     "output_type": "stream",
     "text": [
      "<class 'pandas.core.frame.DataFrame'>\n",
      "RangeIndex: 782 entries, 0 to 781\n",
      "Data columns (total 9 columns):\n",
      "date              782 non-null object\n",
      "hour              782 non-null int64\n",
      "pressure          782 non-null float64\n",
      "sea_pressure      782 non-null float64\n",
      "wind_direction    782 non-null float64\n",
      "wind_speed        782 non-null float64\n",
      "temperature       782 non-null float64\n",
      "rel_humidity      782 non-null float64\n",
      "precipitation     782 non-null float64\n",
      "dtypes: float64(7), int64(1), object(1)\n",
      "memory usage: 55.1+ KB\n"
     ]
    }
   ],
   "source": [
    "weather_data.info()"
   ]
  },
  {
   "cell_type": "code",
   "execution_count": 58,
   "metadata": {
    "collapsed": false
   },
   "outputs": [
    {
     "data": {
      "text/html": [
       "<div>\n",
       "<table border=\"1\" class=\"dataframe\">\n",
       "  <thead>\n",
       "    <tr style=\"text-align: right;\">\n",
       "      <th></th>\n",
       "      <th>date</th>\n",
       "      <th>hour</th>\n",
       "      <th>pressure</th>\n",
       "      <th>sea_pressure</th>\n",
       "      <th>wind_direction</th>\n",
       "      <th>wind_speed</th>\n",
       "      <th>temperature</th>\n",
       "      <th>rel_humidity</th>\n",
       "      <th>precipitation</th>\n",
       "    </tr>\n",
       "  </thead>\n",
       "  <tbody>\n",
       "    <tr>\n",
       "      <th>0</th>\n",
       "      <td>2016-10-18</td>\n",
       "      <td>0</td>\n",
       "      <td>1015.2</td>\n",
       "      <td>1020.3</td>\n",
       "      <td>62.0</td>\n",
       "      <td>2.1</td>\n",
       "      <td>20.5</td>\n",
       "      <td>87.0</td>\n",
       "      <td>0.0</td>\n",
       "    </tr>\n",
       "    <tr>\n",
       "      <th>1</th>\n",
       "      <td>2016-10-18</td>\n",
       "      <td>3</td>\n",
       "      <td>1014.5</td>\n",
       "      <td>1019.5</td>\n",
       "      <td>37.0</td>\n",
       "      <td>2.5</td>\n",
       "      <td>23.3</td>\n",
       "      <td>73.0</td>\n",
       "      <td>0.0</td>\n",
       "    </tr>\n",
       "    <tr>\n",
       "      <th>2</th>\n",
       "      <td>2016-10-18</td>\n",
       "      <td>6</td>\n",
       "      <td>1012.5</td>\n",
       "      <td>1017.5</td>\n",
       "      <td>128.0</td>\n",
       "      <td>1.6</td>\n",
       "      <td>23.4</td>\n",
       "      <td>73.0</td>\n",
       "      <td>0.0</td>\n",
       "    </tr>\n",
       "    <tr>\n",
       "      <th>3</th>\n",
       "      <td>2016-10-18</td>\n",
       "      <td>9</td>\n",
       "      <td>1013.0</td>\n",
       "      <td>1018.0</td>\n",
       "      <td>205.0</td>\n",
       "      <td>0.6</td>\n",
       "      <td>20.9</td>\n",
       "      <td>94.0</td>\n",
       "      <td>1.8</td>\n",
       "    </tr>\n",
       "    <tr>\n",
       "      <th>4</th>\n",
       "      <td>2016-10-18</td>\n",
       "      <td>12</td>\n",
       "      <td>1013.8</td>\n",
       "      <td>1018.8</td>\n",
       "      <td>106.0</td>\n",
       "      <td>1.5</td>\n",
       "      <td>20.5</td>\n",
       "      <td>94.0</td>\n",
       "      <td>0.5</td>\n",
       "    </tr>\n",
       "  </tbody>\n",
       "</table>\n",
       "</div>"
      ],
      "text/plain": [
       "         date  hour  pressure  sea_pressure  wind_direction  wind_speed  \\\n",
       "0  2016-10-18     0    1015.2        1020.3            62.0         2.1   \n",
       "1  2016-10-18     3    1014.5        1019.5            37.0         2.5   \n",
       "2  2016-10-18     6    1012.5        1017.5           128.0         1.6   \n",
       "3  2016-10-18     9    1013.0        1018.0           205.0         0.6   \n",
       "4  2016-10-18    12    1013.8        1018.8           106.0         1.5   \n",
       "\n",
       "   temperature  rel_humidity  precipitation  \n",
       "0         20.5          87.0            0.0  \n",
       "1         23.3          73.0            0.0  \n",
       "2         23.4          73.0            0.0  \n",
       "3         20.9          94.0            1.8  \n",
       "4         20.5          94.0            0.5  "
      ]
     },
     "execution_count": 58,
     "metadata": {},
     "output_type": "execute_result"
    }
   ],
   "source": [
    "test_weather_data.head()"
   ]
  },
  {
   "cell_type": "code",
   "execution_count": 59,
   "metadata": {
    "collapsed": false
   },
   "outputs": [
    {
     "data": {
      "text/html": [
       "<div>\n",
       "<table border=\"1\" class=\"dataframe\">\n",
       "  <thead>\n",
       "    <tr style=\"text-align: right;\">\n",
       "      <th></th>\n",
       "      <th>hour</th>\n",
       "      <th>pressure</th>\n",
       "      <th>sea_pressure</th>\n",
       "      <th>wind_direction</th>\n",
       "      <th>wind_speed</th>\n",
       "      <th>temperature</th>\n",
       "      <th>rel_humidity</th>\n",
       "      <th>precipitation</th>\n",
       "    </tr>\n",
       "  </thead>\n",
       "  <tbody>\n",
       "    <tr>\n",
       "      <th>count</th>\n",
       "      <td>782.000000</td>\n",
       "      <td>782.000000</td>\n",
       "      <td>782.000000</td>\n",
       "      <td>782.000000</td>\n",
       "      <td>782.000000</td>\n",
       "      <td>782.000000</td>\n",
       "      <td>782.000000</td>\n",
       "      <td>782.000000</td>\n",
       "    </tr>\n",
       "    <tr>\n",
       "      <th>mean</th>\n",
       "      <td>10.500000</td>\n",
       "      <td>1004.032353</td>\n",
       "      <td>1008.907545</td>\n",
       "      <td>10398.617647</td>\n",
       "      <td>2.315217</td>\n",
       "      <td>27.532992</td>\n",
       "      <td>74.253197</td>\n",
       "      <td>0.232353</td>\n",
       "    </tr>\n",
       "    <tr>\n",
       "      <th>std</th>\n",
       "      <td>6.866525</td>\n",
       "      <td>5.643326</td>\n",
       "      <td>5.729872</td>\n",
       "      <td>100572.980954</td>\n",
       "      <td>1.230320</td>\n",
       "      <td>4.977435</td>\n",
       "      <td>15.732717</td>\n",
       "      <td>1.453105</td>\n",
       "    </tr>\n",
       "    <tr>\n",
       "      <th>min</th>\n",
       "      <td>0.000000</td>\n",
       "      <td>993.400000</td>\n",
       "      <td>998.200000</td>\n",
       "      <td>0.000000</td>\n",
       "      <td>0.000000</td>\n",
       "      <td>14.100000</td>\n",
       "      <td>27.000000</td>\n",
       "      <td>0.000000</td>\n",
       "    </tr>\n",
       "    <tr>\n",
       "      <th>25%</th>\n",
       "      <td>6.000000</td>\n",
       "      <td>1000.000000</td>\n",
       "      <td>1004.800000</td>\n",
       "      <td>80.000000</td>\n",
       "      <td>1.500000</td>\n",
       "      <td>23.800000</td>\n",
       "      <td>63.000000</td>\n",
       "      <td>0.000000</td>\n",
       "    </tr>\n",
       "    <tr>\n",
       "      <th>50%</th>\n",
       "      <td>10.500000</td>\n",
       "      <td>1002.400000</td>\n",
       "      <td>1007.200000</td>\n",
       "      <td>190.000000</td>\n",
       "      <td>2.000000</td>\n",
       "      <td>27.700000</td>\n",
       "      <td>76.000000</td>\n",
       "      <td>0.000000</td>\n",
       "    </tr>\n",
       "    <tr>\n",
       "      <th>75%</th>\n",
       "      <td>15.000000</td>\n",
       "      <td>1007.575000</td>\n",
       "      <td>1012.575000</td>\n",
       "      <td>295.750000</td>\n",
       "      <td>2.900000</td>\n",
       "      <td>31.100000</td>\n",
       "      <td>88.000000</td>\n",
       "      <td>0.000000</td>\n",
       "    </tr>\n",
       "    <tr>\n",
       "      <th>max</th>\n",
       "      <td>21.000000</td>\n",
       "      <td>1018.400000</td>\n",
       "      <td>1023.500000</td>\n",
       "      <td>999017.000000</td>\n",
       "      <td>7.500000</td>\n",
       "      <td>39.400000</td>\n",
       "      <td>98.000000</td>\n",
       "      <td>27.200000</td>\n",
       "    </tr>\n",
       "  </tbody>\n",
       "</table>\n",
       "</div>"
      ],
      "text/plain": [
       "             hour     pressure  sea_pressure  wind_direction  wind_speed  \\\n",
       "count  782.000000   782.000000    782.000000      782.000000  782.000000   \n",
       "mean    10.500000  1004.032353   1008.907545    10398.617647    2.315217   \n",
       "std      6.866525     5.643326      5.729872   100572.980954    1.230320   \n",
       "min      0.000000   993.400000    998.200000        0.000000    0.000000   \n",
       "25%      6.000000  1000.000000   1004.800000       80.000000    1.500000   \n",
       "50%     10.500000  1002.400000   1007.200000      190.000000    2.000000   \n",
       "75%     15.000000  1007.575000   1012.575000      295.750000    2.900000   \n",
       "max     21.000000  1018.400000   1023.500000   999017.000000    7.500000   \n",
       "\n",
       "       temperature  rel_humidity  precipitation  \n",
       "count   782.000000    782.000000     782.000000  \n",
       "mean     27.532992     74.253197       0.232353  \n",
       "std       4.977435     15.732717       1.453105  \n",
       "min      14.100000     27.000000       0.000000  \n",
       "25%      23.800000     63.000000       0.000000  \n",
       "50%      27.700000     76.000000       0.000000  \n",
       "75%      31.100000     88.000000       0.000000  \n",
       "max      39.400000     98.000000      27.200000  "
      ]
     },
     "execution_count": 59,
     "metadata": {},
     "output_type": "execute_result"
    }
   ],
   "source": [
    "weather_data.describe()"
   ]
  },
  {
   "cell_type": "code",
   "execution_count": 61,
   "metadata": {
    "collapsed": false
   },
   "outputs": [
    {
     "data": {
      "text/html": [
       "<div>\n",
       "<table border=\"1\" class=\"dataframe\">\n",
       "  <thead>\n",
       "    <tr style=\"text-align: right;\">\n",
       "      <th></th>\n",
       "      <th>hour</th>\n",
       "      <th>pressure</th>\n",
       "      <th>sea_pressure</th>\n",
       "      <th>wind_direction</th>\n",
       "      <th>wind_speed</th>\n",
       "      <th>temperature</th>\n",
       "      <th>rel_humidity</th>\n",
       "      <th>precipitation</th>\n",
       "    </tr>\n",
       "  </thead>\n",
       "  <tbody>\n",
       "    <tr>\n",
       "      <th>count</th>\n",
       "      <td>56.000000</td>\n",
       "      <td>56.000000</td>\n",
       "      <td>56.000000</td>\n",
       "      <td>56.000000</td>\n",
       "      <td>56.000000</td>\n",
       "      <td>56.000000</td>\n",
       "      <td>56.000000</td>\n",
       "      <td>56.000000</td>\n",
       "    </tr>\n",
       "    <tr>\n",
       "      <th>mean</th>\n",
       "      <td>10.500000</td>\n",
       "      <td>1008.712500</td>\n",
       "      <td>1013.710714</td>\n",
       "      <td>162.678571</td>\n",
       "      <td>2.207143</td>\n",
       "      <td>21.191071</td>\n",
       "      <td>92.000000</td>\n",
       "      <td>0.451786</td>\n",
       "    </tr>\n",
       "    <tr>\n",
       "      <th>std</th>\n",
       "      <td>6.936072</td>\n",
       "      <td>3.520747</td>\n",
       "      <td>3.533357</td>\n",
       "      <td>121.204126</td>\n",
       "      <td>1.087592</td>\n",
       "      <td>1.134465</td>\n",
       "      <td>7.037562</td>\n",
       "      <td>0.827481</td>\n",
       "    </tr>\n",
       "    <tr>\n",
       "      <th>min</th>\n",
       "      <td>0.000000</td>\n",
       "      <td>999.400000</td>\n",
       "      <td>1004.300000</td>\n",
       "      <td>0.000000</td>\n",
       "      <td>0.500000</td>\n",
       "      <td>19.200000</td>\n",
       "      <td>68.000000</td>\n",
       "      <td>0.000000</td>\n",
       "    </tr>\n",
       "    <tr>\n",
       "      <th>25%</th>\n",
       "      <td>5.250000</td>\n",
       "      <td>1006.575000</td>\n",
       "      <td>1011.575000</td>\n",
       "      <td>81.750000</td>\n",
       "      <td>1.600000</td>\n",
       "      <td>20.500000</td>\n",
       "      <td>91.000000</td>\n",
       "      <td>0.000000</td>\n",
       "    </tr>\n",
       "    <tr>\n",
       "      <th>50%</th>\n",
       "      <td>10.500000</td>\n",
       "      <td>1008.950000</td>\n",
       "      <td>1013.950000</td>\n",
       "      <td>103.000000</td>\n",
       "      <td>2.000000</td>\n",
       "      <td>21.000000</td>\n",
       "      <td>94.500000</td>\n",
       "      <td>0.100000</td>\n",
       "    </tr>\n",
       "    <tr>\n",
       "      <th>75%</th>\n",
       "      <td>15.750000</td>\n",
       "      <td>1011.250000</td>\n",
       "      <td>1016.250000</td>\n",
       "      <td>323.500000</td>\n",
       "      <td>2.625000</td>\n",
       "      <td>21.700000</td>\n",
       "      <td>96.000000</td>\n",
       "      <td>0.350000</td>\n",
       "    </tr>\n",
       "    <tr>\n",
       "      <th>max</th>\n",
       "      <td>21.000000</td>\n",
       "      <td>1015.200000</td>\n",
       "      <td>1020.300000</td>\n",
       "      <td>357.000000</td>\n",
       "      <td>6.000000</td>\n",
       "      <td>24.500000</td>\n",
       "      <td>98.000000</td>\n",
       "      <td>3.300000</td>\n",
       "    </tr>\n",
       "  </tbody>\n",
       "</table>\n",
       "</div>"
      ],
      "text/plain": [
       "            hour     pressure  sea_pressure  wind_direction  wind_speed  \\\n",
       "count  56.000000    56.000000     56.000000       56.000000   56.000000   \n",
       "mean   10.500000  1008.712500   1013.710714      162.678571    2.207143   \n",
       "std     6.936072     3.520747      3.533357      121.204126    1.087592   \n",
       "min     0.000000   999.400000   1004.300000        0.000000    0.500000   \n",
       "25%     5.250000  1006.575000   1011.575000       81.750000    1.600000   \n",
       "50%    10.500000  1008.950000   1013.950000      103.000000    2.000000   \n",
       "75%    15.750000  1011.250000   1016.250000      323.500000    2.625000   \n",
       "max    21.000000  1015.200000   1020.300000      357.000000    6.000000   \n",
       "\n",
       "       temperature  rel_humidity  precipitation  \n",
       "count    56.000000     56.000000      56.000000  \n",
       "mean     21.191071     92.000000       0.451786  \n",
       "std       1.134465      7.037562       0.827481  \n",
       "min      19.200000     68.000000       0.000000  \n",
       "25%      20.500000     91.000000       0.000000  \n",
       "50%      21.000000     94.500000       0.100000  \n",
       "75%      21.700000     96.000000       0.350000  \n",
       "max      24.500000     98.000000       3.300000  "
      ]
     },
     "execution_count": 61,
     "metadata": {},
     "output_type": "execute_result"
    }
   ],
   "source": [
    "test_weather_data.describe()"
   ]
  },
  {
   "cell_type": "markdown",
   "metadata": {},
   "source": [
    "Wind_direction in training data has anomaly. A obvious trend is that in test data the humidity and precipitation are larger. Not sure if 27.200000 is outlier or not. "
   ]
  },
  {
   "cell_type": "code",
   "execution_count": 63,
   "metadata": {
    "collapsed": false
   },
   "outputs": [
    {
     "data": {
      "text/html": [
       "<div>\n",
       "<table border=\"1\" class=\"dataframe\">\n",
       "  <thead>\n",
       "    <tr style=\"text-align: right;\">\n",
       "      <th></th>\n",
       "      <th>date</th>\n",
       "      <th>hour</th>\n",
       "      <th>pressure</th>\n",
       "      <th>sea_pressure</th>\n",
       "      <th>wind_direction</th>\n",
       "      <th>wind_speed</th>\n",
       "      <th>temperature</th>\n",
       "      <th>rel_humidity</th>\n",
       "      <th>precipitation</th>\n",
       "    </tr>\n",
       "  </thead>\n",
       "  <tbody>\n",
       "    <tr>\n",
       "      <th>15</th>\n",
       "      <td>2016-07-02</td>\n",
       "      <td>21</td>\n",
       "      <td>1000.9</td>\n",
       "      <td>1005.8</td>\n",
       "      <td>999017.0</td>\n",
       "      <td>0.1</td>\n",
       "      <td>25.2</td>\n",
       "      <td>98.0</td>\n",
       "      <td>0.0</td>\n",
       "    </tr>\n",
       "    <tr>\n",
       "      <th>23</th>\n",
       "      <td>2016-07-03</td>\n",
       "      <td>21</td>\n",
       "      <td>1000.4</td>\n",
       "      <td>1005.3</td>\n",
       "      <td>999017.0</td>\n",
       "      <td>0.0</td>\n",
       "      <td>25.7</td>\n",
       "      <td>98.0</td>\n",
       "      <td>0.0</td>\n",
       "    </tr>\n",
       "    <tr>\n",
       "      <th>84</th>\n",
       "      <td>2016-07-11</td>\n",
       "      <td>12</td>\n",
       "      <td>994.8</td>\n",
       "      <td>999.6</td>\n",
       "      <td>999017.0</td>\n",
       "      <td>0.2</td>\n",
       "      <td>27.3</td>\n",
       "      <td>94.0</td>\n",
       "      <td>2.7</td>\n",
       "    </tr>\n",
       "    <tr>\n",
       "      <th>271</th>\n",
       "      <td>2016-08-03</td>\n",
       "      <td>21</td>\n",
       "      <td>1003.5</td>\n",
       "      <td>1008.3</td>\n",
       "      <td>999017.0</td>\n",
       "      <td>0.0</td>\n",
       "      <td>25.6</td>\n",
       "      <td>89.0</td>\n",
       "      <td>0.0</td>\n",
       "    </tr>\n",
       "    <tr>\n",
       "      <th>283</th>\n",
       "      <td>2016-08-05</td>\n",
       "      <td>9</td>\n",
       "      <td>1000.6</td>\n",
       "      <td>1005.4</td>\n",
       "      <td>999017.0</td>\n",
       "      <td>0.0</td>\n",
       "      <td>32.5</td>\n",
       "      <td>64.0</td>\n",
       "      <td>0.0</td>\n",
       "    </tr>\n",
       "    <tr>\n",
       "      <th>290</th>\n",
       "      <td>2016-08-06</td>\n",
       "      <td>6</td>\n",
       "      <td>999.0</td>\n",
       "      <td>1003.8</td>\n",
       "      <td>999017.0</td>\n",
       "      <td>0.0</td>\n",
       "      <td>28.1</td>\n",
       "      <td>88.0</td>\n",
       "      <td>2.0</td>\n",
       "    </tr>\n",
       "    <tr>\n",
       "      <th>654</th>\n",
       "      <td>2016-10-01</td>\n",
       "      <td>0</td>\n",
       "      <td>1009.4</td>\n",
       "      <td>1014.4</td>\n",
       "      <td>999017.0</td>\n",
       "      <td>0.1</td>\n",
       "      <td>22.3</td>\n",
       "      <td>93.0</td>\n",
       "      <td>0.0</td>\n",
       "    </tr>\n",
       "    <tr>\n",
       "      <th>763</th>\n",
       "      <td>2016-10-15</td>\n",
       "      <td>15</td>\n",
       "      <td>1013.9</td>\n",
       "      <td>1019.0</td>\n",
       "      <td>999017.0</td>\n",
       "      <td>0.0</td>\n",
       "      <td>19.8</td>\n",
       "      <td>97.0</td>\n",
       "      <td>0.0</td>\n",
       "    </tr>\n",
       "  </tbody>\n",
       "</table>\n",
       "</div>"
      ],
      "text/plain": [
       "           date  hour  pressure  sea_pressure  wind_direction  wind_speed  \\\n",
       "15   2016-07-02    21    1000.9        1005.8        999017.0         0.1   \n",
       "23   2016-07-03    21    1000.4        1005.3        999017.0         0.0   \n",
       "84   2016-07-11    12     994.8         999.6        999017.0         0.2   \n",
       "271  2016-08-03    21    1003.5        1008.3        999017.0         0.0   \n",
       "283  2016-08-05     9    1000.6        1005.4        999017.0         0.0   \n",
       "290  2016-08-06     6     999.0        1003.8        999017.0         0.0   \n",
       "654  2016-10-01     0    1009.4        1014.4        999017.0         0.1   \n",
       "763  2016-10-15    15    1013.9        1019.0        999017.0         0.0   \n",
       "\n",
       "     temperature  rel_humidity  precipitation  \n",
       "15          25.2          98.0            0.0  \n",
       "23          25.7          98.0            0.0  \n",
       "84          27.3          94.0            2.7  \n",
       "271         25.6          89.0            0.0  \n",
       "283         32.5          64.0            0.0  \n",
       "290         28.1          88.0            2.0  \n",
       "654         22.3          93.0            0.0  \n",
       "763         19.8          97.0            0.0  "
      ]
     },
     "execution_count": 63,
     "metadata": {},
     "output_type": "execute_result"
    }
   ],
   "source": [
    "weather_data[weather_data['wind_direction'] >= 500]"
   ]
  },
  {
   "cell_type": "code",
   "execution_count": 73,
   "metadata": {
    "collapsed": false
   },
   "outputs": [
    {
     "data": {
      "text/html": [
       "<div>\n",
       "<table border=\"1\" class=\"dataframe\">\n",
       "  <thead>\n",
       "    <tr style=\"text-align: right;\">\n",
       "      <th></th>\n",
       "      <th>date</th>\n",
       "      <th>hour</th>\n",
       "      <th>pressure</th>\n",
       "      <th>sea_pressure</th>\n",
       "      <th>wind_direction</th>\n",
       "      <th>wind_speed</th>\n",
       "      <th>temperature</th>\n",
       "      <th>rel_humidity</th>\n",
       "      <th>precipitation</th>\n",
       "    </tr>\n",
       "  </thead>\n",
       "  <tbody>\n",
       "    <tr>\n",
       "      <th>11</th>\n",
       "      <td>2016-07-02</td>\n",
       "      <td>9</td>\n",
       "      <td>1001.9</td>\n",
       "      <td>1006.8</td>\n",
       "      <td>345.0</td>\n",
       "      <td>2.4</td>\n",
       "      <td>25.9</td>\n",
       "      <td>95.0</td>\n",
       "      <td>10.2</td>\n",
       "    </tr>\n",
       "    <tr>\n",
       "      <th>67</th>\n",
       "      <td>2016-07-09</td>\n",
       "      <td>9</td>\n",
       "      <td>997.9</td>\n",
       "      <td>1002.8</td>\n",
       "      <td>71.0</td>\n",
       "      <td>2.7</td>\n",
       "      <td>27.1</td>\n",
       "      <td>92.0</td>\n",
       "      <td>7.3</td>\n",
       "    </tr>\n",
       "    <tr>\n",
       "      <th>261</th>\n",
       "      <td>2016-08-02</td>\n",
       "      <td>15</td>\n",
       "      <td>1003.1</td>\n",
       "      <td>1007.9</td>\n",
       "      <td>310.0</td>\n",
       "      <td>3.1</td>\n",
       "      <td>24.5</td>\n",
       "      <td>94.0</td>\n",
       "      <td>4.8</td>\n",
       "    </tr>\n",
       "    <tr>\n",
       "      <th>262</th>\n",
       "      <td>2016-08-02</td>\n",
       "      <td>18</td>\n",
       "      <td>1002.5</td>\n",
       "      <td>1007.3</td>\n",
       "      <td>221.0</td>\n",
       "      <td>1.8</td>\n",
       "      <td>24.7</td>\n",
       "      <td>96.0</td>\n",
       "      <td>3.6</td>\n",
       "    </tr>\n",
       "    <tr>\n",
       "      <th>312</th>\n",
       "      <td>2016-08-09</td>\n",
       "      <td>0</td>\n",
       "      <td>1000.6</td>\n",
       "      <td>1005.5</td>\n",
       "      <td>18.0</td>\n",
       "      <td>1.0</td>\n",
       "      <td>25.4</td>\n",
       "      <td>95.0</td>\n",
       "      <td>14.2</td>\n",
       "    </tr>\n",
       "    <tr>\n",
       "      <th>411</th>\n",
       "      <td>2016-08-21</td>\n",
       "      <td>9</td>\n",
       "      <td>998.9</td>\n",
       "      <td>1003.7</td>\n",
       "      <td>348.0</td>\n",
       "      <td>4.9</td>\n",
       "      <td>27.0</td>\n",
       "      <td>93.0</td>\n",
       "      <td>27.2</td>\n",
       "    </tr>\n",
       "    <tr>\n",
       "      <th>449</th>\n",
       "      <td>2016-08-26</td>\n",
       "      <td>3</td>\n",
       "      <td>1002.8</td>\n",
       "      <td>1007.6</td>\n",
       "      <td>317.0</td>\n",
       "      <td>0.9</td>\n",
       "      <td>27.8</td>\n",
       "      <td>91.0</td>\n",
       "      <td>14.6</td>\n",
       "    </tr>\n",
       "    <tr>\n",
       "      <th>519</th>\n",
       "      <td>2016-09-13</td>\n",
       "      <td>21</td>\n",
       "      <td>1010.9</td>\n",
       "      <td>1015.9</td>\n",
       "      <td>352.0</td>\n",
       "      <td>1.5</td>\n",
       "      <td>20.1</td>\n",
       "      <td>97.0</td>\n",
       "      <td>9.4</td>\n",
       "    </tr>\n",
       "    <tr>\n",
       "      <th>531</th>\n",
       "      <td>2016-09-15</td>\n",
       "      <td>9</td>\n",
       "      <td>1004.5</td>\n",
       "      <td>1009.4</td>\n",
       "      <td>62.0</td>\n",
       "      <td>2.0</td>\n",
       "      <td>23.8</td>\n",
       "      <td>95.0</td>\n",
       "      <td>7.3</td>\n",
       "    </tr>\n",
       "    <tr>\n",
       "      <th>532</th>\n",
       "      <td>2016-09-15</td>\n",
       "      <td>12</td>\n",
       "      <td>1004.9</td>\n",
       "      <td>1009.8</td>\n",
       "      <td>100.0</td>\n",
       "      <td>7.1</td>\n",
       "      <td>23.4</td>\n",
       "      <td>95.0</td>\n",
       "      <td>6.5</td>\n",
       "    </tr>\n",
       "    <tr>\n",
       "      <th>534</th>\n",
       "      <td>2016-09-15</td>\n",
       "      <td>18</td>\n",
       "      <td>1002.3</td>\n",
       "      <td>1007.2</td>\n",
       "      <td>115.0</td>\n",
       "      <td>1.6</td>\n",
       "      <td>22.9</td>\n",
       "      <td>97.0</td>\n",
       "      <td>3.5</td>\n",
       "    </tr>\n",
       "    <tr>\n",
       "      <th>634</th>\n",
       "      <td>2016-09-28</td>\n",
       "      <td>6</td>\n",
       "      <td>1003.2</td>\n",
       "      <td>1008.1</td>\n",
       "      <td>92.0</td>\n",
       "      <td>7.5</td>\n",
       "      <td>26.2</td>\n",
       "      <td>94.0</td>\n",
       "      <td>5.5</td>\n",
       "    </tr>\n",
       "  </tbody>\n",
       "</table>\n",
       "</div>"
      ],
      "text/plain": [
       "           date  hour  pressure  sea_pressure  wind_direction  wind_speed  \\\n",
       "11   2016-07-02     9    1001.9        1006.8           345.0         2.4   \n",
       "67   2016-07-09     9     997.9        1002.8            71.0         2.7   \n",
       "261  2016-08-02    15    1003.1        1007.9           310.0         3.1   \n",
       "262  2016-08-02    18    1002.5        1007.3           221.0         1.8   \n",
       "312  2016-08-09     0    1000.6        1005.5            18.0         1.0   \n",
       "411  2016-08-21     9     998.9        1003.7           348.0         4.9   \n",
       "449  2016-08-26     3    1002.8        1007.6           317.0         0.9   \n",
       "519  2016-09-13    21    1010.9        1015.9           352.0         1.5   \n",
       "531  2016-09-15     9    1004.5        1009.4            62.0         2.0   \n",
       "532  2016-09-15    12    1004.9        1009.8           100.0         7.1   \n",
       "534  2016-09-15    18    1002.3        1007.2           115.0         1.6   \n",
       "634  2016-09-28     6    1003.2        1008.1            92.0         7.5   \n",
       "\n",
       "     temperature  rel_humidity  precipitation  \n",
       "11          25.9          95.0           10.2  \n",
       "67          27.1          92.0            7.3  \n",
       "261         24.5          94.0            4.8  \n",
       "262         24.7          96.0            3.6  \n",
       "312         25.4          95.0           14.2  \n",
       "411         27.0          93.0           27.2  \n",
       "449         27.8          91.0           14.6  \n",
       "519         20.1          97.0            9.4  \n",
       "531         23.8          95.0            7.3  \n",
       "532         23.4          95.0            6.5  \n",
       "534         22.9          97.0            3.5  \n",
       "634         26.2          94.0            5.5  "
      ]
     },
     "execution_count": 73,
     "metadata": {},
     "output_type": "execute_result"
    }
   ],
   "source": [
    "weather_data[weather_data['precipitation'] >= 3.3]"
   ]
  },
  {
   "cell_type": "code",
   "execution_count": 67,
   "metadata": {
    "collapsed": false
   },
   "outputs": [
    {
     "data": {
      "text/html": [
       "<div>\n",
       "<table border=\"1\" class=\"dataframe\">\n",
       "  <thead>\n",
       "    <tr style=\"text-align: right;\">\n",
       "      <th></th>\n",
       "      <th>date</th>\n",
       "      <th>hour</th>\n",
       "      <th>pressure</th>\n",
       "      <th>sea_pressure</th>\n",
       "      <th>wind_direction</th>\n",
       "      <th>wind_speed</th>\n",
       "      <th>temperature</th>\n",
       "      <th>rel_humidity</th>\n",
       "      <th>precipitation</th>\n",
       "    </tr>\n",
       "  </thead>\n",
       "  <tbody>\n",
       "    <tr>\n",
       "      <th>408</th>\n",
       "      <td>2016-08-21</td>\n",
       "      <td>0</td>\n",
       "      <td>999.8</td>\n",
       "      <td>1004.6</td>\n",
       "      <td>335.0</td>\n",
       "      <td>2.2</td>\n",
       "      <td>30.3</td>\n",
       "      <td>75.0</td>\n",
       "      <td>0.0</td>\n",
       "    </tr>\n",
       "    <tr>\n",
       "      <th>409</th>\n",
       "      <td>2016-08-21</td>\n",
       "      <td>3</td>\n",
       "      <td>999.8</td>\n",
       "      <td>1004.6</td>\n",
       "      <td>318.0</td>\n",
       "      <td>1.9</td>\n",
       "      <td>32.8</td>\n",
       "      <td>67.0</td>\n",
       "      <td>0.0</td>\n",
       "    </tr>\n",
       "    <tr>\n",
       "      <th>410</th>\n",
       "      <td>2016-08-21</td>\n",
       "      <td>6</td>\n",
       "      <td>998.4</td>\n",
       "      <td>1003.2</td>\n",
       "      <td>320.0</td>\n",
       "      <td>2.0</td>\n",
       "      <td>34.5</td>\n",
       "      <td>61.0</td>\n",
       "      <td>0.0</td>\n",
       "    </tr>\n",
       "    <tr>\n",
       "      <th>411</th>\n",
       "      <td>2016-08-21</td>\n",
       "      <td>9</td>\n",
       "      <td>998.9</td>\n",
       "      <td>1003.7</td>\n",
       "      <td>348.0</td>\n",
       "      <td>4.9</td>\n",
       "      <td>27.0</td>\n",
       "      <td>93.0</td>\n",
       "      <td>27.2</td>\n",
       "    </tr>\n",
       "    <tr>\n",
       "      <th>412</th>\n",
       "      <td>2016-08-21</td>\n",
       "      <td>12</td>\n",
       "      <td>1000.0</td>\n",
       "      <td>1004.8</td>\n",
       "      <td>30.0</td>\n",
       "      <td>1.0</td>\n",
       "      <td>27.6</td>\n",
       "      <td>92.0</td>\n",
       "      <td>0.0</td>\n",
       "    </tr>\n",
       "    <tr>\n",
       "      <th>413</th>\n",
       "      <td>2016-08-21</td>\n",
       "      <td>15</td>\n",
       "      <td>1000.9</td>\n",
       "      <td>1005.7</td>\n",
       "      <td>321.0</td>\n",
       "      <td>2.1</td>\n",
       "      <td>27.3</td>\n",
       "      <td>93.0</td>\n",
       "      <td>0.0</td>\n",
       "    </tr>\n",
       "    <tr>\n",
       "      <th>414</th>\n",
       "      <td>2016-08-21</td>\n",
       "      <td>18</td>\n",
       "      <td>1001.1</td>\n",
       "      <td>1005.9</td>\n",
       "      <td>340.0</td>\n",
       "      <td>1.5</td>\n",
       "      <td>27.3</td>\n",
       "      <td>93.0</td>\n",
       "      <td>0.0</td>\n",
       "    </tr>\n",
       "    <tr>\n",
       "      <th>415</th>\n",
       "      <td>2016-08-21</td>\n",
       "      <td>21</td>\n",
       "      <td>1001.7</td>\n",
       "      <td>1006.6</td>\n",
       "      <td>327.0</td>\n",
       "      <td>1.5</td>\n",
       "      <td>27.2</td>\n",
       "      <td>94.0</td>\n",
       "      <td>0.0</td>\n",
       "    </tr>\n",
       "  </tbody>\n",
       "</table>\n",
       "</div>"
      ],
      "text/plain": [
       "           date  hour  pressure  sea_pressure  wind_direction  wind_speed  \\\n",
       "408  2016-08-21     0     999.8        1004.6           335.0         2.2   \n",
       "409  2016-08-21     3     999.8        1004.6           318.0         1.9   \n",
       "410  2016-08-21     6     998.4        1003.2           320.0         2.0   \n",
       "411  2016-08-21     9     998.9        1003.7           348.0         4.9   \n",
       "412  2016-08-21    12    1000.0        1004.8            30.0         1.0   \n",
       "413  2016-08-21    15    1000.9        1005.7           321.0         2.1   \n",
       "414  2016-08-21    18    1001.1        1005.9           340.0         1.5   \n",
       "415  2016-08-21    21    1001.7        1006.6           327.0         1.5   \n",
       "\n",
       "     temperature  rel_humidity  precipitation  \n",
       "408         30.3          75.0            0.0  \n",
       "409         32.8          67.0            0.0  \n",
       "410         34.5          61.0            0.0  \n",
       "411         27.0          93.0           27.2  \n",
       "412         27.6          92.0            0.0  \n",
       "413         27.3          93.0            0.0  \n",
       "414         27.3          93.0            0.0  \n",
       "415         27.2          94.0            0.0  "
      ]
     },
     "execution_count": 67,
     "metadata": {},
     "output_type": "execute_result"
    }
   ],
   "source": [
    "weather_data[weather_data['date'] == '2016-08-21']"
   ]
  },
  {
   "cell_type": "code",
   "execution_count": 72,
   "metadata": {
    "collapsed": false
   },
   "outputs": [
    {
     "data": {
      "text/html": [
       "<div>\n",
       "<table border=\"1\" class=\"dataframe\">\n",
       "  <thead>\n",
       "    <tr style=\"text-align: right;\">\n",
       "      <th></th>\n",
       "      <th>date</th>\n",
       "      <th>hour</th>\n",
       "      <th>pressure</th>\n",
       "      <th>sea_pressure</th>\n",
       "      <th>wind_direction</th>\n",
       "      <th>wind_speed</th>\n",
       "      <th>temperature</th>\n",
       "      <th>rel_humidity</th>\n",
       "      <th>precipitation</th>\n",
       "    </tr>\n",
       "  </thead>\n",
       "  <tbody>\n",
       "    <tr>\n",
       "      <th>448</th>\n",
       "      <td>2016-08-26</td>\n",
       "      <td>0</td>\n",
       "      <td>1002.4</td>\n",
       "      <td>1007.2</td>\n",
       "      <td>59.0</td>\n",
       "      <td>2.6</td>\n",
       "      <td>30.4</td>\n",
       "      <td>74.0</td>\n",
       "      <td>0.0</td>\n",
       "    </tr>\n",
       "    <tr>\n",
       "      <th>449</th>\n",
       "      <td>2016-08-26</td>\n",
       "      <td>3</td>\n",
       "      <td>1002.8</td>\n",
       "      <td>1007.6</td>\n",
       "      <td>317.0</td>\n",
       "      <td>0.9</td>\n",
       "      <td>27.8</td>\n",
       "      <td>91.0</td>\n",
       "      <td>14.6</td>\n",
       "    </tr>\n",
       "    <tr>\n",
       "      <th>450</th>\n",
       "      <td>2016-08-26</td>\n",
       "      <td>6</td>\n",
       "      <td>1001.2</td>\n",
       "      <td>1006.0</td>\n",
       "      <td>9.0</td>\n",
       "      <td>4.3</td>\n",
       "      <td>34.4</td>\n",
       "      <td>51.0</td>\n",
       "      <td>0.0</td>\n",
       "    </tr>\n",
       "    <tr>\n",
       "      <th>451</th>\n",
       "      <td>2016-08-26</td>\n",
       "      <td>9</td>\n",
       "      <td>1001.9</td>\n",
       "      <td>1006.7</td>\n",
       "      <td>359.0</td>\n",
       "      <td>7.3</td>\n",
       "      <td>30.9</td>\n",
       "      <td>65.0</td>\n",
       "      <td>0.0</td>\n",
       "    </tr>\n",
       "    <tr>\n",
       "      <th>452</th>\n",
       "      <td>2016-08-26</td>\n",
       "      <td>12</td>\n",
       "      <td>1004.2</td>\n",
       "      <td>1009.0</td>\n",
       "      <td>10.0</td>\n",
       "      <td>6.4</td>\n",
       "      <td>28.2</td>\n",
       "      <td>75.0</td>\n",
       "      <td>0.0</td>\n",
       "    </tr>\n",
       "    <tr>\n",
       "      <th>453</th>\n",
       "      <td>2016-08-26</td>\n",
       "      <td>15</td>\n",
       "      <td>1005.4</td>\n",
       "      <td>1010.3</td>\n",
       "      <td>336.0</td>\n",
       "      <td>3.3</td>\n",
       "      <td>26.3</td>\n",
       "      <td>84.0</td>\n",
       "      <td>0.0</td>\n",
       "    </tr>\n",
       "    <tr>\n",
       "      <th>454</th>\n",
       "      <td>2016-08-26</td>\n",
       "      <td>18</td>\n",
       "      <td>1005.2</td>\n",
       "      <td>1010.0</td>\n",
       "      <td>357.0</td>\n",
       "      <td>3.0</td>\n",
       "      <td>25.8</td>\n",
       "      <td>77.0</td>\n",
       "      <td>0.0</td>\n",
       "    </tr>\n",
       "    <tr>\n",
       "      <th>455</th>\n",
       "      <td>2016-08-26</td>\n",
       "      <td>21</td>\n",
       "      <td>1005.6</td>\n",
       "      <td>1010.5</td>\n",
       "      <td>338.0</td>\n",
       "      <td>2.9</td>\n",
       "      <td>24.7</td>\n",
       "      <td>75.0</td>\n",
       "      <td>0.0</td>\n",
       "    </tr>\n",
       "  </tbody>\n",
       "</table>\n",
       "</div>"
      ],
      "text/plain": [
       "           date  hour  pressure  sea_pressure  wind_direction  wind_speed  \\\n",
       "448  2016-08-26     0    1002.4        1007.2            59.0         2.6   \n",
       "449  2016-08-26     3    1002.8        1007.6           317.0         0.9   \n",
       "450  2016-08-26     6    1001.2        1006.0             9.0         4.3   \n",
       "451  2016-08-26     9    1001.9        1006.7           359.0         7.3   \n",
       "452  2016-08-26    12    1004.2        1009.0            10.0         6.4   \n",
       "453  2016-08-26    15    1005.4        1010.3           336.0         3.3   \n",
       "454  2016-08-26    18    1005.2        1010.0           357.0         3.0   \n",
       "455  2016-08-26    21    1005.6        1010.5           338.0         2.9   \n",
       "\n",
       "     temperature  rel_humidity  precipitation  \n",
       "448         30.4          74.0            0.0  \n",
       "449         27.8          91.0           14.6  \n",
       "450         34.4          51.0            0.0  \n",
       "451         30.9          65.0            0.0  \n",
       "452         28.2          75.0            0.0  \n",
       "453         26.3          84.0            0.0  \n",
       "454         25.8          77.0            0.0  \n",
       "455         24.7          75.0            0.0  "
      ]
     },
     "execution_count": 72,
     "metadata": {},
     "output_type": "execute_result"
    }
   ],
   "source": [
    "weather_data[weather_data['date'] == '2016-08-26']"
   ]
  },
  {
   "cell_type": "markdown",
   "metadata": {},
   "source": [
    "Wind_direction anomaly is probably because recording error. Can use average value to replace them. higher precipitation does not necessarily means that they are outliers. We may have to delete these data later. "
   ]
  },
  {
   "cell_type": "code",
   "execution_count": 74,
   "metadata": {
    "collapsed": false
   },
   "outputs": [
    {
     "data": {
      "text/html": [
       "<div>\n",
       "<table border=\"1\" class=\"dataframe\">\n",
       "  <thead>\n",
       "    <tr style=\"text-align: right;\">\n",
       "      <th></th>\n",
       "      <th>intersection_id</th>\n",
       "      <th>tollgate_id</th>\n",
       "      <th>vehicle_id</th>\n",
       "      <th>starting_time</th>\n",
       "      <th>travel_seq</th>\n",
       "      <th>travel_time</th>\n",
       "    </tr>\n",
       "  </thead>\n",
       "  <tbody>\n",
       "    <tr>\n",
       "      <th>0</th>\n",
       "      <td>B</td>\n",
       "      <td>3</td>\n",
       "      <td>1065642</td>\n",
       "      <td>2016-07-19 00:14:24</td>\n",
       "      <td>105#2016-07-19 00:14:24#9.56;100#2016-07-19 00...</td>\n",
       "      <td>70.85</td>\n",
       "    </tr>\n",
       "    <tr>\n",
       "      <th>1</th>\n",
       "      <td>B</td>\n",
       "      <td>3</td>\n",
       "      <td>1047198</td>\n",
       "      <td>2016-07-19 00:35:56</td>\n",
       "      <td>105#2016-07-19 00:35:56#11.58;100#2016-07-19 0...</td>\n",
       "      <td>148.79</td>\n",
       "    </tr>\n",
       "    <tr>\n",
       "      <th>2</th>\n",
       "      <td>B</td>\n",
       "      <td>1</td>\n",
       "      <td>1086390</td>\n",
       "      <td>2016-07-19 00:37:15</td>\n",
       "      <td>105#2016-07-19 00:37:15#5.26;100#2016-07-19 00...</td>\n",
       "      <td>79.76</td>\n",
       "    </tr>\n",
       "    <tr>\n",
       "      <th>3</th>\n",
       "      <td>A</td>\n",
       "      <td>2</td>\n",
       "      <td>1071181</td>\n",
       "      <td>2016-07-19 00:37:59</td>\n",
       "      <td>110#2016-07-19 00:37:59#13.74;123#2016-07-19 0...</td>\n",
       "      <td>58.05</td>\n",
       "    </tr>\n",
       "    <tr>\n",
       "      <th>4</th>\n",
       "      <td>B</td>\n",
       "      <td>1</td>\n",
       "      <td>1065807</td>\n",
       "      <td>2016-07-19 00:56:21</td>\n",
       "      <td>105#2016-07-19 00:56:21#16.08;100#2016-07-19 0...</td>\n",
       "      <td>137.98</td>\n",
       "    </tr>\n",
       "  </tbody>\n",
       "</table>\n",
       "</div>"
      ],
      "text/plain": [
       "  intersection_id  tollgate_id  vehicle_id        starting_time  \\\n",
       "0               B            3     1065642  2016-07-19 00:14:24   \n",
       "1               B            3     1047198  2016-07-19 00:35:56   \n",
       "2               B            1     1086390  2016-07-19 00:37:15   \n",
       "3               A            2     1071181  2016-07-19 00:37:59   \n",
       "4               B            1     1065807  2016-07-19 00:56:21   \n",
       "\n",
       "                                          travel_seq  travel_time  \n",
       "0  105#2016-07-19 00:14:24#9.56;100#2016-07-19 00...        70.85  \n",
       "1  105#2016-07-19 00:35:56#11.58;100#2016-07-19 0...       148.79  \n",
       "2  105#2016-07-19 00:37:15#5.26;100#2016-07-19 00...        79.76  \n",
       "3  110#2016-07-19 00:37:59#13.74;123#2016-07-19 0...        58.05  \n",
       "4  105#2016-07-19 00:56:21#16.08;100#2016-07-19 0...       137.98  "
      ]
     },
     "execution_count": 74,
     "metadata": {},
     "output_type": "execute_result"
    }
   ],
   "source": [
    "trajectories.head()"
   ]
  },
  {
   "cell_type": "code",
   "execution_count": 77,
   "metadata": {
    "collapsed": false
   },
   "outputs": [
    {
     "name": "stdout",
     "output_type": "stream",
     "text": [
      "<class 'pandas.core.frame.DataFrame'>\n",
      "RangeIndex: 109244 entries, 0 to 109243\n",
      "Data columns (total 6 columns):\n",
      "intersection_id    109244 non-null object\n",
      "tollgate_id        109244 non-null int64\n",
      "vehicle_id         109244 non-null int64\n",
      "starting_time      109244 non-null object\n",
      "travel_seq         109244 non-null object\n",
      "travel_time        109244 non-null float64\n",
      "dtypes: float64(1), int64(2), object(3)\n",
      "memory usage: 5.0+ MB\n"
     ]
    }
   ],
   "source": [
    "trajectories.info()"
   ]
  },
  {
   "cell_type": "markdown",
   "metadata": {},
   "source": [
    "The average travel time can be features of volume prediction. "
   ]
  },
  {
   "cell_type": "code",
   "execution_count": 75,
   "metadata": {
    "collapsed": false
   },
   "outputs": [
    {
     "data": {
      "text/html": [
       "<div>\n",
       "<table border=\"1\" class=\"dataframe\">\n",
       "  <thead>\n",
       "    <tr style=\"text-align: right;\">\n",
       "      <th></th>\n",
       "      <th>intersection_id</th>\n",
       "      <th>tollgate_id</th>\n",
       "      <th>link_seq</th>\n",
       "    </tr>\n",
       "  </thead>\n",
       "  <tbody>\n",
       "    <tr>\n",
       "      <th>0</th>\n",
       "      <td>A</td>\n",
       "      <td>2</td>\n",
       "      <td>110,123,107,108,120,117</td>\n",
       "    </tr>\n",
       "    <tr>\n",
       "      <th>1</th>\n",
       "      <td>A</td>\n",
       "      <td>3</td>\n",
       "      <td>110,123,107,108,119,114,118,122</td>\n",
       "    </tr>\n",
       "    <tr>\n",
       "      <th>2</th>\n",
       "      <td>B</td>\n",
       "      <td>1</td>\n",
       "      <td>105,100,111,103,116,101,121,106,113</td>\n",
       "    </tr>\n",
       "    <tr>\n",
       "      <th>3</th>\n",
       "      <td>B</td>\n",
       "      <td>3</td>\n",
       "      <td>105,100,111,103,122</td>\n",
       "    </tr>\n",
       "    <tr>\n",
       "      <th>4</th>\n",
       "      <td>C</td>\n",
       "      <td>1</td>\n",
       "      <td>115,102,109,104,112,111,103,116,101,121,106,113</td>\n",
       "    </tr>\n",
       "    <tr>\n",
       "      <th>5</th>\n",
       "      <td>C</td>\n",
       "      <td>3</td>\n",
       "      <td>115,102,109,104,112,111,103,122</td>\n",
       "    </tr>\n",
       "  </tbody>\n",
       "</table>\n",
       "</div>"
      ],
      "text/plain": [
       "  intersection_id  tollgate_id  \\\n",
       "0               A            2   \n",
       "1               A            3   \n",
       "2               B            1   \n",
       "3               B            3   \n",
       "4               C            1   \n",
       "5               C            3   \n",
       "\n",
       "                                          link_seq  \n",
       "0                          110,123,107,108,120,117  \n",
       "1                  110,123,107,108,119,114,118,122  \n",
       "2              105,100,111,103,116,101,121,106,113  \n",
       "3                              105,100,111,103,122  \n",
       "4  115,102,109,104,112,111,103,116,101,121,106,113  \n",
       "5                  115,102,109,104,112,111,103,122  "
      ]
     },
     "execution_count": 75,
     "metadata": {},
     "output_type": "execute_result"
    }
   ],
   "source": [
    "route"
   ]
  },
  {
   "cell_type": "code",
   "execution_count": 76,
   "metadata": {
    "collapsed": false
   },
   "outputs": [
    {
     "data": {
      "text/html": [
       "<div>\n",
       "<table border=\"1\" class=\"dataframe\">\n",
       "  <thead>\n",
       "    <tr style=\"text-align: right;\">\n",
       "      <th></th>\n",
       "      <th>link_id</th>\n",
       "      <th>length</th>\n",
       "      <th>width</th>\n",
       "      <th>lanes</th>\n",
       "      <th>in_top</th>\n",
       "      <th>out_top</th>\n",
       "      <th>lane_width</th>\n",
       "    </tr>\n",
       "  </thead>\n",
       "  <tbody>\n",
       "    <tr>\n",
       "      <th>0</th>\n",
       "      <td>100</td>\n",
       "      <td>58</td>\n",
       "      <td>3</td>\n",
       "      <td>1</td>\n",
       "      <td>105</td>\n",
       "      <td>111</td>\n",
       "      <td>3</td>\n",
       "    </tr>\n",
       "    <tr>\n",
       "      <th>1</th>\n",
       "      <td>101</td>\n",
       "      <td>84</td>\n",
       "      <td>3</td>\n",
       "      <td>1</td>\n",
       "      <td>116</td>\n",
       "      <td>121</td>\n",
       "      <td>3</td>\n",
       "    </tr>\n",
       "    <tr>\n",
       "      <th>2</th>\n",
       "      <td>102</td>\n",
       "      <td>131</td>\n",
       "      <td>9</td>\n",
       "      <td>3</td>\n",
       "      <td>115</td>\n",
       "      <td>109</td>\n",
       "      <td>3</td>\n",
       "    </tr>\n",
       "    <tr>\n",
       "      <th>3</th>\n",
       "      <td>103</td>\n",
       "      <td>23</td>\n",
       "      <td>12</td>\n",
       "      <td>4</td>\n",
       "      <td>111</td>\n",
       "      <td>122,116</td>\n",
       "      <td>3</td>\n",
       "    </tr>\n",
       "    <tr>\n",
       "      <th>4</th>\n",
       "      <td>104</td>\n",
       "      <td>293</td>\n",
       "      <td>9</td>\n",
       "      <td>3</td>\n",
       "      <td>109</td>\n",
       "      <td>112</td>\n",
       "      <td>3</td>\n",
       "    </tr>\n",
       "    <tr>\n",
       "      <th>5</th>\n",
       "      <td>105</td>\n",
       "      <td>78</td>\n",
       "      <td>6</td>\n",
       "      <td>2</td>\n",
       "      <td>NaN</td>\n",
       "      <td>100</td>\n",
       "      <td>3</td>\n",
       "    </tr>\n",
       "    <tr>\n",
       "      <th>6</th>\n",
       "      <td>106</td>\n",
       "      <td>15</td>\n",
       "      <td>3</td>\n",
       "      <td>1</td>\n",
       "      <td>121</td>\n",
       "      <td>113</td>\n",
       "      <td>3</td>\n",
       "    </tr>\n",
       "    <tr>\n",
       "      <th>7</th>\n",
       "      <td>107</td>\n",
       "      <td>34</td>\n",
       "      <td>9</td>\n",
       "      <td>3</td>\n",
       "      <td>123</td>\n",
       "      <td>108</td>\n",
       "      <td>3</td>\n",
       "    </tr>\n",
       "    <tr>\n",
       "      <th>8</th>\n",
       "      <td>108</td>\n",
       "      <td>40</td>\n",
       "      <td>9</td>\n",
       "      <td>3</td>\n",
       "      <td>107</td>\n",
       "      <td>119,120</td>\n",
       "      <td>3</td>\n",
       "    </tr>\n",
       "    <tr>\n",
       "      <th>9</th>\n",
       "      <td>109</td>\n",
       "      <td>135</td>\n",
       "      <td>9</td>\n",
       "      <td>3</td>\n",
       "      <td>102</td>\n",
       "      <td>104</td>\n",
       "      <td>3</td>\n",
       "    </tr>\n",
       "    <tr>\n",
       "      <th>10</th>\n",
       "      <td>110</td>\n",
       "      <td>109</td>\n",
       "      <td>9</td>\n",
       "      <td>3</td>\n",
       "      <td>NaN</td>\n",
       "      <td>123</td>\n",
       "      <td>3</td>\n",
       "    </tr>\n",
       "    <tr>\n",
       "      <th>11</th>\n",
       "      <td>111</td>\n",
       "      <td>121</td>\n",
       "      <td>12</td>\n",
       "      <td>4</td>\n",
       "      <td>100,112</td>\n",
       "      <td>103</td>\n",
       "      <td>3</td>\n",
       "    </tr>\n",
       "    <tr>\n",
       "      <th>12</th>\n",
       "      <td>112</td>\n",
       "      <td>199</td>\n",
       "      <td>9</td>\n",
       "      <td>3</td>\n",
       "      <td>104</td>\n",
       "      <td>111</td>\n",
       "      <td>3</td>\n",
       "    </tr>\n",
       "    <tr>\n",
       "      <th>13</th>\n",
       "      <td>113</td>\n",
       "      <td>144</td>\n",
       "      <td>6</td>\n",
       "      <td>2</td>\n",
       "      <td>106</td>\n",
       "      <td>NaN</td>\n",
       "      <td>3</td>\n",
       "    </tr>\n",
       "    <tr>\n",
       "      <th>14</th>\n",
       "      <td>114</td>\n",
       "      <td>198</td>\n",
       "      <td>3</td>\n",
       "      <td>1</td>\n",
       "      <td>119</td>\n",
       "      <td>118</td>\n",
       "      <td>3</td>\n",
       "    </tr>\n",
       "    <tr>\n",
       "      <th>15</th>\n",
       "      <td>115</td>\n",
       "      <td>107</td>\n",
       "      <td>9</td>\n",
       "      <td>3</td>\n",
       "      <td>NaN</td>\n",
       "      <td>102</td>\n",
       "      <td>3</td>\n",
       "    </tr>\n",
       "    <tr>\n",
       "      <th>16</th>\n",
       "      <td>116</td>\n",
       "      <td>180</td>\n",
       "      <td>9</td>\n",
       "      <td>3</td>\n",
       "      <td>118,103</td>\n",
       "      <td>101</td>\n",
       "      <td>3</td>\n",
       "    </tr>\n",
       "    <tr>\n",
       "      <th>17</th>\n",
       "      <td>117</td>\n",
       "      <td>136</td>\n",
       "      <td>3</td>\n",
       "      <td>1</td>\n",
       "      <td>120</td>\n",
       "      <td>NaN</td>\n",
       "      <td>3</td>\n",
       "    </tr>\n",
       "    <tr>\n",
       "      <th>18</th>\n",
       "      <td>118</td>\n",
       "      <td>206</td>\n",
       "      <td>9</td>\n",
       "      <td>3</td>\n",
       "      <td>114</td>\n",
       "      <td>116,122</td>\n",
       "      <td>3</td>\n",
       "    </tr>\n",
       "    <tr>\n",
       "      <th>19</th>\n",
       "      <td>119</td>\n",
       "      <td>9</td>\n",
       "      <td>3</td>\n",
       "      <td>1</td>\n",
       "      <td>108</td>\n",
       "      <td>114</td>\n",
       "      <td>3</td>\n",
       "    </tr>\n",
       "    <tr>\n",
       "      <th>20</th>\n",
       "      <td>120</td>\n",
       "      <td>6</td>\n",
       "      <td>3</td>\n",
       "      <td>1</td>\n",
       "      <td>108</td>\n",
       "      <td>117</td>\n",
       "      <td>3</td>\n",
       "    </tr>\n",
       "    <tr>\n",
       "      <th>21</th>\n",
       "      <td>121</td>\n",
       "      <td>118</td>\n",
       "      <td>3</td>\n",
       "      <td>1</td>\n",
       "      <td>101</td>\n",
       "      <td>106</td>\n",
       "      <td>3</td>\n",
       "    </tr>\n",
       "    <tr>\n",
       "      <th>22</th>\n",
       "      <td>122</td>\n",
       "      <td>197</td>\n",
       "      <td>3</td>\n",
       "      <td>1</td>\n",
       "      <td>118,103</td>\n",
       "      <td>NaN</td>\n",
       "      <td>3</td>\n",
       "    </tr>\n",
       "    <tr>\n",
       "      <th>23</th>\n",
       "      <td>123</td>\n",
       "      <td>59</td>\n",
       "      <td>9</td>\n",
       "      <td>3</td>\n",
       "      <td>110</td>\n",
       "      <td>107</td>\n",
       "      <td>3</td>\n",
       "    </tr>\n",
       "  </tbody>\n",
       "</table>\n",
       "</div>"
      ],
      "text/plain": [
       "    link_id  length  width  lanes   in_top  out_top  lane_width\n",
       "0       100      58      3      1      105      111           3\n",
       "1       101      84      3      1      116      121           3\n",
       "2       102     131      9      3      115      109           3\n",
       "3       103      23     12      4      111  122,116           3\n",
       "4       104     293      9      3      109      112           3\n",
       "5       105      78      6      2      NaN      100           3\n",
       "6       106      15      3      1      121      113           3\n",
       "7       107      34      9      3      123      108           3\n",
       "8       108      40      9      3      107  119,120           3\n",
       "9       109     135      9      3      102      104           3\n",
       "10      110     109      9      3      NaN      123           3\n",
       "11      111     121     12      4  100,112      103           3\n",
       "12      112     199      9      3      104      111           3\n",
       "13      113     144      6      2      106      NaN           3\n",
       "14      114     198      3      1      119      118           3\n",
       "15      115     107      9      3      NaN      102           3\n",
       "16      116     180      9      3  118,103      101           3\n",
       "17      117     136      3      1      120      NaN           3\n",
       "18      118     206      9      3      114  116,122           3\n",
       "19      119       9      3      1      108      114           3\n",
       "20      120       6      3      1      108      117           3\n",
       "21      121     118      3      1      101      106           3\n",
       "22      122     197      3      1  118,103      NaN           3\n",
       "23      123      59      9      3      110      107           3"
      ]
     },
     "execution_count": 76,
     "metadata": {},
     "output_type": "execute_result"
    }
   ],
   "source": [
    "links"
   ]
  },
  {
   "cell_type": "code",
   "execution_count": 78,
   "metadata": {
    "collapsed": false
   },
   "outputs": [
    {
     "name": "stdout",
     "output_type": "stream",
     "text": [
      "<class 'pandas.core.frame.DataFrame'>\n",
      "RangeIndex: 24 entries, 0 to 23\n",
      "Data columns (total 7 columns):\n",
      "link_id       24 non-null int64\n",
      "length        24 non-null int64\n",
      "width         24 non-null int64\n",
      "lanes         24 non-null int64\n",
      "in_top        21 non-null object\n",
      "out_top       21 non-null object\n",
      "lane_width    24 non-null int64\n",
      "dtypes: int64(5), object(2)\n",
      "memory usage: 1.4+ KB\n"
     ]
    }
   ],
   "source": [
    "links.info()"
   ]
  },
  {
   "cell_type": "code",
   "execution_count": null,
   "metadata": {
    "collapsed": true
   },
   "outputs": [],
   "source": []
  }
 ],
 "metadata": {
  "kernelspec": {
   "display_name": "Python [conda root]",
   "language": "python",
   "name": "conda-root-py"
  },
  "language_info": {
   "codemirror_mode": {
    "name": "ipython",
    "version": 3
   },
   "file_extension": ".py",
   "mimetype": "text/x-python",
   "name": "python",
   "nbconvert_exporter": "python",
   "pygments_lexer": "ipython3",
   "version": "3.5.3"
  }
 },
 "nbformat": 4,
 "nbformat_minor": 2
}
