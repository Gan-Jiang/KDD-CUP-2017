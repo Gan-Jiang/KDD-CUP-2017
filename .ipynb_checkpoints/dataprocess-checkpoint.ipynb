{
 "cells": [
  {
   "cell_type": "code",
   "execution_count": 1,
   "metadata": {
    "collapsed": true
   },
   "outputs": [],
   "source": [
    "import numpy as np\n",
    "import pandas as pd\n",
    "import util\n",
    "import ml_alg\n",
    "import matplotlib.pyplot as plt\n",
    "%matplotlib inline"
   ]
  },
  {
   "cell_type": "code",
   "execution_count": 2,
   "metadata": {
    "collapsed": true
   },
   "outputs": [],
   "source": [
    "train_path = 'dataSets/training/'\n",
    "test_path = \"dataSets/testing_phase1/\""
   ]
  },
  {
   "cell_type": "code",
   "execution_count": 3,
   "metadata": {
    "collapsed": true
   },
   "outputs": [],
   "source": [
    "volume_data = pd.read_csv(train_path + 'volume(table 6)_training.csv', header = 0, error_bad_lines=False)\n",
    "weather_data = pd.read_csv(train_path + 'weather (table 7)_training.csv', header = 0, error_bad_lines=False)\n",
    "trajectories = pd.read_csv(train_path + 'trajectories(table 5)_training.csv', header = 0, error_bad_lines=False)\n",
    "route = pd.read_csv(train_path + 'routes (table 4).csv', header = 0, error_bad_lines=False)\n",
    "links = pd.read_csv(train_path + 'links (table 3).csv', header = 0, error_bad_lines=False)"
   ]
  },
  {
   "cell_type": "code",
   "execution_count": 4,
   "metadata": {
    "collapsed": true
   },
   "outputs": [],
   "source": [
    "test_trajectories = pd.read_csv(test_path + 'trajectories(table 5)_test1.csv', header = 0, error_bad_lines=False)\n",
    "test_volume_data = pd.read_csv(test_path + 'volume(table 6)_test1.csv', header = 0, error_bad_lines=False)\n",
    "test_weather_data = pd.read_csv(test_path + 'weather (table 7)_test1.csv', header = 0, error_bad_lines=False)"
   ]
  },
  {
   "cell_type": "code",
   "execution_count": null,
   "metadata": {
    "collapsed": true
   },
   "outputs": [],
   "source": []
  }
 ],
 "metadata": {
  "kernelspec": {
   "display_name": "Python [conda root]",
   "language": "python",
   "name": "conda-root-py"
  },
  "language_info": {
   "codemirror_mode": {
    "name": "ipython",
    "version": 3
   },
   "file_extension": ".py",
   "mimetype": "text/x-python",
   "name": "python",
   "nbconvert_exporter": "python",
   "pygments_lexer": "ipython3",
   "version": "3.5.3"
  }
 },
 "nbformat": 4,
 "nbformat_minor": 2
}
