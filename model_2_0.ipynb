{
 "cells": [
  {
   "cell_type": "code",
   "execution_count": 1,
   "metadata": {
    "collapsed": true
   },
   "outputs": [],
   "source": [
    "import numpy as np\n",
    "import pandas as pd\n",
    "import util\n",
    "import ml_alg\n",
    "import matplotlib.pyplot as plt\n",
    "%matplotlib inline"
   ]
  },
  {
   "cell_type": "code",
   "execution_count": 2,
   "metadata": {
    "collapsed": true
   },
   "outputs": [],
   "source": [
    "train_path = 'dataSets/training/'\n",
    "test_path = \"dataSets/testing_phase1/\""
   ]
  },
  {
   "cell_type": "code",
   "execution_count": 3,
   "metadata": {
    "collapsed": true
   },
   "outputs": [],
   "source": [
    "train_df = pd.read_csv(train_path + 'data_2_0_final.csv', index_col=0)\n",
    "test_df = pd.read_csv(test_path + 'data_2_0_final.csv', index_col=0)"
   ]
  },
  {
   "cell_type": "code",
   "execution_count": 5,
   "metadata": {
    "collapsed": false
   },
   "outputs": [
    {
     "data": {
      "text/html": [
       "<div>\n",
       "<table border=\"1\" class=\"dataframe\">\n",
       "  <thead>\n",
       "    <tr style=\"text-align: right;\">\n",
       "      <th></th>\n",
       "      <th>volume</th>\n",
       "      <th>volume_model0</th>\n",
       "      <th>volume_model1</th>\n",
       "      <th>volume_model2</th>\n",
       "      <th>volume_model3</th>\n",
       "      <th>volume_etc0</th>\n",
       "      <th>volume_etc1</th>\n",
       "      <th>volume_type0</th>\n",
       "      <th>volume_type1</th>\n",
       "      <th>pressure</th>\n",
       "      <th>...</th>\n",
       "      <th>vt0_1_0_6</th>\n",
       "      <th>vt0_1_1_6</th>\n",
       "      <th>vt0_2_0_6</th>\n",
       "      <th>vt0_3_0_6</th>\n",
       "      <th>vt0_3_1_6</th>\n",
       "      <th>vt1_1_0_6</th>\n",
       "      <th>vt1_1_1_6</th>\n",
       "      <th>vt1_2_0_6</th>\n",
       "      <th>vt1_3_0_6</th>\n",
       "      <th>vt1_3_1_6</th>\n",
       "    </tr>\n",
       "    <tr>\n",
       "      <th>time_window</th>\n",
       "      <th></th>\n",
       "      <th></th>\n",
       "      <th></th>\n",
       "      <th></th>\n",
       "      <th></th>\n",
       "      <th></th>\n",
       "      <th></th>\n",
       "      <th></th>\n",
       "      <th></th>\n",
       "      <th></th>\n",
       "      <th></th>\n",
       "      <th></th>\n",
       "      <th></th>\n",
       "      <th></th>\n",
       "      <th></th>\n",
       "      <th></th>\n",
       "      <th></th>\n",
       "      <th></th>\n",
       "      <th></th>\n",
       "      <th></th>\n",
       "      <th></th>\n",
       "    </tr>\n",
       "  </thead>\n",
       "  <tbody>\n",
       "    <tr>\n",
       "      <th>2016-09-19 00:00:00</th>\n",
       "      <td>2</td>\n",
       "      <td>0</td>\n",
       "      <td>1</td>\n",
       "      <td>1</td>\n",
       "      <td>0</td>\n",
       "      <td>2</td>\n",
       "      <td>0</td>\n",
       "      <td>0</td>\n",
       "      <td>0</td>\n",
       "      <td>1008.2</td>\n",
       "      <td>...</td>\n",
       "      <td>NaN</td>\n",
       "      <td>NaN</td>\n",
       "      <td>NaN</td>\n",
       "      <td>NaN</td>\n",
       "      <td>NaN</td>\n",
       "      <td>NaN</td>\n",
       "      <td>NaN</td>\n",
       "      <td>NaN</td>\n",
       "      <td>NaN</td>\n",
       "      <td>NaN</td>\n",
       "    </tr>\n",
       "    <tr>\n",
       "      <th>2016-09-19 00:20:00</th>\n",
       "      <td>0</td>\n",
       "      <td>0</td>\n",
       "      <td>0</td>\n",
       "      <td>0</td>\n",
       "      <td>0</td>\n",
       "      <td>0</td>\n",
       "      <td>0</td>\n",
       "      <td>0</td>\n",
       "      <td>0</td>\n",
       "      <td>1008.2</td>\n",
       "      <td>...</td>\n",
       "      <td>NaN</td>\n",
       "      <td>NaN</td>\n",
       "      <td>NaN</td>\n",
       "      <td>NaN</td>\n",
       "      <td>NaN</td>\n",
       "      <td>NaN</td>\n",
       "      <td>NaN</td>\n",
       "      <td>NaN</td>\n",
       "      <td>NaN</td>\n",
       "      <td>NaN</td>\n",
       "    </tr>\n",
       "    <tr>\n",
       "      <th>2016-09-19 00:40:00</th>\n",
       "      <td>0</td>\n",
       "      <td>0</td>\n",
       "      <td>0</td>\n",
       "      <td>0</td>\n",
       "      <td>0</td>\n",
       "      <td>0</td>\n",
       "      <td>0</td>\n",
       "      <td>0</td>\n",
       "      <td>0</td>\n",
       "      <td>1008.2</td>\n",
       "      <td>...</td>\n",
       "      <td>NaN</td>\n",
       "      <td>NaN</td>\n",
       "      <td>NaN</td>\n",
       "      <td>NaN</td>\n",
       "      <td>NaN</td>\n",
       "      <td>NaN</td>\n",
       "      <td>NaN</td>\n",
       "      <td>NaN</td>\n",
       "      <td>NaN</td>\n",
       "      <td>NaN</td>\n",
       "    </tr>\n",
       "    <tr>\n",
       "      <th>2016-09-19 01:00:00</th>\n",
       "      <td>1</td>\n",
       "      <td>0</td>\n",
       "      <td>1</td>\n",
       "      <td>0</td>\n",
       "      <td>0</td>\n",
       "      <td>0</td>\n",
       "      <td>1</td>\n",
       "      <td>0</td>\n",
       "      <td>0</td>\n",
       "      <td>1008.2</td>\n",
       "      <td>...</td>\n",
       "      <td>NaN</td>\n",
       "      <td>NaN</td>\n",
       "      <td>NaN</td>\n",
       "      <td>NaN</td>\n",
       "      <td>NaN</td>\n",
       "      <td>NaN</td>\n",
       "      <td>NaN</td>\n",
       "      <td>NaN</td>\n",
       "      <td>NaN</td>\n",
       "      <td>NaN</td>\n",
       "    </tr>\n",
       "    <tr>\n",
       "      <th>2016-09-19 01:20:00</th>\n",
       "      <td>0</td>\n",
       "      <td>0</td>\n",
       "      <td>0</td>\n",
       "      <td>0</td>\n",
       "      <td>0</td>\n",
       "      <td>0</td>\n",
       "      <td>0</td>\n",
       "      <td>0</td>\n",
       "      <td>0</td>\n",
       "      <td>1008.2</td>\n",
       "      <td>...</td>\n",
       "      <td>NaN</td>\n",
       "      <td>NaN</td>\n",
       "      <td>NaN</td>\n",
       "      <td>NaN</td>\n",
       "      <td>NaN</td>\n",
       "      <td>NaN</td>\n",
       "      <td>NaN</td>\n",
       "      <td>NaN</td>\n",
       "      <td>NaN</td>\n",
       "      <td>NaN</td>\n",
       "    </tr>\n",
       "  </tbody>\n",
       "</table>\n",
       "<p>5 rows × 324 columns</p>\n",
       "</div>"
      ],
      "text/plain": [
       "                     volume  volume_model0  volume_model1  volume_model2  \\\n",
       "time_window                                                                \n",
       "2016-09-19 00:00:00       2              0              1              1   \n",
       "2016-09-19 00:20:00       0              0              0              0   \n",
       "2016-09-19 00:40:00       0              0              0              0   \n",
       "2016-09-19 01:00:00       1              0              1              0   \n",
       "2016-09-19 01:20:00       0              0              0              0   \n",
       "\n",
       "                     volume_model3  volume_etc0  volume_etc1  volume_type0  \\\n",
       "time_window                                                                  \n",
       "2016-09-19 00:00:00              0            2            0             0   \n",
       "2016-09-19 00:20:00              0            0            0             0   \n",
       "2016-09-19 00:40:00              0            0            0             0   \n",
       "2016-09-19 01:00:00              0            0            1             0   \n",
       "2016-09-19 01:20:00              0            0            0             0   \n",
       "\n",
       "                     volume_type1  pressure    ...      vt0_1_0_6  vt0_1_1_6  \\\n",
       "time_window                                    ...                             \n",
       "2016-09-19 00:00:00             0    1008.2    ...            NaN        NaN   \n",
       "2016-09-19 00:20:00             0    1008.2    ...            NaN        NaN   \n",
       "2016-09-19 00:40:00             0    1008.2    ...            NaN        NaN   \n",
       "2016-09-19 01:00:00             0    1008.2    ...            NaN        NaN   \n",
       "2016-09-19 01:20:00             0    1008.2    ...            NaN        NaN   \n",
       "\n",
       "                     vt0_2_0_6  vt0_3_0_6  vt0_3_1_6  vt1_1_0_6  vt1_1_1_6  \\\n",
       "time_window                                                                  \n",
       "2016-09-19 00:00:00        NaN        NaN        NaN        NaN        NaN   \n",
       "2016-09-19 00:20:00        NaN        NaN        NaN        NaN        NaN   \n",
       "2016-09-19 00:40:00        NaN        NaN        NaN        NaN        NaN   \n",
       "2016-09-19 01:00:00        NaN        NaN        NaN        NaN        NaN   \n",
       "2016-09-19 01:20:00        NaN        NaN        NaN        NaN        NaN   \n",
       "\n",
       "                     vt1_2_0_6  vt1_3_0_6  vt1_3_1_6  \n",
       "time_window                                           \n",
       "2016-09-19 00:00:00        NaN        NaN        NaN  \n",
       "2016-09-19 00:20:00        NaN        NaN        NaN  \n",
       "2016-09-19 00:40:00        NaN        NaN        NaN  \n",
       "2016-09-19 01:00:00        NaN        NaN        NaN  \n",
       "2016-09-19 01:20:00        NaN        NaN        NaN  \n",
       "\n",
       "[5 rows x 324 columns]"
      ]
     },
     "execution_count": 5,
     "metadata": {},
     "output_type": "execute_result"
    }
   ],
   "source": [
    "train_df.head()"
   ]
  },
  {
   "cell_type": "code",
   "execution_count": 7,
   "metadata": {
    "collapsed": false
   },
   "outputs": [
    {
     "data": {
      "text/plain": [
       "array([[<matplotlib.axes._subplots.AxesSubplot object at 0x1129e3cf8>,\n",
       "        <matplotlib.axes._subplots.AxesSubplot object at 0x112aa7240>]], dtype=object)"
      ]
     },
     "execution_count": 7,
     "metadata": {},
     "output_type": "execute_result"
    },
    {
     "data": {
      "image/png": "[encoded data removed]",
      "text/plain": [
       "<matplotlib.figure.Figure at 0x1129c4c50>"
      ]
     },
     "metadata": {},
     "output_type": "display_data"
    }
   ],
   "source": [
    "volume = pd.DataFrame({\"volume\":train_df[\"volume\"], \"log(volume + 1)\":np.log1p(train_df[\"volume\"])})\n",
    "volume.hist()"
   ]
  },
  {
   "cell_type": "code",
   "execution_count": null,
   "metadata": {
    "collapsed": true
   },
   "outputs": [],
   "source": []
  }
 ],
 "metadata": {
  "kernelspec": {
   "display_name": "Python [conda root]",
   "language": "python",
   "name": "conda-root-py"
  },
  "language_info": {
   "codemirror_mode": {
    "name": "ipython",
    "version": 3
   },
   "file_extension": ".py",
   "mimetype": "text/x-python",
   "name": "python",
   "nbconvert_exporter": "python",
   "pygments_lexer": "ipython3",
   "version": "3.5.3"
  }
 },
 "nbformat": 4,
 "nbformat_minor": 2
}
