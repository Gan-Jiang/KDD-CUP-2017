{
 "cells": [
  {
   "cell_type": "code",
   "execution_count": 1,
   "metadata": {
    "collapsed": true
   },
   "outputs": [],
   "source": [
    "import numpy as np\n",
    "import pandas as pd\n",
    "import util\n",
    "import ml_alg\n",
    "import matplotlib.pyplot as plt\n",
    "import math\n",
    "%matplotlib inline"
   ]
  },
  {
   "cell_type": "code",
   "execution_count": 2,
   "metadata": {
    "collapsed": true
   },
   "outputs": [],
   "source": [
    "train_path = 'dataSets/training/'\n",
    "test_path = \"dataSets/testing_phase1/\""
   ]
  },
  {
   "cell_type": "code",
   "execution_count": 3,
   "metadata": {
    "collapsed": true
   },
   "outputs": [],
   "source": [
    "train_df = pd.read_csv(train_path + 'data_2_0_final.csv', index_col=0)\n",
    "test_df = pd.read_csv(test_path + 'data_2_0_final.csv', index_col=0)"
   ]
  },
  {
   "cell_type": "code",
   "execution_count": 4,
   "metadata": {
    "collapsed": true
   },
   "outputs": [],
   "source": [
    "y_train = train_df.pop('volume')\n",
    "test_df.drop(['volume'], axis=1, inplace=True)"
   ]
  },
  {
   "cell_type": "code",
   "execution_count": 5,
   "metadata": {
    "collapsed": true
   },
   "outputs": [],
   "source": [
    "all_df = pd.concat((train_df, test_df), axis=0)"
   ]
  },
  {
   "cell_type": "code",
   "execution_count": 6,
   "metadata": {
    "collapsed": false
   },
   "outputs": [
    {
     "data": {
      "text/plain": [
       "(2172, 570)"
      ]
     },
     "execution_count": 6,
     "metadata": {},
     "output_type": "execute_result"
    }
   ],
   "source": [
    "all_df.shape"
   ]
  },
  {
   "cell_type": "code",
   "execution_count": 7,
   "metadata": {
    "collapsed": false,
    "scrolled": true
   },
   "outputs": [
    {
     "data": {
      "text/html": [
       "<div>\n",
       "<table border=\"1\" class=\"dataframe\">\n",
       "  <thead>\n",
       "    <tr style=\"text-align: right;\">\n",
       "      <th></th>\n",
       "      <th>pressure</th>\n",
       "      <th>sea_pressure</th>\n",
       "      <th>wind_direction</th>\n",
       "      <th>wind_speed</th>\n",
       "      <th>temperature</th>\n",
       "      <th>rel_humidity</th>\n",
       "      <th>precipitation</th>\n",
       "      <th>dayofweek</th>\n",
       "      <th>hour</th>\n",
       "      <th>A2_1</th>\n",
       "      <th>...</th>\n",
       "      <th>vt0_1_0_11</th>\n",
       "      <th>vt0_1_1_11</th>\n",
       "      <th>vt0_2_0_11</th>\n",
       "      <th>vt0_3_0_11</th>\n",
       "      <th>vt0_3_1_11</th>\n",
       "      <th>vt1_1_0_11</th>\n",
       "      <th>vt1_1_1_11</th>\n",
       "      <th>vt1_2_0_11</th>\n",
       "      <th>vt1_3_0_11</th>\n",
       "      <th>vt1_3_1_11</th>\n",
       "    </tr>\n",
       "    <tr>\n",
       "      <th>time_window</th>\n",
       "      <th></th>\n",
       "      <th></th>\n",
       "      <th></th>\n",
       "      <th></th>\n",
       "      <th></th>\n",
       "      <th></th>\n",
       "      <th></th>\n",
       "      <th></th>\n",
       "      <th></th>\n",
       "      <th></th>\n",
       "      <th></th>\n",
       "      <th></th>\n",
       "      <th></th>\n",
       "      <th></th>\n",
       "      <th></th>\n",
       "      <th></th>\n",
       "      <th></th>\n",
       "      <th></th>\n",
       "      <th></th>\n",
       "      <th></th>\n",
       "      <th></th>\n",
       "    </tr>\n",
       "  </thead>\n",
       "  <tbody>\n",
       "    <tr>\n",
       "      <th>2016-09-19 00:00:00</th>\n",
       "      <td>1008.2</td>\n",
       "      <td>1013.2</td>\n",
       "      <td>329</td>\n",
       "      <td>2.8</td>\n",
       "      <td>22.2</td>\n",
       "      <td>76</td>\n",
       "      <td>0.0</td>\n",
       "      <td>0</td>\n",
       "      <td>0</td>\n",
       "      <td>NaN</td>\n",
       "      <td>...</td>\n",
       "      <td>NaN</td>\n",
       "      <td>NaN</td>\n",
       "      <td>NaN</td>\n",
       "      <td>NaN</td>\n",
       "      <td>NaN</td>\n",
       "      <td>NaN</td>\n",
       "      <td>NaN</td>\n",
       "      <td>NaN</td>\n",
       "      <td>NaN</td>\n",
       "      <td>NaN</td>\n",
       "    </tr>\n",
       "    <tr>\n",
       "      <th>2016-09-19 00:20:00</th>\n",
       "      <td>1008.2</td>\n",
       "      <td>1013.2</td>\n",
       "      <td>329</td>\n",
       "      <td>2.8</td>\n",
       "      <td>22.2</td>\n",
       "      <td>76</td>\n",
       "      <td>0.0</td>\n",
       "      <td>0</td>\n",
       "      <td>0</td>\n",
       "      <td>100.190000</td>\n",
       "      <td>...</td>\n",
       "      <td>NaN</td>\n",
       "      <td>NaN</td>\n",
       "      <td>NaN</td>\n",
       "      <td>NaN</td>\n",
       "      <td>NaN</td>\n",
       "      <td>NaN</td>\n",
       "      <td>NaN</td>\n",
       "      <td>NaN</td>\n",
       "      <td>NaN</td>\n",
       "      <td>NaN</td>\n",
       "    </tr>\n",
       "    <tr>\n",
       "      <th>2016-09-19 00:40:00</th>\n",
       "      <td>1008.2</td>\n",
       "      <td>1013.2</td>\n",
       "      <td>329</td>\n",
       "      <td>2.8</td>\n",
       "      <td>22.2</td>\n",
       "      <td>76</td>\n",
       "      <td>0.0</td>\n",
       "      <td>0</td>\n",
       "      <td>0</td>\n",
       "      <td>52.630000</td>\n",
       "      <td>...</td>\n",
       "      <td>NaN</td>\n",
       "      <td>NaN</td>\n",
       "      <td>NaN</td>\n",
       "      <td>NaN</td>\n",
       "      <td>NaN</td>\n",
       "      <td>NaN</td>\n",
       "      <td>NaN</td>\n",
       "      <td>NaN</td>\n",
       "      <td>NaN</td>\n",
       "      <td>NaN</td>\n",
       "    </tr>\n",
       "    <tr>\n",
       "      <th>2016-09-19 01:00:00</th>\n",
       "      <td>1008.2</td>\n",
       "      <td>1013.2</td>\n",
       "      <td>329</td>\n",
       "      <td>2.8</td>\n",
       "      <td>22.2</td>\n",
       "      <td>76</td>\n",
       "      <td>0.0</td>\n",
       "      <td>0</td>\n",
       "      <td>1</td>\n",
       "      <td>48.146667</td>\n",
       "      <td>...</td>\n",
       "      <td>NaN</td>\n",
       "      <td>NaN</td>\n",
       "      <td>NaN</td>\n",
       "      <td>NaN</td>\n",
       "      <td>NaN</td>\n",
       "      <td>NaN</td>\n",
       "      <td>NaN</td>\n",
       "      <td>NaN</td>\n",
       "      <td>NaN</td>\n",
       "      <td>NaN</td>\n",
       "    </tr>\n",
       "    <tr>\n",
       "      <th>2016-09-19 01:20:00</th>\n",
       "      <td>1008.2</td>\n",
       "      <td>1013.2</td>\n",
       "      <td>329</td>\n",
       "      <td>2.8</td>\n",
       "      <td>22.2</td>\n",
       "      <td>76</td>\n",
       "      <td>0.0</td>\n",
       "      <td>0</td>\n",
       "      <td>1</td>\n",
       "      <td>68.013478</td>\n",
       "      <td>...</td>\n",
       "      <td>NaN</td>\n",
       "      <td>NaN</td>\n",
       "      <td>NaN</td>\n",
       "      <td>NaN</td>\n",
       "      <td>NaN</td>\n",
       "      <td>NaN</td>\n",
       "      <td>NaN</td>\n",
       "      <td>NaN</td>\n",
       "      <td>NaN</td>\n",
       "      <td>NaN</td>\n",
       "    </tr>\n",
       "  </tbody>\n",
       "</table>\n",
       "<p>5 rows × 570 columns</p>\n",
       "</div>"
      ],
      "text/plain": [
       "                     pressure  sea_pressure  wind_direction  wind_speed  \\\n",
       "time_window                                                               \n",
       "2016-09-19 00:00:00    1008.2        1013.2             329         2.8   \n",
       "2016-09-19 00:20:00    1008.2        1013.2             329         2.8   \n",
       "2016-09-19 00:40:00    1008.2        1013.2             329         2.8   \n",
       "2016-09-19 01:00:00    1008.2        1013.2             329         2.8   \n",
       "2016-09-19 01:20:00    1008.2        1013.2             329         2.8   \n",
       "\n",
       "                     temperature  rel_humidity  precipitation  dayofweek  \\\n",
       "time_window                                                                \n",
       "2016-09-19 00:00:00         22.2            76            0.0          0   \n",
       "2016-09-19 00:20:00         22.2            76            0.0          0   \n",
       "2016-09-19 00:40:00         22.2            76            0.0          0   \n",
       "2016-09-19 01:00:00         22.2            76            0.0          0   \n",
       "2016-09-19 01:20:00         22.2            76            0.0          0   \n",
       "\n",
       "                     hour        A2_1     ...      vt0_1_0_11  vt0_1_1_11  \\\n",
       "time_window                               ...                               \n",
       "2016-09-19 00:00:00     0         NaN     ...             NaN         NaN   \n",
       "2016-09-19 00:20:00     0  100.190000     ...             NaN         NaN   \n",
       "2016-09-19 00:40:00     0   52.630000     ...             NaN         NaN   \n",
       "2016-09-19 01:00:00     1   48.146667     ...             NaN         NaN   \n",
       "2016-09-19 01:20:00     1   68.013478     ...             NaN         NaN   \n",
       "\n",
       "                     vt0_2_0_11  vt0_3_0_11  vt0_3_1_11  vt1_1_0_11  \\\n",
       "time_window                                                           \n",
       "2016-09-19 00:00:00         NaN         NaN         NaN         NaN   \n",
       "2016-09-19 00:20:00         NaN         NaN         NaN         NaN   \n",
       "2016-09-19 00:40:00         NaN         NaN         NaN         NaN   \n",
       "2016-09-19 01:00:00         NaN         NaN         NaN         NaN   \n",
       "2016-09-19 01:20:00         NaN         NaN         NaN         NaN   \n",
       "\n",
       "                     vt1_1_1_11  vt1_2_0_11  vt1_3_0_11  vt1_3_1_11  \n",
       "time_window                                                          \n",
       "2016-09-19 00:00:00         NaN         NaN         NaN         NaN  \n",
       "2016-09-19 00:20:00         NaN         NaN         NaN         NaN  \n",
       "2016-09-19 00:40:00         NaN         NaN         NaN         NaN  \n",
       "2016-09-19 01:00:00         NaN         NaN         NaN         NaN  \n",
       "2016-09-19 01:20:00         NaN         NaN         NaN         NaN  \n",
       "\n",
       "[5 rows x 570 columns]"
      ]
     },
     "execution_count": 7,
     "metadata": {},
     "output_type": "execute_result"
    }
   ],
   "source": [
    "all_df.head()"
   ]
  },
  {
   "cell_type": "code",
   "execution_count": 8,
   "metadata": {
    "collapsed": false
   },
   "outputs": [
    {
     "data": {
      "text/plain": [
       "pressure           0\n",
       "sea_pressure       0\n",
       "wind_direction     0\n",
       "wind_speed         0\n",
       "temperature        0\n",
       "rel_humidity       0\n",
       "precipitation      0\n",
       "dayofweek          0\n",
       "hour               0\n",
       "A2_1              71\n",
       "A3_1              71\n",
       "B1_1              71\n",
       "B3_1              71\n",
       "C1_1              71\n",
       "C3_1              71\n",
       "ve0_1_0_1         71\n",
       "ve0_1_1_1         71\n",
       "ve0_2_0_1         71\n",
       "ve0_3_0_1         71\n",
       "ve0_3_1_1         71\n",
       "ve1_1_0_1         71\n",
       "ve1_1_1_1         71\n",
       "ve1_2_0_1         71\n",
       "ve1_3_0_1         71\n",
       "ve1_3_1_1         71\n",
       "vm0_1_0_1         71\n",
       "vm0_1_1_1         71\n",
       "vm0_2_0_1         71\n",
       "vm0_3_0_1         71\n",
       "vm0_3_1_1         71\n",
       "                  ..\n",
       "vm1_1_0_11        81\n",
       "vm1_1_1_11        81\n",
       "vm1_2_0_11        81\n",
       "vm1_3_0_11        81\n",
       "vm1_3_1_11        81\n",
       "vm2_1_0_11        81\n",
       "vm2_1_1_11        81\n",
       "vm2_2_0_11        81\n",
       "vm2_3_0_11        81\n",
       "vm2_3_1_11        81\n",
       "vm3_1_0_11        81\n",
       "vm3_1_1_11        81\n",
       "vm3_2_0_11        81\n",
       "vm3_3_0_11        81\n",
       "vm3_3_1_11        81\n",
       "volume_1_0_11     81\n",
       "volume_1_1_11     81\n",
       "volume_2_0_11     81\n",
       "volume_3_0_11     81\n",
       "volume_3_1_11     81\n",
       "vt0_1_0_11        81\n",
       "vt0_1_1_11        81\n",
       "vt0_2_0_11        81\n",
       "vt0_3_0_11        81\n",
       "vt0_3_1_11        81\n",
       "vt1_1_0_11        81\n",
       "vt1_1_1_11        81\n",
       "vt1_2_0_11        81\n",
       "vt1_3_0_11        81\n",
       "vt1_3_1_11        81\n",
       "dtype: int64"
      ]
     },
     "execution_count": 8,
     "metadata": {},
     "output_type": "execute_result"
    }
   ],
   "source": [
    "all_df.isnull().sum()"
   ]
  },
  {
   "cell_type": "code",
   "execution_count": 9,
   "metadata": {
    "collapsed": false
   },
   "outputs": [
    {
     "data": {
      "text/plain": [
       "dtype('int64')"
      ]
     },
     "execution_count": 9,
     "metadata": {},
     "output_type": "execute_result"
    }
   ],
   "source": [
    "all_df['dayofweek'].dtypes"
   ]
  },
  {
   "cell_type": "code",
   "execution_count": 10,
   "metadata": {
    "collapsed": false
   },
   "outputs": [],
   "source": [
    "dweek = pd.get_dummies(all_df['dayofweek'], prefix='dayofweek')"
   ]
  },
  {
   "cell_type": "code",
   "execution_count": 11,
   "metadata": {
    "collapsed": true
   },
   "outputs": [],
   "source": [
    "dhour = pd.get_dummies(all_df['hour'], prefix='hour')"
   ]
  },
  {
   "cell_type": "code",
   "execution_count": 12,
   "metadata": {
    "collapsed": false
   },
   "outputs": [],
   "source": [
    "numeric_cols = all_df.columns[all_df.dtypes != 'object']\n",
    "numeric_col_means = all_df.loc[:, numeric_cols].mean()\n",
    "numeric_col_std = all_df.loc[:, numeric_cols].std(ddof=0)\n",
    "all_df.loc[:, numeric_cols] = (all_df.loc[:, numeric_cols] - numeric_col_means) / numeric_col_std"
   ]
  },
  {
   "cell_type": "code",
   "execution_count": 13,
   "metadata": {
    "collapsed": true
   },
   "outputs": [],
   "source": [
    "all_df.drop(['hour'], axis=1, inplace=True)\n",
    "all_df.drop(['dayofweek'], axis=1, inplace=True)\n",
    "all_df = pd.concat([all_df, dweek, dhour], axis=1)"
   ]
  },
  {
   "cell_type": "code",
   "execution_count": 14,
   "metadata": {
    "collapsed": false
   },
   "outputs": [
    {
     "data": {
      "text/plain": [
       "pressure             0\n",
       "sea_pressure         0\n",
       "wind_direction       0\n",
       "wind_speed           0\n",
       "temperature          0\n",
       "rel_humidity         0\n",
       "precipitation        0\n",
       "A2_1                71\n",
       "A3_1                71\n",
       "B1_1                71\n",
       "B3_1                71\n",
       "C1_1                71\n",
       "C3_1                71\n",
       "ve0_1_0_1           71\n",
       "ve0_1_1_1           71\n",
       "ve0_2_0_1           71\n",
       "ve0_3_0_1           71\n",
       "ve0_3_1_1           71\n",
       "ve1_1_0_1           71\n",
       "ve1_1_1_1           71\n",
       "ve1_2_0_1           71\n",
       "ve1_3_0_1           71\n",
       "ve1_3_1_1           71\n",
       "vm0_1_0_1           71\n",
       "vm0_1_1_1         2172\n",
       "vm0_2_0_1           71\n",
       "vm0_3_0_1           71\n",
       "vm0_3_1_1         2172\n",
       "vm1_1_0_1           71\n",
       "vm1_1_1_1           71\n",
       "                  ... \n",
       "volume_2_0_11       81\n",
       "volume_3_0_11       81\n",
       "volume_3_1_11       81\n",
       "vt0_1_0_11        2172\n",
       "vt0_1_1_11          81\n",
       "vt0_2_0_11        2172\n",
       "vt0_3_0_11        2172\n",
       "vt0_3_1_11          81\n",
       "vt1_1_0_11        2172\n",
       "vt1_1_1_11          81\n",
       "vt1_2_0_11        2172\n",
       "vt1_3_0_11        2172\n",
       "vt1_3_1_11          81\n",
       "dayofweek_0          0\n",
       "dayofweek_1          0\n",
       "dayofweek_2          0\n",
       "dayofweek_3          0\n",
       "hour_0               0\n",
       "hour_1               0\n",
       "hour_2               0\n",
       "hour_3               0\n",
       "hour_6               0\n",
       "hour_7               0\n",
       "hour_8               0\n",
       "hour_9               0\n",
       "hour_17              0\n",
       "hour_18              0\n",
       "hour_19              0\n",
       "hour_20              0\n",
       "hour_21              0\n",
       "dtype: int64"
      ]
     },
     "execution_count": 14,
     "metadata": {},
     "output_type": "execute_result"
    }
   ],
   "source": [
    "all_df.isnull().sum()"
   ]
  },
  {
   "cell_type": "markdown",
   "metadata": {},
   "source": [
    "# Training want to predict 8:00 - 8:20"
   ]
  },
  {
   "cell_type": "code",
   "execution_count": 15,
   "metadata": {
    "collapsed": true
   },
   "outputs": [],
   "source": [
    "dummy_train_df = all_df.loc[train_df.index]\n",
    "dummy_test_df = all_df.loc[test_df.index]"
   ]
  },
  {
   "cell_type": "code",
   "execution_count": 16,
   "metadata": {
    "collapsed": false
   },
   "outputs": [],
   "source": [
    "dummy_train_df_1 = dummy_train_df.ix['2016-09-19 02:00:00':]"
   ]
  },
  {
   "cell_type": "code",
   "execution_count": 17,
   "metadata": {
    "collapsed": false
   },
   "outputs": [],
   "source": [
    "dummy_train_df_1 = dummy_train_df_1.dropna(axis = 1)"
   ]
  },
  {
   "cell_type": "code",
   "execution_count": 18,
   "metadata": {
    "collapsed": false
   },
   "outputs": [],
   "source": [
    "y_train1 = y_train.ix['2016-09-19 02:00:00':]"
   ]
  },
  {
   "cell_type": "code",
   "execution_count": 19,
   "metadata": {
    "collapsed": true
   },
   "outputs": [],
   "source": [
    "X_train = dummy_train_df_1.values\n",
    "X_test = dummy_test_df.values"
   ]
  },
  {
   "cell_type": "markdown",
   "metadata": {},
   "source": [
    "## Try ridge regression as baseline. "
   ]
  },
  {
   "cell_type": "code",
   "execution_count": 20,
   "metadata": {
    "collapsed": true
   },
   "outputs": [],
   "source": [
    "from sklearn.linear_model import Ridge\n",
    "from sklearn.model_selection import cross_val_score\n",
    "import time"
   ]
  },
  {
   "cell_type": "markdown",
   "metadata": {},
   "source": [
    "### As MAPE is not listed in sklearn. Write my own metric. "
   ]
  },
  {
   "cell_type": "code",
   "execution_count": 24,
   "metadata": {
    "collapsed": true
   },
   "outputs": [],
   "source": [
    "from sklearn.metrics import make_scorer\n",
    "def MAPE(ground_truth, predictions):\n",
    "    ground_truth[ground_truth == 0] = math.inf\n",
    "    diff = np.abs((ground_truth - predictions)/ground_truth).mean()\n",
    "    return diff\n",
    "\n",
    "loss  = make_scorer(MAPE, greater_is_better=False)"
   ]
  },
  {
   "cell_type": "code",
   "execution_count": 22,
   "metadata": {
    "collapsed": false,
    "scrolled": true
   },
   "outputs": [
    {
     "name": "stdout",
     "output_type": "stream",
     "text": [
      "alpha:0.001 loss = 0.601888618606\n",
      "time:0.25409483909606934\n",
      "alpha:0.00126485521686 loss = 0.601875432718\n",
      "time:0.1864309310913086\n",
      "alpha:0.00159985871961 loss = 0.601858907628\n",
      "time:0.18918991088867188\n",
      "alpha:0.00202358964773 loss = 0.601838257784\n",
      "time:0.17892098426818848\n",
      "alpha:0.0025595479227 loss = 0.601812523843\n",
      "time:0.1809859275817871\n",
      "alpha:0.00323745754282 loss = 0.601780557961\n",
      "time:0.1822521686553955\n",
      "alpha:0.00409491506238 loss = 0.601741026555\n",
      "time:0.19357991218566895\n",
      "alpha:0.00517947467923 loss = 0.601692402551\n",
      "time:0.17324209213256836\n",
      "alpha:0.0065512855686 loss = 0.601632983685\n",
      "time:0.17615509033203125\n",
      "alpha:0.00828642772855 loss = 0.601560936853\n",
      "time:0.1721341609954834\n",
      "alpha:0.0104811313415 loss = 0.601474374609\n",
      "time:0.18620991706848145\n",
      "alpha:0.0132571136559 loss = 0.601371465065\n",
      "time:0.1789078712463379\n",
      "alpha:0.0167683293681 loss = 0.601254595557\n",
      "time:0.1765749454498291\n",
      "alpha:0.0212095088792 loss = 0.601122807966\n",
      "time:0.17504310607910156\n",
      "alpha:0.0268269579528 loss = 0.600971729228\n",
      "time:0.17886710166931152\n",
      "alpha:0.033932217719 loss = 0.600800757342\n",
      "time:0.16834115982055664\n",
      "alpha:0.0429193426013 loss = 0.600609512375\n",
      "time:0.17923784255981445\n",
      "alpha:0.0542867543932 loss = 0.600397531797\n",
      "time:0.17408204078674316\n",
      "alpha:0.0686648845004 loss = 0.600165365711\n",
      "time:0.16732287406921387\n",
      "alpha:0.0868511373751 loss = 0.599912757964\n",
      "time:0.17920613288879395\n",
      "alpha:0.109854114199 loss = 0.599632405042\n",
      "time:0.1813371181488037\n",
      "alpha:0.138949549437 loss = 0.599318035429\n",
      "time:0.1813030242919922\n",
      "alpha:0.175751062485 loss = 0.598960544213\n",
      "time:0.1962740421295166\n",
      "alpha:0.222299648253 loss = 0.598547576295\n",
      "time:0.18223309516906738\n",
      "alpha:0.281176869797 loss = 0.59806332943\n",
      "time:0.17465686798095703\n",
      "alpha:0.355648030622 loss = 0.597487735237\n",
      "time:0.17296099662780762\n",
      "alpha:0.449843266897 loss = 0.596798727417\n",
      "time:0.17226886749267578\n",
      "alpha:0.568986602902 loss = 0.595979110374\n",
      "time:0.1670699119567871\n",
      "alpha:0.719685673001 loss = 0.595003726877\n",
      "time:0.17769694328308105\n",
      "alpha:0.910298177992 loss = 0.593823402563\n",
      "time:0.1696782112121582\n",
      "alpha:1.15139539933 loss = 0.592423017014\n",
      "time:0.17214107513427734\n",
      "alpha:1.4563484775 loss = 0.590747380125\n",
      "time:0.1712191104888916\n",
      "alpha:1.84206996933 loss = 0.588865032476\n",
      "time:0.17359209060668945\n",
      "alpha:2.32995181052 loss = 0.586849266086\n",
      "time:0.17511296272277832\n",
      "alpha:2.94705170255 loss = 0.584670116909\n",
      "time:0.1710529327392578\n",
      "alpha:3.72759372031 loss = 0.582385058942\n",
      "time:0.16612005233764648\n",
      "alpha:4.71486636346 loss = 0.580006114599\n",
      "time:0.1785728931427002\n",
      "alpha:5.96362331659 loss = 0.577735512663\n",
      "time:0.1690540313720703\n",
      "alpha:7.54312006335 loss = 0.575475356027\n",
      "time:0.17149782180786133\n",
      "alpha:9.5409547635 loss = 0.573455671339\n",
      "time:0.16826581954956055\n",
      "alpha:12.0679264064 loss = 0.571718786174\n",
      "time:0.17077207565307617\n",
      "alpha:15.2641796718 loss = 0.570177114737\n",
      "time:0.17027688026428223\n",
      "alpha:19.3069772888 loss = 0.568877131033\n",
      "time:0.1749100685119629\n",
      "alpha:24.4205309455 loss = 0.568081300039\n",
      "time:0.1703639030456543\n",
      "alpha:30.8884359648 loss = 0.567817684418\n",
      "time:0.17483901977539062\n",
      "alpha:39.0693993705 loss = 0.567958564768\n",
      "time:0.1701819896697998\n",
      "alpha:49.4171336132 loss = 0.569105870689\n",
      "time:0.16693592071533203\n",
      "alpha:62.5055192527 loss = 0.571327953469\n",
      "time:0.16860008239746094\n",
      "alpha:79.0604321091 loss = 0.575395206539\n",
      "time:0.17369890213012695\n",
      "alpha:100.0 loss = 0.580887947309\n",
      "time:0.1675729751586914\n"
     ]
    }
   ],
   "source": [
    "alphas = np.logspace(-3, 2, 50)\n",
    "test_scores = []\n",
    "for alpha in alphas:\n",
    "    start_time = time.time()\n",
    "    clf = Ridge(alpha)\n",
    "    test_score = -cross_val_score(clf, X_train, y_train1, cv=10, scoring=loss).mean()\n",
    "    test_scores.append(test_score)\n",
    "    print(\"alpha:\" + str(alpha) + \" loss = \" + str(test_score))\n",
    "    print(\"time:\" + str(time.time() - start_time))"
   ]
  },
  {
   "cell_type": "code",
   "execution_count": 23,
   "metadata": {
    "collapsed": false
   },
   "outputs": [
    {
     "data": {
      "image/png": "[encoded data removed]",
      "text/plain": [
       "<matplotlib.figure.Figure at 0x10fb2eba8>"
      ]
     },
     "metadata": {},
     "output_type": "display_data"
    }
   ],
   "source": [
    "plt.plot(alphas, test_scores)\n",
    "plt.title(\"Alpha vs CV Error\");"
   ]
  },
  {
   "cell_type": "code",
   "execution_count": 24,
   "metadata": {
    "collapsed": false
   },
   "outputs": [
    {
     "data": {
      "text/plain": [
       "44"
      ]
     },
     "execution_count": 24,
     "metadata": {},
     "output_type": "execute_result"
    }
   ],
   "source": [
    "np.argmin(test_scores)"
   ]
  },
  {
   "cell_type": "code",
   "execution_count": 25,
   "metadata": {
    "collapsed": true
   },
   "outputs": [],
   "source": [
    "#baseline model\n",
    "alpha = alphas[44]\n",
    "clf = Ridge(alpha)"
   ]
  },
  {
   "cell_type": "code",
   "execution_count": 26,
   "metadata": {
    "collapsed": false
   },
   "outputs": [
    {
     "data": {
      "image/png": "[encoded data removed]",
      "text/plain": [
       "<matplotlib.figure.Figure at 0x10861dc18>"
      ]
     },
     "metadata": {},
     "output_type": "display_data"
    }
   ],
   "source": [
    "util.plot_learning_curve(clf, X_train, y_train1, cv=10, scoring = loss, ylim=None,\n",
    "                        train_sizes=np.linspace(.1, 1.0, 10))"
   ]
  },
  {
   "cell_type": "markdown",
   "metadata": {},
   "source": [
    "### Underfit. Should use more flex model. "
   ]
  },
  {
   "cell_type": "code",
   "execution_count": 27,
   "metadata": {
    "collapsed": false
   },
   "outputs": [
    {
     "data": {
      "text/plain": [
       "(2082, 282)"
      ]
     },
     "execution_count": 27,
     "metadata": {},
     "output_type": "execute_result"
    }
   ],
   "source": [
    "X_train.shape"
   ]
  },
  {
   "cell_type": "markdown",
   "metadata": {},
   "source": [
    "## Random forest"
   ]
  },
  {
   "cell_type": "code",
   "execution_count": 21,
   "metadata": {
    "collapsed": true
   },
   "outputs": [],
   "source": [
    "from sklearn.ensemble import RandomForestRegressor"
   ]
  },
  {
   "cell_type": "code",
   "execution_count": 36,
   "metadata": {
    "collapsed": false
   },
   "outputs": [
    {
     "name": "stdout",
     "output_type": "stream",
     "text": [
      "max_feat:0.1 loss = 0.39795917625\n",
      "time:17.66840696334839\n",
      "max_feat:0.3 loss = 0.367592704092\n",
      "time:49.38841104507446\n",
      "max_feat:0.5 loss = 0.371620596208\n",
      "time:77.82065606117249\n",
      "max_feat:0.7 loss = 0.375728150662\n",
      "time:106.11003494262695\n",
      "max_feat:0.9 loss = 0.379324241197\n",
      "time:135.00751900672913\n",
      "max_feat:0.99 loss = 0.376273059141\n",
      "time:147.93540906906128\n"
     ]
    }
   ],
   "source": [
    "max_features = [.1, .3, .5, .7, .9, .99]\n",
    "test_scores = []\n",
    "for max_feat in max_features:\n",
    "    start_time = time.time()\n",
    "    clf = RandomForestRegressor(n_estimators=200, max_features=max_feat)\n",
    "    test_score = -cross_val_score(clf, X_train, y_train1, cv=5, scoring=loss).mean()\n",
    "    test_scores.append(test_score)\n",
    "    print(\"max_feat:\" + str(max_feat) + \" loss = \" + str(test_score))\n",
    "    print(\"time:\" + str(time.time() - start_time))"
   ]
  },
  {
   "cell_type": "code",
   "execution_count": 41,
   "metadata": {
    "collapsed": false
   },
   "outputs": [
    {
     "data": {
      "text/plain": [
       "RandomForestRegressor(bootstrap=True, criterion='mse', max_depth=None,\n",
       "           max_features=0.3, max_leaf_nodes=None, min_impurity_split=1e-07,\n",
       "           min_samples_leaf=20, min_samples_split=2,\n",
       "           min_weight_fraction_leaf=0.0, n_estimators=300, n_jobs=1,\n",
       "           oob_score=False, random_state=None, verbose=0, warm_start=False)"
      ]
     },
     "execution_count": 41,
     "metadata": {},
     "output_type": "execute_result"
    }
   ],
   "source": [
    "clf = RandomForestRegressor(n_estimators=300, min_samples_leaf = 10, max_features=0.3)\n",
    "clf.fit(X_train, y_train1)"
   ]
  },
  {
   "cell_type": "code",
   "execution_count": 42,
   "metadata": {
    "collapsed": false
   },
   "outputs": [
    {
     "data": {
      "image/png": "[encoded data removed]",
      "text/plain": [
       "<matplotlib.figure.Figure at 0x10fa77e48>"
      ]
     },
     "metadata": {},
     "output_type": "display_data"
    }
   ],
   "source": [
    "util.plot_learning_curve(clf, X_train, y_train1, cv=10, scoring = loss, ylim=None,\n",
    "                        train_sizes=np.linspace(.1, 1.0, 8))"
   ]
  },
  {
   "cell_type": "code",
   "execution_count": 43,
   "metadata": {
    "collapsed": false
   },
   "outputs": [
    {
     "data": {
      "image/png": "[encoded data removed]",
      "text/plain": [
       "<matplotlib.figure.Figure at 0x10fc63eb8>"
      ]
     },
     "metadata": {},
     "output_type": "display_data"
    }
   ],
   "source": [
    "clf = RandomForestRegressor(n_estimators=300, min_samples_leaf = 10, max_features=0.3)\n",
    "util.plot_learning_curve(clf, X_train, y_train1, cv=10, scoring = loss, ylim=None,\n",
    "                        train_sizes=np.linspace(.1, 1.0, 8))"
   ]
  },
  {
   "cell_type": "code",
   "execution_count": 22,
   "metadata": {
    "collapsed": false,
    "scrolled": true
   },
   "outputs": [
    {
     "name": "stderr",
     "output_type": "stream",
     "text": [
      "/Users/Solomon/anaconda3/anaconda/lib/python3.5/site-packages/sklearn/cross_validation.py:44: DeprecationWarning: This module was deprecated in version 0.18 in favor of the model_selection module into which all the refactored classes and functions are moved. Also note that the interface of the new CV iterators are different from that of this module. This module will be removed in 0.20.\n",
      "  \"This module will be removed in 0.20.\", DeprecationWarning)\n"
     ]
    }
   ],
   "source": [
    "from xgboost import XGBRegressor"
   ]
  },
  {
   "cell_type": "code",
   "execution_count": 29,
   "metadata": {
    "collapsed": false,
    "scrolled": true
   },
   "outputs": [
    {
     "name": "stdout",
     "output_type": "stream",
     "text": [
      "param:1 loss = 0.446444931566\n",
      "time:1.7979910373687744\n",
      "param:2 loss = 0.406419789762\n",
      "time:2.7637979984283447\n",
      "param:3 loss = 0.377154533568\n",
      "time:3.5849790573120117\n",
      "param:4 loss = 0.36320446474\n",
      "time:5.131049871444702\n",
      "param:5 loss = 0.364182664485\n",
      "time:7.123805046081543\n",
      "param:6 loss = 0.35864397275\n",
      "time:9.890104055404663\n",
      "param:7 loss = 0.362751522574\n",
      "time:12.343939065933228\n",
      "param:8 loss = 0.370358726672\n",
      "time:14.91746997833252\n",
      "param:9 loss = 0.37925393236\n",
      "time:19.01983880996704\n",
      "param:10 loss = 0.39166059561\n",
      "time:19.70253300666809\n",
      "param:11 loss = 0.385426927736\n",
      "time:20.584470987319946\n",
      "param:12 loss = 0.388075864532\n",
      "time:22.3659029006958\n",
      "param:13 loss = 0.387714188371\n",
      "time:23.63110613822937\n",
      "param:14 loss = 0.394171920356\n",
      "time:25.51936101913452\n",
      "param:15 loss = 0.392457097603\n",
      "time:26.998738050460815\n"
     ]
    }
   ],
   "source": [
    "params = [1,2,3,4,5,6, 7, 8, 9, 10, 11, 12,13,14,15]\n",
    "test_scores = []\n",
    "for param in params:\n",
    "    start_time = time.time()\n",
    "    clf = XGBRegressor(max_depth=param)\n",
    "    test_score = -cross_val_score(clf, X_train, y_train1, cv=10, scoring=loss).mean()\n",
    "    test_scores.append(test_scores)\n",
    "    print(\"param:\" + str(param) + \" loss = \" + str(test_score))\n",
    "    print(\"time:\" + str(time.time() - start_time))"
   ]
  },
  {
   "cell_type": "code",
   "execution_count": 37,
   "metadata": {
    "collapsed": false,
    "scrolled": true
   },
   "outputs": [
    {
     "ename": "AttributeError",
     "evalue": "'_IXIndexer' object has no attribute 'hour'",
     "output_type": "error",
     "traceback": [
      "\u001b[0;31m---------------------------------------------------------------------------\u001b[0m",
      "\u001b[0;31mAttributeError\u001b[0m                            Traceback (most recent call last)",
      "\u001b[0;32m<ipython-input-37-0922d6a429e4>\u001b[0m in \u001b[0;36m<module>\u001b[0;34m()\u001b[0m\n\u001b[0;32m----> 1\u001b[0;31m \u001b[0mtest_df\u001b[0m\u001b[0;34m.\u001b[0m\u001b[0mix\u001b[0m\u001b[0;34m.\u001b[0m\u001b[0mhour\u001b[0m\u001b[0;34m\u001b[0m\u001b[0m\n\u001b[0m",
      "\u001b[0;31mAttributeError\u001b[0m: '_IXIndexer' object has no attribute 'hour'"
     ]
    }
   ],
   "source": [
    "test_df.ix.hour"
   ]
  },
  {
   "cell_type": "code",
   "execution_count": 38,
   "metadata": {
    "collapsed": false
   },
   "outputs": [
    {
     "data": {
      "text/html": [
       "<div>\n",
       "<table border=\"1\" class=\"dataframe\">\n",
       "  <thead>\n",
       "    <tr style=\"text-align: right;\">\n",
       "      <th></th>\n",
       "      <th>pressure</th>\n",
       "      <th>sea_pressure</th>\n",
       "      <th>wind_direction</th>\n",
       "      <th>wind_speed</th>\n",
       "      <th>temperature</th>\n",
       "      <th>rel_humidity</th>\n",
       "      <th>precipitation</th>\n",
       "      <th>dayofweek</th>\n",
       "      <th>hour</th>\n",
       "      <th>A2_1</th>\n",
       "      <th>...</th>\n",
       "      <th>vt0_1_0_11</th>\n",
       "      <th>vt0_1_1_11</th>\n",
       "      <th>vt0_2_0_11</th>\n",
       "      <th>vt0_3_0_11</th>\n",
       "      <th>vt0_3_1_11</th>\n",
       "      <th>vt1_1_0_11</th>\n",
       "      <th>vt1_1_1_11</th>\n",
       "      <th>vt1_2_0_11</th>\n",
       "      <th>vt1_3_0_11</th>\n",
       "      <th>vt1_3_1_11</th>\n",
       "    </tr>\n",
       "    <tr>\n",
       "      <th>time_window</th>\n",
       "      <th></th>\n",
       "      <th></th>\n",
       "      <th></th>\n",
       "      <th></th>\n",
       "      <th></th>\n",
       "      <th></th>\n",
       "      <th></th>\n",
       "      <th></th>\n",
       "      <th></th>\n",
       "      <th></th>\n",
       "      <th></th>\n",
       "      <th></th>\n",
       "      <th></th>\n",
       "      <th></th>\n",
       "      <th></th>\n",
       "      <th></th>\n",
       "      <th></th>\n",
       "      <th></th>\n",
       "      <th></th>\n",
       "      <th></th>\n",
       "      <th></th>\n",
       "    </tr>\n",
       "  </thead>\n",
       "  <tbody>\n",
       "    <tr>\n",
       "      <th>2016-10-18 08:00:00</th>\n",
       "      <td>1012.5</td>\n",
       "      <td>1017.5</td>\n",
       "      <td>128</td>\n",
       "      <td>1.6</td>\n",
       "      <td>23.4</td>\n",
       "      <td>73</td>\n",
       "      <td>0.0</td>\n",
       "      <td>0</td>\n",
       "      <td>8</td>\n",
       "      <td>63.6</td>\n",
       "      <td>...</td>\n",
       "      <td>NaN</td>\n",
       "      <td>NaN</td>\n",
       "      <td>NaN</td>\n",
       "      <td>NaN</td>\n",
       "      <td>NaN</td>\n",
       "      <td>NaN</td>\n",
       "      <td>NaN</td>\n",
       "      <td>NaN</td>\n",
       "      <td>NaN</td>\n",
       "      <td>NaN</td>\n",
       "    </tr>\n",
       "    <tr>\n",
       "      <th>2016-10-18 08:20:00</th>\n",
       "      <td>1012.5</td>\n",
       "      <td>1017.5</td>\n",
       "      <td>128</td>\n",
       "      <td>1.6</td>\n",
       "      <td>23.4</td>\n",
       "      <td>73</td>\n",
       "      <td>0.0</td>\n",
       "      <td>0</td>\n",
       "      <td>8</td>\n",
       "      <td>NaN</td>\n",
       "      <td>...</td>\n",
       "      <td>NaN</td>\n",
       "      <td>NaN</td>\n",
       "      <td>NaN</td>\n",
       "      <td>NaN</td>\n",
       "      <td>NaN</td>\n",
       "      <td>NaN</td>\n",
       "      <td>NaN</td>\n",
       "      <td>NaN</td>\n",
       "      <td>NaN</td>\n",
       "      <td>NaN</td>\n",
       "    </tr>\n",
       "  </tbody>\n",
       "</table>\n",
       "<p>2 rows × 570 columns</p>\n",
       "</div>"
      ],
      "text/plain": [
       "                     pressure  sea_pressure  wind_direction  wind_speed  \\\n",
       "time_window                                                               \n",
       "2016-10-18 08:00:00    1012.5        1017.5             128         1.6   \n",
       "2016-10-18 08:20:00    1012.5        1017.5             128         1.6   \n",
       "\n",
       "                     temperature  rel_humidity  precipitation  dayofweek  \\\n",
       "time_window                                                                \n",
       "2016-10-18 08:00:00         23.4            73            0.0          0   \n",
       "2016-10-18 08:20:00         23.4            73            0.0          0   \n",
       "\n",
       "                     hour  A2_1     ...      vt0_1_0_11  vt0_1_1_11  \\\n",
       "time_window                         ...                               \n",
       "2016-10-18 08:00:00     8  63.6     ...             NaN         NaN   \n",
       "2016-10-18 08:20:00     8   NaN     ...             NaN         NaN   \n",
       "\n",
       "                     vt0_2_0_11  vt0_3_0_11  vt0_3_1_11  vt1_1_0_11  \\\n",
       "time_window                                                           \n",
       "2016-10-18 08:00:00         NaN         NaN         NaN         NaN   \n",
       "2016-10-18 08:20:00         NaN         NaN         NaN         NaN   \n",
       "\n",
       "                     vt1_1_1_11  vt1_2_0_11  vt1_3_0_11  vt1_3_1_11  \n",
       "time_window                                                          \n",
       "2016-10-18 08:00:00         NaN         NaN         NaN         NaN  \n",
       "2016-10-18 08:20:00         NaN         NaN         NaN         NaN  \n",
       "\n",
       "[2 rows x 570 columns]"
      ]
     },
     "execution_count": 38,
     "metadata": {},
     "output_type": "execute_result"
    }
   ],
   "source": [
    "test_df.ix[['2016-10-18 08:00:00', '2016-10-18 08:20:00']]"
   ]
  },
  {
   "cell_type": "code",
   "execution_count": 41,
   "metadata": {
    "collapsed": false
   },
   "outputs": [
    {
     "data": {
      "text/plain": [
       "array(['2016-10-18 08:00:00', '2016-10-18 08:20:00', '2016-10-18 08:40:00',\n",
       "       '2016-10-18 09:00:00', '2016-10-18 09:20:00', '2016-10-18 09:40:00',\n",
       "       '2016-10-18 17:00:00', '2016-10-18 17:20:00', '2016-10-18 17:40:00',\n",
       "       '2016-10-18 18:00:00', '2016-10-18 18:20:00', '2016-10-18 18:40:00',\n",
       "       '2016-10-19 08:00:00', '2016-10-19 08:20:00', '2016-10-19 08:40:00',\n",
       "       '2016-10-19 09:00:00', '2016-10-19 09:20:00', '2016-10-19 09:40:00',\n",
       "       '2016-10-19 17:00:00', '2016-10-19 17:20:00', '2016-10-19 17:40:00',\n",
       "       '2016-10-19 18:00:00', '2016-10-19 18:20:00', '2016-10-19 18:40:00',\n",
       "       '2016-10-20 08:00:00', '2016-10-20 08:20:00', '2016-10-20 08:40:00',\n",
       "       '2016-10-20 09:00:00', '2016-10-20 09:20:00', '2016-10-20 09:40:00',\n",
       "       '2016-10-20 17:00:00', '2016-10-20 17:20:00', '2016-10-20 17:40:00',\n",
       "       '2016-10-20 18:00:00', '2016-10-20 18:20:00', '2016-10-20 18:40:00',\n",
       "       '2016-10-21 08:00:00', '2016-10-21 08:20:00', '2016-10-21 08:40:00',\n",
       "       '2016-10-21 09:00:00', '2016-10-21 09:20:00', '2016-10-21 09:40:00',\n",
       "       '2016-10-21 17:00:00', '2016-10-21 17:20:00', '2016-10-21 17:40:00',\n",
       "       '2016-10-21 18:00:00', '2016-10-21 18:20:00', '2016-10-21 18:40:00',\n",
       "       '2016-10-22 08:00:00', '2016-10-22 08:20:00', '2016-10-22 08:40:00',\n",
       "       '2016-10-22 09:00:00', '2016-10-22 09:20:00', '2016-10-22 09:40:00',\n",
       "       '2016-10-22 17:00:00', '2016-10-22 17:20:00', '2016-10-22 17:40:00',\n",
       "       '2016-10-22 18:00:00', '2016-10-22 18:20:00', '2016-10-22 18:40:00',\n",
       "       '2016-10-23 08:00:00', '2016-10-23 08:20:00', '2016-10-23 08:40:00',\n",
       "       '2016-10-23 09:00:00', '2016-10-23 09:20:00', '2016-10-23 09:40:00',\n",
       "       '2016-10-23 17:00:00', '2016-10-23 17:20:00', '2016-10-23 17:40:00',\n",
       "       '2016-10-23 18:00:00', '2016-10-23 18:20:00', '2016-10-23 18:40:00',\n",
       "       '2016-10-24 08:00:00', '2016-10-24 08:20:00', '2016-10-24 08:40:00',\n",
       "       '2016-10-24 09:00:00', '2016-10-24 09:20:00', '2016-10-24 09:40:00',\n",
       "       '2016-10-24 17:00:00', '2016-10-24 17:20:00', '2016-10-24 17:40:00',\n",
       "       '2016-10-24 18:00:00', '2016-10-24 18:20:00', '2016-10-24 18:40:00'], dtype=object)"
      ]
     },
     "execution_count": 41,
     "metadata": {},
     "output_type": "execute_result"
    }
   ],
   "source": [
    "test_df.index.values"
   ]
  },
  {
   "cell_type": "code",
   "execution_count": null,
   "metadata": {
    "collapsed": true
   },
   "outputs": [],
   "source": []
  }
 ],
 "metadata": {
  "kernelspec": {
   "display_name": "Python [conda root]",
   "language": "python",
   "name": "conda-root-py"
  },
  "language_info": {
   "codemirror_mode": {
    "name": "ipython",
    "version": 3
   },
   "file_extension": ".py",
   "mimetype": "text/x-python",
   "name": "python",
   "nbconvert_exporter": "python",
   "pygments_lexer": "ipython3",
   "version": "3.5.3"
  }
 },
 "nbformat": 4,
 "nbformat_minor": 2
}
