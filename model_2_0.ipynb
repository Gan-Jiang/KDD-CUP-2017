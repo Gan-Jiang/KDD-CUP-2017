{
 "cells": [
  {
   "cell_type": "code",
   "execution_count": 25,
   "metadata": {
    "collapsed": true
   },
   "outputs": [],
   "source": [
    "import numpy as np\n",
    "import pandas as pd\n",
    "import util\n",
    "import ml_alg\n",
    "import matplotlib.pyplot as plt\n",
    "%matplotlib inline"
   ]
  },
  {
   "cell_type": "code",
   "execution_count": 33,
   "metadata": {
    "collapsed": true
   },
   "outputs": [],
   "source": [
    "train_path = 'dataSets/training/'\n",
    "test_path = \"dataSets/testing_phase1/\""
   ]
  },
  {
   "cell_type": "code",
   "execution_count": 34,
   "metadata": {
    "collapsed": true
   },
   "outputs": [],
   "source": [
    "train_df = pd.read_csv(train_path + 'data_2_0_final.csv', index_col=0)\n",
    "test_df = pd.read_csv(test_path + 'data_2_0_final.csv', index_col=0)"
   ]
  },
  {
   "cell_type": "code",
   "execution_count": 35,
   "metadata": {
    "collapsed": false,
    "scrolled": false
   },
   "outputs": [
    {
     "data": {
      "text/html": [
       "<div>\n",
       "<table border=\"1\" class=\"dataframe\">\n",
       "  <thead>\n",
       "    <tr style=\"text-align: right;\">\n",
       "      <th></th>\n",
       "      <th>volume</th>\n",
       "      <th>pressure</th>\n",
       "      <th>sea_pressure</th>\n",
       "      <th>wind_direction</th>\n",
       "      <th>wind_speed</th>\n",
       "      <th>temperature</th>\n",
       "      <th>rel_humidity</th>\n",
       "      <th>precipitation</th>\n",
       "      <th>dayofweek</th>\n",
       "      <th>hour</th>\n",
       "      <th>...</th>\n",
       "      <th>vt0_1_0_6</th>\n",
       "      <th>vt0_1_1_6</th>\n",
       "      <th>vt0_2_0_6</th>\n",
       "      <th>vt0_3_0_6</th>\n",
       "      <th>vt0_3_1_6</th>\n",
       "      <th>vt1_1_0_6</th>\n",
       "      <th>vt1_1_1_6</th>\n",
       "      <th>vt1_2_0_6</th>\n",
       "      <th>vt1_3_0_6</th>\n",
       "      <th>vt1_3_1_6</th>\n",
       "    </tr>\n",
       "    <tr>\n",
       "      <th>time_window</th>\n",
       "      <th></th>\n",
       "      <th></th>\n",
       "      <th></th>\n",
       "      <th></th>\n",
       "      <th></th>\n",
       "      <th></th>\n",
       "      <th></th>\n",
       "      <th></th>\n",
       "      <th></th>\n",
       "      <th></th>\n",
       "      <th></th>\n",
       "      <th></th>\n",
       "      <th></th>\n",
       "      <th></th>\n",
       "      <th></th>\n",
       "      <th></th>\n",
       "      <th></th>\n",
       "      <th></th>\n",
       "      <th></th>\n",
       "      <th></th>\n",
       "      <th></th>\n",
       "    </tr>\n",
       "  </thead>\n",
       "  <tbody>\n",
       "    <tr>\n",
       "      <th>2016-09-19 00:00:00</th>\n",
       "      <td>2</td>\n",
       "      <td>1008.2</td>\n",
       "      <td>1013.2</td>\n",
       "      <td>329</td>\n",
       "      <td>2.8</td>\n",
       "      <td>22.2</td>\n",
       "      <td>76</td>\n",
       "      <td>0.0</td>\n",
       "      <td>0</td>\n",
       "      <td>0</td>\n",
       "      <td>...</td>\n",
       "      <td>NaN</td>\n",
       "      <td>NaN</td>\n",
       "      <td>NaN</td>\n",
       "      <td>NaN</td>\n",
       "      <td>NaN</td>\n",
       "      <td>NaN</td>\n",
       "      <td>NaN</td>\n",
       "      <td>NaN</td>\n",
       "      <td>NaN</td>\n",
       "      <td>NaN</td>\n",
       "    </tr>\n",
       "    <tr>\n",
       "      <th>2016-09-19 00:20:00</th>\n",
       "      <td>0</td>\n",
       "      <td>1008.2</td>\n",
       "      <td>1013.2</td>\n",
       "      <td>329</td>\n",
       "      <td>2.8</td>\n",
       "      <td>22.2</td>\n",
       "      <td>76</td>\n",
       "      <td>0.0</td>\n",
       "      <td>0</td>\n",
       "      <td>0</td>\n",
       "      <td>...</td>\n",
       "      <td>NaN</td>\n",
       "      <td>NaN</td>\n",
       "      <td>NaN</td>\n",
       "      <td>NaN</td>\n",
       "      <td>NaN</td>\n",
       "      <td>NaN</td>\n",
       "      <td>NaN</td>\n",
       "      <td>NaN</td>\n",
       "      <td>NaN</td>\n",
       "      <td>NaN</td>\n",
       "    </tr>\n",
       "    <tr>\n",
       "      <th>2016-09-19 00:40:00</th>\n",
       "      <td>0</td>\n",
       "      <td>1008.2</td>\n",
       "      <td>1013.2</td>\n",
       "      <td>329</td>\n",
       "      <td>2.8</td>\n",
       "      <td>22.2</td>\n",
       "      <td>76</td>\n",
       "      <td>0.0</td>\n",
       "      <td>0</td>\n",
       "      <td>0</td>\n",
       "      <td>...</td>\n",
       "      <td>NaN</td>\n",
       "      <td>NaN</td>\n",
       "      <td>NaN</td>\n",
       "      <td>NaN</td>\n",
       "      <td>NaN</td>\n",
       "      <td>NaN</td>\n",
       "      <td>NaN</td>\n",
       "      <td>NaN</td>\n",
       "      <td>NaN</td>\n",
       "      <td>NaN</td>\n",
       "    </tr>\n",
       "    <tr>\n",
       "      <th>2016-09-19 01:00:00</th>\n",
       "      <td>1</td>\n",
       "      <td>1008.2</td>\n",
       "      <td>1013.2</td>\n",
       "      <td>329</td>\n",
       "      <td>2.8</td>\n",
       "      <td>22.2</td>\n",
       "      <td>76</td>\n",
       "      <td>0.0</td>\n",
       "      <td>0</td>\n",
       "      <td>1</td>\n",
       "      <td>...</td>\n",
       "      <td>NaN</td>\n",
       "      <td>NaN</td>\n",
       "      <td>NaN</td>\n",
       "      <td>NaN</td>\n",
       "      <td>NaN</td>\n",
       "      <td>NaN</td>\n",
       "      <td>NaN</td>\n",
       "      <td>NaN</td>\n",
       "      <td>NaN</td>\n",
       "      <td>NaN</td>\n",
       "    </tr>\n",
       "    <tr>\n",
       "      <th>2016-09-19 01:20:00</th>\n",
       "      <td>0</td>\n",
       "      <td>1008.2</td>\n",
       "      <td>1013.2</td>\n",
       "      <td>329</td>\n",
       "      <td>2.8</td>\n",
       "      <td>22.2</td>\n",
       "      <td>76</td>\n",
       "      <td>0.0</td>\n",
       "      <td>0</td>\n",
       "      <td>1</td>\n",
       "      <td>...</td>\n",
       "      <td>NaN</td>\n",
       "      <td>NaN</td>\n",
       "      <td>NaN</td>\n",
       "      <td>NaN</td>\n",
       "      <td>NaN</td>\n",
       "      <td>NaN</td>\n",
       "      <td>NaN</td>\n",
       "      <td>NaN</td>\n",
       "      <td>NaN</td>\n",
       "      <td>NaN</td>\n",
       "    </tr>\n",
       "  </tbody>\n",
       "</table>\n",
       "<p>5 rows × 316 columns</p>\n",
       "</div>"
      ],
      "text/plain": [
       "                     volume  pressure  sea_pressure  wind_direction  \\\n",
       "time_window                                                           \n",
       "2016-09-19 00:00:00       2    1008.2        1013.2             329   \n",
       "2016-09-19 00:20:00       0    1008.2        1013.2             329   \n",
       "2016-09-19 00:40:00       0    1008.2        1013.2             329   \n",
       "2016-09-19 01:00:00       1    1008.2        1013.2             329   \n",
       "2016-09-19 01:20:00       0    1008.2        1013.2             329   \n",
       "\n",
       "                     wind_speed  temperature  rel_humidity  precipitation  \\\n",
       "time_window                                                                 \n",
       "2016-09-19 00:00:00         2.8         22.2            76            0.0   \n",
       "2016-09-19 00:20:00         2.8         22.2            76            0.0   \n",
       "2016-09-19 00:40:00         2.8         22.2            76            0.0   \n",
       "2016-09-19 01:00:00         2.8         22.2            76            0.0   \n",
       "2016-09-19 01:20:00         2.8         22.2            76            0.0   \n",
       "\n",
       "                     dayofweek  hour    ...      vt0_1_0_6  vt0_1_1_6  \\\n",
       "time_window                             ...                             \n",
       "2016-09-19 00:00:00          0     0    ...            NaN        NaN   \n",
       "2016-09-19 00:20:00          0     0    ...            NaN        NaN   \n",
       "2016-09-19 00:40:00          0     0    ...            NaN        NaN   \n",
       "2016-09-19 01:00:00          0     1    ...            NaN        NaN   \n",
       "2016-09-19 01:20:00          0     1    ...            NaN        NaN   \n",
       "\n",
       "                     vt0_2_0_6  vt0_3_0_6  vt0_3_1_6  vt1_1_0_6  vt1_1_1_6  \\\n",
       "time_window                                                                  \n",
       "2016-09-19 00:00:00        NaN        NaN        NaN        NaN        NaN   \n",
       "2016-09-19 00:20:00        NaN        NaN        NaN        NaN        NaN   \n",
       "2016-09-19 00:40:00        NaN        NaN        NaN        NaN        NaN   \n",
       "2016-09-19 01:00:00        NaN        NaN        NaN        NaN        NaN   \n",
       "2016-09-19 01:20:00        NaN        NaN        NaN        NaN        NaN   \n",
       "\n",
       "                     vt1_2_0_6  vt1_3_0_6  vt1_3_1_6  \n",
       "time_window                                           \n",
       "2016-09-19 00:00:00        NaN        NaN        NaN  \n",
       "2016-09-19 00:20:00        NaN        NaN        NaN  \n",
       "2016-09-19 00:40:00        NaN        NaN        NaN  \n",
       "2016-09-19 01:00:00        NaN        NaN        NaN  \n",
       "2016-09-19 01:20:00        NaN        NaN        NaN  \n",
       "\n",
       "[5 rows x 316 columns]"
      ]
     },
     "execution_count": 35,
     "metadata": {},
     "output_type": "execute_result"
    }
   ],
   "source": [
    "train_df.head()"
   ]
  },
  {
   "cell_type": "code",
   "execution_count": 36,
   "metadata": {
    "collapsed": false
   },
   "outputs": [
    {
     "data": {
      "text/plain": [
       "volume            84\n",
       "pressure           0\n",
       "sea_pressure       0\n",
       "wind_direction     0\n",
       "wind_speed         0\n",
       "temperature        0\n",
       "rel_humidity       0\n",
       "precipitation      0\n",
       "dayofweek          0\n",
       "hour               0\n",
       "A2_1              70\n",
       "A3_1              70\n",
       "B1_1              70\n",
       "B3_1              70\n",
       "C1_1              70\n",
       "C3_1              70\n",
       "ve0_1_0_1         70\n",
       "ve0_1_1_1         70\n",
       "ve0_2_0_1         70\n",
       "ve0_3_0_1         70\n",
       "ve0_3_1_1         70\n",
       "ve1_1_0_1         70\n",
       "ve1_1_1_1         70\n",
       "ve1_2_0_1         70\n",
       "ve1_3_0_1         70\n",
       "ve1_3_1_1         70\n",
       "vm0_1_0_1         70\n",
       "vm0_1_1_1         70\n",
       "vm0_2_0_1         70\n",
       "vm0_3_0_1         70\n",
       "                  ..\n",
       "vm1_1_0_6          0\n",
       "vm1_1_1_6          0\n",
       "vm1_2_0_6          0\n",
       "vm1_3_0_6          0\n",
       "vm1_3_1_6          0\n",
       "vm2_1_0_6          0\n",
       "vm2_1_1_6          0\n",
       "vm2_2_0_6          0\n",
       "vm2_3_0_6          0\n",
       "vm2_3_1_6          0\n",
       "vm3_1_0_6          0\n",
       "vm3_1_1_6          0\n",
       "vm3_2_0_6          0\n",
       "vm3_3_0_6          0\n",
       "vm3_3_1_6          0\n",
       "volume_1_0_6       0\n",
       "volume_1_1_6       0\n",
       "volume_2_0_6       0\n",
       "volume_3_0_6       0\n",
       "volume_3_1_6       0\n",
       "vt0_1_0_6          0\n",
       "vt0_1_1_6          0\n",
       "vt0_2_0_6          0\n",
       "vt0_3_0_6          0\n",
       "vt0_3_1_6          0\n",
       "vt1_1_0_6          0\n",
       "vt1_1_1_6          0\n",
       "vt1_2_0_6          0\n",
       "vt1_3_0_6          0\n",
       "vt1_3_1_6          0\n",
       "dtype: int64"
      ]
     },
     "execution_count": 36,
     "metadata": {},
     "output_type": "execute_result"
    }
   ],
   "source": [
    "test_df.isnull().sum()"
   ]
  },
  {
   "cell_type": "code",
   "execution_count": 30,
   "metadata": {
    "collapsed": true
   },
   "outputs": [],
   "source": [
    "all_df = pd.concat((train_df, test_df), axis=0)"
   ]
  },
  {
   "cell_type": "code",
   "execution_count": 31,
   "metadata": {
    "collapsed": false
   },
   "outputs": [
    {
     "data": {
      "text/plain": [
       "(2172, 316)"
      ]
     },
     "execution_count": 31,
     "metadata": {},
     "output_type": "execute_result"
    }
   ],
   "source": [
    "all_df.shape"
   ]
  },
  {
   "cell_type": "code",
   "execution_count": 37,
   "metadata": {
    "collapsed": false
   },
   "outputs": [
    {
     "data": {
      "text/plain": [
       "volume            84\n",
       "pressure           0\n",
       "sea_pressure       0\n",
       "wind_direction     0\n",
       "wind_speed         0\n",
       "temperature        0\n",
       "rel_humidity       0\n",
       "precipitation      0\n",
       "dayofweek          0\n",
       "hour               0\n",
       "A2_1              71\n",
       "A3_1              71\n",
       "B1_1              71\n",
       "B3_1              71\n",
       "C1_1              71\n",
       "C3_1              71\n",
       "ve0_1_0_1         71\n",
       "ve0_1_1_1         71\n",
       "ve0_2_0_1         71\n",
       "ve0_3_0_1         71\n",
       "ve0_3_1_1         71\n",
       "ve1_1_0_1         71\n",
       "ve1_1_1_1         71\n",
       "ve1_2_0_1         71\n",
       "ve1_3_0_1         71\n",
       "ve1_3_1_1         71\n",
       "vm0_1_0_1         71\n",
       "vm0_1_1_1         71\n",
       "vm0_2_0_1         71\n",
       "vm0_3_0_1         71\n",
       "                  ..\n",
       "vm1_1_0_6          6\n",
       "vm1_1_1_6          6\n",
       "vm1_2_0_6          6\n",
       "vm1_3_0_6          6\n",
       "vm1_3_1_6          6\n",
       "vm2_1_0_6          6\n",
       "vm2_1_1_6          6\n",
       "vm2_2_0_6          6\n",
       "vm2_3_0_6          6\n",
       "vm2_3_1_6          6\n",
       "vm3_1_0_6          6\n",
       "vm3_1_1_6          6\n",
       "vm3_2_0_6          6\n",
       "vm3_3_0_6          6\n",
       "vm3_3_1_6          6\n",
       "volume_1_0_6       6\n",
       "volume_1_1_6       6\n",
       "volume_2_0_6       6\n",
       "volume_3_0_6       6\n",
       "volume_3_1_6       6\n",
       "vt0_1_0_6          6\n",
       "vt0_1_1_6          6\n",
       "vt0_2_0_6          6\n",
       "vt0_3_0_6          6\n",
       "vt0_3_1_6          6\n",
       "vt1_1_0_6          6\n",
       "vt1_1_1_6          6\n",
       "vt1_2_0_6          6\n",
       "vt1_3_0_6          6\n",
       "vt1_3_1_6          6\n",
       "dtype: int64"
      ]
     },
     "execution_count": 37,
     "metadata": {},
     "output_type": "execute_result"
    }
   ],
   "source": [
    "all_df.isnull().sum()"
   ]
  },
  {
   "cell_type": "code",
   "execution_count": 9,
   "metadata": {
    "collapsed": false
   },
   "outputs": [
    {
     "data": {
      "text/plain": [
       "dtype('int64')"
      ]
     },
     "execution_count": 9,
     "metadata": {},
     "output_type": "execute_result"
    }
   ],
   "source": [
    "all_df['dayofweek'].dtypes"
   ]
  },
  {
   "cell_type": "code",
   "execution_count": 10,
   "metadata": {
    "collapsed": false
   },
   "outputs": [],
   "source": [
    "dweek = pd.get_dummies(all_df['dayofweek'], prefix='dayofweek')"
   ]
  },
  {
   "cell_type": "code",
   "execution_count": 11,
   "metadata": {
    "collapsed": true
   },
   "outputs": [],
   "source": [
    "dhour = pd.get_dummies(all_df['hour'], prefix='hour')"
   ]
  },
  {
   "cell_type": "code",
   "execution_count": 12,
   "metadata": {
    "collapsed": false
   },
   "outputs": [
    {
     "name": "stdout",
     "output_type": "stream",
     "text": [
      "<class 'pandas.core.frame.DataFrame'>\n",
      "Index: 2172 entries, 2016-09-19 00:00:00 to 2016-10-24 18:40:00\n",
      "Data columns (total 13 columns):\n",
      "hour_0     2172 non-null uint8\n",
      "hour_1     2172 non-null uint8\n",
      "hour_2     2172 non-null uint8\n",
      "hour_3     2172 non-null uint8\n",
      "hour_6     2172 non-null uint8\n",
      "hour_7     2172 non-null uint8\n",
      "hour_8     2172 non-null uint8\n",
      "hour_9     2172 non-null uint8\n",
      "hour_17    2172 non-null uint8\n",
      "hour_18    2172 non-null uint8\n",
      "hour_19    2172 non-null uint8\n",
      "hour_20    2172 non-null uint8\n",
      "hour_21    2172 non-null uint8\n",
      "dtypes: uint8(13)\n",
      "memory usage: 44.5+ KB\n"
     ]
    }
   ],
   "source": [
    "dhour.info()"
   ]
  },
  {
   "cell_type": "code",
   "execution_count": 13,
   "metadata": {
    "collapsed": true
   },
   "outputs": [],
   "source": [
    "all_df.drop(['hour'], axis=1, inplace=True)\n",
    "all_df.drop(['dayofweek'], axis=1, inplace=True)"
   ]
  },
  {
   "cell_type": "code",
   "execution_count": 14,
   "metadata": {
    "collapsed": true
   },
   "outputs": [],
   "source": [
    "all_df = pd.concat([all_df, dweek, dhour], axis=1)"
   ]
  },
  {
   "cell_type": "code",
   "execution_count": 16,
   "metadata": {
    "collapsed": false,
    "scrolled": false
   },
   "outputs": [
    {
     "data": {
      "text/plain": [
       "volume             0\n",
       "pressure           0\n",
       "sea_pressure       0\n",
       "wind_direction     0\n",
       "wind_speed         0\n",
       "temperature        0\n",
       "rel_humidity       0\n",
       "precipitation      0\n",
       "A2_1              71\n",
       "A3_1              71\n",
       "B1_1              71\n",
       "B3_1              71\n",
       "C1_1              71\n",
       "C3_1              71\n",
       "ve0_1_0_1          1\n",
       "ve0_1_1_1          1\n",
       "ve0_2_0_1          1\n",
       "ve0_3_0_1          1\n",
       "ve0_3_1_1          1\n",
       "ve1_1_0_1          1\n",
       "ve1_1_1_1          1\n",
       "ve1_2_0_1          1\n",
       "ve1_3_0_1          1\n",
       "ve1_3_1_1          1\n",
       "vm0_1_0_1          1\n",
       "vm0_1_1_1          1\n",
       "vm0_2_0_1          1\n",
       "vm0_3_0_1          1\n",
       "vm0_3_1_1          1\n",
       "vm1_1_0_1          1\n",
       "                  ..\n",
       "volume_2_0_6       6\n",
       "volume_3_0_6       6\n",
       "volume_3_1_6       6\n",
       "vt0_1_0_6          6\n",
       "vt0_1_1_6          6\n",
       "vt0_2_0_6          6\n",
       "vt0_3_0_6          6\n",
       "vt0_3_1_6          6\n",
       "vt1_1_0_6          6\n",
       "vt1_1_1_6          6\n",
       "vt1_2_0_6          6\n",
       "vt1_3_0_6          6\n",
       "vt1_3_1_6          6\n",
       "dayofweek_0        0\n",
       "dayofweek_1        0\n",
       "dayofweek_2        0\n",
       "dayofweek_3        0\n",
       "hour_0             0\n",
       "hour_1             0\n",
       "hour_2             0\n",
       "hour_3             0\n",
       "hour_6             0\n",
       "hour_7             0\n",
       "hour_8             0\n",
       "hour_9             0\n",
       "hour_17            0\n",
       "hour_18            0\n",
       "hour_19            0\n",
       "hour_20            0\n",
       "hour_21            0\n",
       "dtype: int64"
      ]
     },
     "execution_count": 16,
     "metadata": {},
     "output_type": "execute_result"
    }
   ],
   "source": [
    "all_df.isnull().sum()"
   ]
  },
  {
   "cell_type": "code",
   "execution_count": 19,
   "metadata": {
    "collapsed": false
   },
   "outputs": [
    {
     "data": {
      "text/plain": [
       "count    2101.000000\n",
       "mean      121.567768\n",
       "std        38.362154\n",
       "min        27.850000\n",
       "25%       100.060000\n",
       "50%       116.708889\n",
       "75%       132.780000\n",
       "max       760.820000\n",
       "Name: B1_1, dtype: float64"
      ]
     },
     "execution_count": 19,
     "metadata": {},
     "output_type": "execute_result"
    }
   ],
   "source": [
    "all_df['B1_1'].describe()"
   ]
  },
  {
   "cell_type": "code",
   "execution_count": null,
   "metadata": {
    "collapsed": true
   },
   "outputs": [],
   "source": []
  }
 ],
 "metadata": {
  "kernelspec": {
   "display_name": "Python [conda root]",
   "language": "python",
   "name": "conda-root-py"
  },
  "language_info": {
   "codemirror_mode": {
    "name": "ipython",
    "version": 3
   },
   "file_extension": ".py",
   "mimetype": "text/x-python",
   "name": "python",
   "nbconvert_exporter": "python",
   "pygments_lexer": "ipython3",
   "version": "3.5.3"
  }
 },
 "nbformat": 4,
 "nbformat_minor": 2
}
