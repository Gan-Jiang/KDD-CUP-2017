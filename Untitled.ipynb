{
 "cells": [
  {
   "cell_type": "code",
   "execution_count": 1,
   "metadata": {
    "collapsed": false,
    "deletable": true,
    "editable": true
   },
   "outputs": [],
   "source": [
    "import model"
   ]
  },
  {
   "cell_type": "code",
   "execution_count": 2,
   "metadata": {
    "collapsed": false,
    "deletable": true,
    "editable": true
   },
   "outputs": [
    {
     "name": "stdout",
     "output_type": "stream",
     "text": [
      "tollgate:1direction:0\n",
      "{'max_features': 0.64679606645583, 'min_samples_leaf': 0.0018631708470954124}\n",
      "1, time:841.8004243373871\n",
      "{'max_features': 0.3202021417018097, 'min_samples_leaf': 0.0013265644575727758}\n",
      "2, time:1626.5938658714294\n",
      "{'max_features': 0.6345742085737507, 'min_samples_leaf': 0.0012997493746389256}\n",
      "3, time:2452.0467245578766\n",
      "{'max_features': 0.4744152578504725, 'min_samples_leaf': 0.00153656624739312}\n",
      "4, time:3298.547387599945\n",
      "{'max_features': 0.5061564891841064, 'min_samples_leaf': 0.0021443278890594638}\n",
      "5, time:3914.778067588806\n",
      "{'max_features': 0.3091599810301733, 'min_samples_leaf': 0.0023054105860161557}\n",
      "6, time:4539.553376674652\n",
      "tollgate:1direction:1\n",
      "{'max_features': 0.43277921239483136, 'min_samples_leaf': 0.0015014198950737577}\n",
      "1, time:654.7494468688965\n",
      "{'max_features': 0.5972995888825459, 'min_samples_leaf': 0.0013509516685117847}\n",
      "2, time:1343.6843645572662\n",
      "{'max_features': 0.40817884764029816, 'min_samples_leaf': 0.0023507903943806164}\n",
      "3, time:1878.0755670070648\n",
      "{'max_features': 0.49907221706081867, 'min_samples_leaf': 0.0011907546316797918}\n",
      "4, time:2543.8665528297424\n",
      "{'max_features': 0.4063105446892203, 'min_samples_leaf': 0.0020909478116611876}\n",
      "5, time:3146.4236376285553\n",
      "{'max_features': 0.250596365831336, 'min_samples_leaf': 0.001122256416017427}\n",
      "6, time:3699.137311697006\n",
      "tollgate:2direction:0\n",
      "{'max_features': 0.6633024537169959, 'min_samples_leaf': 0.013295182796910738}\n",
      "1, time:694.3555591106415\n",
      "{'max_features': 0.6937575211634519, 'min_samples_leaf': 0.013502192505167718}\n",
      "2, time:1453.9955070018768\n",
      "{'max_features': 0.17467917985864798, 'min_samples_leaf': 0.0018633781181571164}\n",
      "3, time:2103.831859111786\n",
      "{'max_features': 0.16277823149967494, 'min_samples_leaf': 0.0013757476199636875}\n",
      "4, time:2700.3211879730225\n",
      "{'max_features': 0.4729901704314722, 'min_samples_leaf': 0.0011978295672509993}\n",
      "5, time:3487.8290021419525\n",
      "{'max_features': 0.13385424137780522, 'min_samples_leaf': 0.002654059138305693}\n",
      "6, time:4073.7626101970673\n",
      "tollgate:3direction:0\n",
      "{'max_features': 0.549318101917068, 'min_samples_leaf': 0.002622945376233347}\n",
      "1, time:671.5370235443115\n",
      "{'max_features': 0.3197860816197181, 'min_samples_leaf': 0.0011455341489850445}\n",
      "2, time:1270.6691541671753\n",
      "{'max_features': 0.4459406422640708, 'min_samples_leaf': 0.0038924921239050212}\n",
      "3, time:1852.9400312900543\n",
      "{'max_features': 0.5070484185025231, 'min_samples_leaf': 0.003822304904285531}\n",
      "4, time:2384.474076271057\n",
      "{'max_features': 0.6914869810507664, 'min_samples_leaf': 0.0013121690085907487}\n",
      "5, time:3323.378390312195\n",
      "{'max_features': 0.6198907552690465, 'min_samples_leaf': 0.0015759830839453177}\n",
      "6, time:3947.221819162369\n",
      "tollgate:3direction:1\n",
      "{'max_features': 0.6701817356983145, 'min_samples_leaf': 0.001682976530678483}\n",
      "1, time:675.5947914123535\n",
      "{'max_features': 0.5916069020155569, 'min_samples_leaf': 0.0013233900198518136}\n",
      "2, time:1503.2527389526367\n",
      "{'max_features': 0.39122615743261746, 'min_samples_leaf': 0.0018949974688863066}\n",
      "3, time:2287.443100452423\n",
      "{'max_features': 0.19224721265541425, 'min_samples_leaf': 0.001445585640386519}\n",
      "4, time:3092.357906103134\n",
      "{'max_features': 0.41348529936256445, 'min_samples_leaf': 0.0011743243243769563}\n",
      "5, time:3801.5846784114838\n",
      "{'max_features': 0.3360739814107842, 'min_samples_leaf': 0.0017415348364957777}\n",
      "6, time:4472.658366918564\n"
     ]
    }
   ],
   "source": [
    "out_file_name = 'result_03_24.csv'\n",
    "test_path = \"dataSets/testing_phase1/\"\n",
    "fw = open(test_path + out_file_name, 'a')\n",
    "fw.writelines(','.join(['\"tollgate_id\"', '\"time_window\"', '\"direction\"', '\"volume\"']) + '\\n')\n",
    "fw.close()\n",
    "\n",
    "T_loss = 0\n",
    "print('tollgate:' + str(1) + 'direction:' + str(0))\n",
    "total_loss = model.main(1, 0)\n",
    "T_loss += total_loss\n",
    "print('tollgate:' + str(1) + 'direction:' + str(1))\n",
    "\n",
    "total_loss = model.main(1, 1)\n",
    "T_loss += total_loss\n",
    "\n",
    "print('tollgate:' + str(2) + 'direction:' + str(0))\n",
    "\n",
    "total_loss = model.main(2, 0)\n",
    "\n",
    "\n",
    "T_loss += total_loss\n",
    "print('tollgate:' + str(3) + 'direction:' + str(0))\n",
    "\n",
    "total_loss = model.main(3, 0)\n",
    "T_loss += total_loss\n",
    "\n",
    "print('tollgate:' + str(3) + 'direction:' + str(1))\n",
    "\n",
    "total_loss = model.main(3, 1)\n",
    "T_loss += total_loss\n",
    "T_loss = T_loss/5\n",
    "\n",
    "test_path = \"dataSets/testing_phase1/\"\n",
    "out_file_name2 = 'cv_loss.csv'\n",
    "fw2 = open(test_path + out_file_name2, 'a')\n",
    "fw2.writelines(str(T_loss) + '\\n')\n",
    "fw2.close()"
   ]
  },
  {
   "cell_type": "code",
   "execution_count": null,
   "metadata": {
    "collapsed": true,
    "deletable": true,
    "editable": true
   },
   "outputs": [],
   "source": []
  }
 ],
 "metadata": {
  "kernelspec": {
   "display_name": "Python [conda root]",
   "language": "python",
   "name": "conda-root-py"
  },
  "language_info": {
   "codemirror_mode": {
    "name": "ipython",
    "version": 3
   },
   "file_extension": ".py",
   "mimetype": "text/x-python",
   "name": "python",
   "nbconvert_exporter": "python",
   "pygments_lexer": "ipython3",
   "version": "3.5.3"
  }
 },
 "nbformat": 4,
 "nbformat_minor": 2
}
