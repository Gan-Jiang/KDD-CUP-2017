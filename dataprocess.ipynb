{
 "cells": [
  {
   "cell_type": "code",
   "execution_count": 1,
   "metadata": {
    "collapsed": true
   },
   "outputs": [],
   "source": [
    "import numpy as np\n",
    "import pandas as pd\n",
    "import util\n",
    "import ml_alg\n",
    "import matplotlib.pyplot as plt\n",
    "%matplotlib inline"
   ]
  },
  {
   "cell_type": "code",
   "execution_count": 2,
   "metadata": {
    "collapsed": true
   },
   "outputs": [],
   "source": [
    "train_path = 'dataSets/training/'\n",
    "test_path = \"dataSets/testing_phase1/\""
   ]
  },
  {
   "cell_type": "code",
   "execution_count": 3,
   "metadata": {
    "collapsed": true
   },
   "outputs": [],
   "source": [
    "volume_data = pd.read_csv(train_path + 'volume(table 6)_training.csv', header = 0, error_bad_lines=False)\n",
    "weather_data = pd.read_csv(train_path + 'weather (table 7)_training.csv', header = 0, error_bad_lines=False)\n",
    "trajectories = pd.read_csv(train_path + 'trajectories(table 5)_training.csv', header = 0, error_bad_lines=False)\n",
    "route = pd.read_csv(train_path + 'routes (table 4).csv', header = 0, error_bad_lines=False)\n",
    "links = pd.read_csv(train_path + 'links (table 3).csv', header = 0, error_bad_lines=False)"
   ]
  },
  {
   "cell_type": "code",
   "execution_count": 4,
   "metadata": {
    "collapsed": true
   },
   "outputs": [],
   "source": [
    "test_trajectories = pd.read_csv(test_path + 'trajectories(table 5)_test1.csv', header = 0, error_bad_lines=False)\n",
    "test_volume_data = pd.read_csv(test_path + 'volume(table 6)_test1.csv', header = 0, error_bad_lines=False)\n",
    "test_weather_data = pd.read_csv(test_path + 'weather (table 7)_test1.csv', header = 0, error_bad_lines=False)"
   ]
  },
  {
   "cell_type": "markdown",
   "metadata": {},
   "source": [
    "# Get the volume count for each time window"
   ]
  },
  {
   "cell_type": "code",
   "execution_count": 5,
   "metadata": {
    "collapsed": false
   },
   "outputs": [],
   "source": [
    "import aggregate_volume"
   ]
  },
  {
   "cell_type": "code",
   "execution_count": 6,
   "metadata": {
    "collapsed": false
   },
   "outputs": [],
   "source": [
    "aggregate_volume.main()"
   ]
  },
  {
   "cell_type": "code",
   "execution_count": 7,
   "metadata": {
    "collapsed": true
   },
   "outputs": [],
   "source": [
    "avg_volume_data = pd.read_csv(train_path + 'training_20min_avg_volume.csv', header = 0, error_bad_lines=False)"
   ]
  },
  {
   "cell_type": "code",
   "execution_count": 8,
   "metadata": {
    "collapsed": false
   },
   "outputs": [
    {
     "data": {
      "text/html": [
       "<div>\n",
       "<table border=\"1\" class=\"dataframe\">\n",
       "  <thead>\n",
       "    <tr style=\"text-align: right;\">\n",
       "      <th></th>\n",
       "      <th>tollgate_id</th>\n",
       "      <th>time_window</th>\n",
       "      <th>direction</th>\n",
       "      <th>volume</th>\n",
       "    </tr>\n",
       "  </thead>\n",
       "  <tbody>\n",
       "    <tr>\n",
       "      <th>0</th>\n",
       "      <td>3</td>\n",
       "      <td>[2016-09-19 00:00:00,2016-09-19 00:20:00)</td>\n",
       "      <td>0</td>\n",
       "      <td>17</td>\n",
       "    </tr>\n",
       "    <tr>\n",
       "      <th>1</th>\n",
       "      <td>3</td>\n",
       "      <td>[2016-09-19 00:00:00,2016-09-19 00:20:00)</td>\n",
       "      <td>1</td>\n",
       "      <td>181</td>\n",
       "    </tr>\n",
       "    <tr>\n",
       "      <th>2</th>\n",
       "      <td>2</td>\n",
       "      <td>[2016-09-19 00:00:00,2016-09-19 00:20:00)</td>\n",
       "      <td>0</td>\n",
       "      <td>2</td>\n",
       "    </tr>\n",
       "    <tr>\n",
       "      <th>3</th>\n",
       "      <td>1</td>\n",
       "      <td>[2016-09-19 00:00:00,2016-09-19 00:20:00)</td>\n",
       "      <td>0</td>\n",
       "      <td>13</td>\n",
       "    </tr>\n",
       "    <tr>\n",
       "      <th>4</th>\n",
       "      <td>1</td>\n",
       "      <td>[2016-09-19 00:00:00,2016-09-19 00:20:00)</td>\n",
       "      <td>1</td>\n",
       "      <td>140</td>\n",
       "    </tr>\n",
       "  </tbody>\n",
       "</table>\n",
       "</div>"
      ],
      "text/plain": [
       "   tollgate_id                                time_window  direction  volume\n",
       "0            3  [2016-09-19 00:00:00,2016-09-19 00:20:00)          0      17\n",
       "1            3  [2016-09-19 00:00:00,2016-09-19 00:20:00)          1     181\n",
       "2            2  [2016-09-19 00:00:00,2016-09-19 00:20:00)          0       2\n",
       "3            1  [2016-09-19 00:00:00,2016-09-19 00:20:00)          0      13\n",
       "4            1  [2016-09-19 00:00:00,2016-09-19 00:20:00)          1     140"
      ]
     },
     "execution_count": 8,
     "metadata": {},
     "output_type": "execute_result"
    }
   ],
   "source": [
    "avg_volume_data.head()"
   ]
  },
  {
   "cell_type": "code",
   "execution_count": 9,
   "metadata": {
    "collapsed": false
   },
   "outputs": [
    {
     "name": "stdout",
     "output_type": "stream",
     "text": [
      "<class 'pandas.core.frame.DataFrame'>\n",
      "RangeIndex: 10063 entries, 0 to 10062\n",
      "Data columns (total 4 columns):\n",
      "tollgate_id    10063 non-null int64\n",
      "time_window    10063 non-null object\n",
      "direction      10063 non-null int64\n",
      "volume         10063 non-null int64\n",
      "dtypes: int64(3), object(1)\n",
      "memory usage: 314.5+ KB\n"
     ]
    }
   ],
   "source": [
    "avg_volume_data.info()"
   ]
  },
  {
   "cell_type": "code",
   "execution_count": null,
   "metadata": {
    "collapsed": true
   },
   "outputs": [],
   "source": []
  }
 ],
 "metadata": {
  "kernelspec": {
   "display_name": "Python [conda root]",
   "language": "python",
   "name": "conda-root-py"
  },
  "language_info": {
   "codemirror_mode": {
    "name": "ipython",
    "version": 3
   },
   "file_extension": ".py",
   "mimetype": "text/x-python",
   "name": "python",
   "nbconvert_exporter": "python",
   "pygments_lexer": "ipython3",
   "version": "3.5.3"
  }
 },
 "nbformat": 4,
 "nbformat_minor": 2
}
